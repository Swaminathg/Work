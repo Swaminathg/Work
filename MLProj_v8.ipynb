{
 "cells": [
  {
   "cell_type": "markdown",
   "metadata": {},
   "source": [
    "## Group Project notebook by Group 12\n",
    "\n",
    "* Topic: Determining asked Price of used cars in US (advertised on Truecar.com in 2018) using predictor variables\n",
    "* ML models used: Linear regression, Decision Tree, Random forest\n",
    "\n",
    "* The code has 10 sections:\n",
    "* Part A) Reading in data, checking dataframe shape, format of columns and unique number of entries by each column\n",
    "* Part B) Data Munging/Cleaning\n",
    "* Part C) Checking distribution of data\n",
    "* Part D) Exploratory data analysis - graphs\n",
    "* Part E): Feature Engineering work\n",
    "* PART F): Preparing data for modeling\n",
    "* Part G): Pipeline for Training and Testing dataset\n",
    "* Part H): Develop, Train and Test Model using Scikit-Learn\n",
    "* Part H.a): Linear Regression\n",
    "* Part H.b): Decision Tree Regressor\n",
    "* Part H.c): Random Forest Regressor\n",
    "* Part I): Execute Random Forest using Spark ML and perform Grid search\n",
    "* Part J): Comparison between the different models and Conclusion \n",
    "\n",
    "\n",
    "## Group members:\n",
    "* Gurunath Gandikota (1916016)\n",
    "* Swaminath Gowrishankar (1916018)\n",
    "* Shekhar Kanodia (1916026)\n",
    "* Pusparghya Pakrasi (1916043)"
   ]
  },
  {
   "cell_type": "code",
   "execution_count": 2,
   "metadata": {},
   "outputs": [],
   "source": [
    "# Import libraries\n",
    "\n",
    "from pyspark.sql import SQLContext\n",
    "import matplotlib\n",
    "import matplotlib.pyplot as plt\n",
    "from pyspark.sql import Row\n",
    "from pyspark.sql.functions import UserDefinedFunction\n",
    "from pyspark.sql.types import *\n",
    "import atexit\n",
    "from numpy import array\n",
    "import numpy as np\n",
    "import pandas as pd\n",
    "import datetime"
   ]
  },
  {
   "cell_type": "code",
   "execution_count": 3,
   "metadata": {},
   "outputs": [],
   "source": [
    "# Print all outputs in a block - not just the last one\n",
    "from IPython.core.interactiveshell import InteractiveShell\n",
    "InteractiveShell.ast_node_interactivity = \"all\""
   ]
  },
  {
   "cell_type": "code",
   "execution_count": 4,
   "metadata": {},
   "outputs": [],
   "source": [
    "import pyspark\n",
    "\n",
    "from pyspark import SparkContext\n",
    "from pyspark.sql.session import SparkSession"
   ]
  },
  {
   "cell_type": "code",
   "execution_count": 5,
   "metadata": {},
   "outputs": [],
   "source": [
    "sc = SparkContext('local')\n",
    "spark = SparkSession(sc)"
   ]
  },
  {
   "cell_type": "markdown",
   "metadata": {},
   "source": [
    "## (Part A) Reading in data, checking dataframe shape, format of columns and unique number of entries by each column"
   ]
  },
  {
   "cell_type": "code",
   "execution_count": 155,
   "metadata": {},
   "outputs": [],
   "source": [
    "#Importing data hosted on AWS location\n",
    "\n",
    "#(1) Used car dataset:\n",
    "url=\"https://aws-logs-460894893345-us-east-1.s3.amazonaws.com/tc20171021.csv\"\n",
    "from pyspark import SparkFiles\n",
    "spark.sparkContext.addFile(url)\n",
    "usedcar_data_trans = spark.read.csv(SparkFiles.get(\"tc20171021.csv\"), header=True, inferSchema=True)\n",
    "\n",
    "#(2) US State wise Median income dataset from US Labor website:\n",
    "url1=\"https://aws-logs-460894893345-us-east-1.s3.amazonaws.com/Median_inc_2018.csv\"\n",
    "from pyspark import SparkFiles\n",
    "spark.sparkContext.addFile(url1)\n",
    "median_income = spark.read.csv(SparkFiles.get(\"Median_inc_2018.csv\"), header=True, inferSchema=True)"
   ]
  },
  {
   "cell_type": "code",
   "execution_count": 7,
   "metadata": {},
   "outputs": [
    {
     "name": "stdout",
     "output_type": "stream",
     "text": [
      "+---+-----+----+-------+--------------+-----+-----------------+-----+-----------------+\n",
      "| Id|Price|Year|Mileage|          City|State|              Vin| Make|            Model|\n",
      "+---+-----+----+-------+--------------+-----+-----------------+-----+-----------------+\n",
      "|  1|16472|2015|  18681|Jefferson City|   MO|KL4CJBSBXFB267643|Buick|EncoreConvenience|\n",
      "|  2|15749|2015|  27592|      Highland|   IN|KL4CJASB5FB245057|Buick|        EncoreFWD|\n",
      "|  3|16998|2015|  13650|         Boone|   NC|KL4CJCSB0FB264921|Buick|    EncoreLeather|\n",
      "|  4|15777|2015|  25195|   New Orleans|   LA|KL4CJASB4FB217542|Buick|        EncoreFWD|\n",
      "|  5|16784|2015|  22800|     Las Vegas|   NV|KL4CJBSB3FB166881|Buick|EncoreConvenience|\n",
      "|  6|17020|2016|  16877|  Grand Island|   NY|KL4CJASB7GB536760|Buick|        EncoreFWD|\n",
      "+---+-----+----+-------+--------------+-----+-----------------+-----+-----------------+\n",
      "only showing top 6 rows\n",
      "\n"
     ]
    }
   ],
   "source": [
    "usedcar_data_trans.show(6)"
   ]
  },
  {
   "cell_type": "code",
   "execution_count": 7,
   "metadata": {},
   "outputs": [
    {
     "name": "stdout",
     "output_type": "stream",
     "text": [
      "root\n",
      " |-- Id: integer (nullable = true)\n",
      " |-- Price: integer (nullable = true)\n",
      " |-- Year: integer (nullable = true)\n",
      " |-- Mileage: integer (nullable = true)\n",
      " |-- City: string (nullable = true)\n",
      " |-- State: string (nullable = true)\n",
      " |-- Vin: string (nullable = true)\n",
      " |-- Make: string (nullable = true)\n",
      " |-- Model: string (nullable = true)\n",
      "\n"
     ]
    }
   ],
   "source": [
    "usedcar_data_trans.printSchema()"
   ]
  },
  {
   "cell_type": "code",
   "execution_count": 8,
   "metadata": {},
   "outputs": [
    {
     "name": "stdout",
     "output_type": "stream",
     "text": [
      "Number of rows:1,233,042 Number of columns: 9\n"
     ]
    }
   ],
   "source": [
    "#Printing number of rows and columns\n",
    "print(\"Number of rows:\"+\"{:,}\".format(usedcar_data_trans.count()), \"Number of columns:\",len(usedcar_data_trans.columns))"
   ]
  },
  {
   "cell_type": "code",
   "execution_count": 8,
   "metadata": {},
   "outputs": [
    {
     "data": {
      "text/plain": [
       "[('Id', 'int'),\n",
       " ('Price', 'int'),\n",
       " ('Year', 'int'),\n",
       " ('Mileage', 'int'),\n",
       " ('City', 'string'),\n",
       " ('State', 'string'),\n",
       " ('Vin', 'string'),\n",
       " ('Make', 'string'),\n",
       " ('Model', 'string')]"
      ]
     },
     "execution_count": 8,
     "metadata": {},
     "output_type": "execute_result"
    }
   ],
   "source": [
    "#Data type format of the columns in dataset\n",
    "usedcar_data_trans.dtypes"
   ]
  },
  {
   "cell_type": "code",
   "execution_count": 9,
   "metadata": {},
   "outputs": [
    {
     "name": "stdout",
     "output_type": "stream",
     "text": [
      "+-------+------------------+-----------------+------------------+\n",
      "|summary|             Price|          Mileage|              Year|\n",
      "+-------+------------------+-----------------+------------------+\n",
      "|  count|           1233042|          1233042|           1233042|\n",
      "|   mean|21084.749881999152|52771.75223309506|2013.3251008481463|\n",
      "| stddev|13142.316183328494|81434.85511629721| 3.423717133938921|\n",
      "|    min|              1500|                5|              1997|\n",
      "|    max|            499500|         77587763|              2018|\n",
      "+-------+------------------+-----------------+------------------+\n",
      "\n"
     ]
    }
   ],
   "source": [
    "#Describing the dataset\n",
    "usedcar_data_trans.describe('Price','Mileage','Year').show()"
   ]
  },
  {
   "cell_type": "code",
   "execution_count": 14,
   "metadata": {},
   "outputs": [
    {
     "data": {
      "text/plain": [
       "58"
      ]
     },
     "execution_count": 14,
     "metadata": {},
     "output_type": "execute_result"
    }
   ],
   "source": [
    "#Distrinct number of Car Make entities in our data\n",
    "usedcar_data_trans.select('Make').distinct().count()"
   ]
  },
  {
   "cell_type": "code",
   "execution_count": 15,
   "metadata": {},
   "outputs": [
    {
     "data": {
      "text/plain": [
       "3110"
      ]
     },
     "execution_count": 15,
     "metadata": {},
     "output_type": "execute_result"
    }
   ],
   "source": [
    "#Distrinct number of Car Model entities in our data\n",
    "usedcar_data_trans.select('Model').distinct().count()"
   ]
  },
  {
   "cell_type": "code",
   "execution_count": 16,
   "metadata": {},
   "outputs": [
    {
     "data": {
      "text/plain": [
       "59"
      ]
     },
     "execution_count": 16,
     "metadata": {},
     "output_type": "execute_result"
    }
   ],
   "source": [
    "#Distrinct number of US States in our data\n",
    "usedcar_data_trans.select('State').distinct().count()"
   ]
  },
  {
   "cell_type": "markdown",
   "metadata": {},
   "source": [
    "There are 59 distinct US states which seems data anomaly. there should be 51 including Washington D.C."
   ]
  },
  {
   "cell_type": "markdown",
   "metadata": {},
   "source": [
    "## (Part B) Data Munging/Cleaning"
   ]
  },
  {
   "cell_type": "markdown",
   "metadata": {},
   "source": [
    "### B.1: Fixing US state column"
   ]
  },
  {
   "cell_type": "code",
   "execution_count": 17,
   "metadata": {
    "scrolled": false
   },
   "outputs": [
    {
     "name": "stdout",
     "output_type": "stream",
     "text": [
      "+-----+\n",
      "|State|\n",
      "+-----+\n",
      "|   AK|\n",
      "|   AL|\n",
      "|   AR|\n",
      "|   AZ|\n",
      "|   Az|\n",
      "|   CA|\n",
      "|   CO|\n",
      "|   CT|\n",
      "|   Ca|\n",
      "|   DC|\n",
      "|   DE|\n",
      "|   FL|\n",
      "|   Fl|\n",
      "|   GA|\n",
      "|   Ga|\n",
      "|   HI|\n",
      "|   IA|\n",
      "|   ID|\n",
      "|   IL|\n",
      "|   IN|\n",
      "|   KS|\n",
      "|   KY|\n",
      "|   LA|\n",
      "|   MA|\n",
      "|   MD|\n",
      "|   ME|\n",
      "|   MI|\n",
      "|   MN|\n",
      "|   MO|\n",
      "|   MS|\n",
      "|   MT|\n",
      "|   Md|\n",
      "|   NC|\n",
      "|   ND|\n",
      "|   NE|\n",
      "|   NH|\n",
      "|   NJ|\n",
      "|   NM|\n",
      "|   NV|\n",
      "|   NY|\n",
      "|   OH|\n",
      "|   OK|\n",
      "|   OR|\n",
      "|   Oh|\n",
      "|   PA|\n",
      "|   RI|\n",
      "|   SC|\n",
      "|   SD|\n",
      "|   TN|\n",
      "|   TX|\n",
      "|   UT|\n",
      "|   VA|\n",
      "|   VT|\n",
      "|   Va|\n",
      "|   WA|\n",
      "|   WI|\n",
      "|   WV|\n",
      "|   WY|\n",
      "|   ga|\n",
      "+-----+\n",
      "\n"
     ]
    }
   ],
   "source": [
    "usedcar_data_trans.select('State').distinct().sort('State').show(59)"
   ]
  },
  {
   "cell_type": "markdown",
   "metadata": {},
   "source": [
    "There are discrepancies such as FL and Fl; CA and Ca; GA, Ga, ga; MD and Md, VA and Va, OH and Oh; AZ and Az etc. These need to be rectified\n",
    "\n",
    "Fl -> FL\n",
    "Ca -> CA\n",
    "Ga, ga -> GA\n",
    "Md -> MD\n",
    "Va -> VA\n",
    "Oh -> OH\n",
    "Az -> AZ"
   ]
  },
  {
   "cell_type": "code",
   "execution_count": 8,
   "metadata": {},
   "outputs": [],
   "source": [
    "#Converting to uppercase\n",
    "from pyspark.sql import functions as f\n",
    "\n",
    "usedcar_data_trans = usedcar_data_trans.withColumn(\n",
    "                    \"New_state\",\n",
    "                    f.upper(f.col(\"State\")))"
   ]
  },
  {
   "cell_type": "code",
   "execution_count": 7,
   "metadata": {},
   "outputs": [
    {
     "data": {
      "text/plain": [
       "51"
      ]
     },
     "execution_count": 7,
     "metadata": {},
     "output_type": "execute_result"
    }
   ],
   "source": [
    "usedcar_data_trans.select('New_state').distinct().count()"
   ]
  },
  {
   "cell_type": "markdown",
   "metadata": {},
   "source": [
    "### The text issue with states is fixed, there are 51 distinct entries now"
   ]
  },
  {
   "cell_type": "markdown",
   "metadata": {},
   "source": [
    "## (Part C) Checking distribution of data"
   ]
  },
  {
   "cell_type": "code",
   "execution_count": 12,
   "metadata": {},
   "outputs": [
    {
     "name": "stdout",
     "output_type": "stream",
     "text": [
      "+----+------------------+------------------+---------+\n",
      "|Year|        avg(Price)|      avg(Mileage)|count(Id)|\n",
      "+----+------------------+------------------+---------+\n",
      "|2015|24615.905655765964| 34656.79936193149|   229129|\n",
      "|2014| 21703.80348812269| 43089.46589182619|   223788|\n",
      "|2016|24932.604984675283|26357.137425447316|   193152|\n",
      "|2017|  28778.8686778498|16424.106349920556|   142238|\n",
      "|2013|18816.130736808507| 61551.20742159265|   106527|\n",
      "|2012|  17054.4381062451| 74453.66020005228|    72681|\n",
      "|2011|16071.988533831305| 84790.37079181138|    57299|\n",
      "|2010|14043.746532937097| 91808.72161961367|    40380|\n",
      "|2008|12460.298379597012|108415.34056643653|    35485|\n",
      "|2007|11406.312046922367|115839.88753789377|    30348|\n",
      "|2009|12758.257511822481| 98966.13470352856|    27490|\n",
      "|2006|10385.330745630346|  120986.335626627|    21512|\n",
      "|2005| 9422.703347465671|126704.39530468898|    15803|\n",
      "|2004| 8751.952689620339| 131166.0053876589|    11879|\n",
      "|2003| 8126.114951071473|134031.12089681654|     8073|\n",
      "|2002| 7935.906728110599|135707.61032258064|     5425|\n",
      "|2001| 7089.941270263088|139245.87722561785|     3763|\n",
      "|2000| 6808.016666666666| 141175.7097826087|     2760|\n",
      "|1999| 6865.117974401781| 146414.2776850306|     1797|\n",
      "|2018| 39481.06617192332| 1711.677798392084|     1617|\n",
      "+----+------------------+------------------+---------+\n",
      "only showing top 20 rows\n",
      "\n"
     ]
    }
   ],
   "source": [
    "usedcar_data_trans.groupBy(\"Year\").agg({'Id':'count','Price': 'mean','Mileage': 'mean'}).sort(\"count(ID)\",ascending=False).show()"
   ]
  },
  {
   "cell_type": "code",
   "execution_count": 21,
   "metadata": {},
   "outputs": [
    {
     "name": "stdout",
     "output_type": "stream",
     "text": [
      "+---------+------------------+------------------+---------+\n",
      "|New_state|        avg(Price)|      avg(Mileage)|count(Id)|\n",
      "+---------+------------------+------------------+---------+\n",
      "|       TX|23205.636322588383| 51571.83236325411|   141741|\n",
      "|       CA|21234.500565742765| 48262.45188595317|   115777|\n",
      "|       FL| 20719.37049364731| 46260.66043076583|   108458|\n",
      "|       GA| 21100.48434060081| 56016.99188622967|    56324|\n",
      "|       IL|20827.914986790198|   51977.986573052|    55262|\n",
      "|       NC|21095.673322459083| 56478.09816825093|    53337|\n",
      "|       VA| 18741.56700864693| 61228.31052345152|    49613|\n",
      "|       PA|21130.626240352813|48807.757491118464|    40815|\n",
      "|       NJ| 21228.44627070749| 50329.00552199725|    38573|\n",
      "|       NY|22042.091490138788|45039.849890430974|    38332|\n",
      "|       OH| 18464.37292085409| 57420.75449328556|    34329|\n",
      "|       WA| 21488.29743543759| 58175.70032281205|    33456|\n",
      "|       CO|20995.879213398683|63689.869952190515|    33257|\n",
      "|       AZ|19912.956773202397|54220.869024309424|    33197|\n",
      "|       TN|20963.398929909043| 60914.42578919208|    28035|\n",
      "|       MA|21308.914204329663| 43063.93562476263|    26330|\n",
      "|       MD|20477.290866601754|47094.814099318406|    25675|\n",
      "|       IN| 19449.98500381259| 58879.09027365924|    23606|\n",
      "|       MO| 20840.32531198092| 53430.99480386729|    23479|\n",
      "|       KY| 20144.04190693975| 49597.77918075164|    20116|\n",
      "|       AL|21881.348071595992| 56793.06376518219|    18772|\n",
      "|       WI| 20464.50643360039|50502.909565428505|    16476|\n",
      "|       MN| 20857.26872933691|  56339.1409144782|    16031|\n",
      "|       UT|  21262.9444045677| 53792.85324632953|    15325|\n",
      "|       MI| 18886.05364961119| 59070.29602038816|    15303|\n",
      "|       OK| 21249.83568199947| 57156.78144110609|    15044|\n",
      "|       CT|18634.744669473966|  52125.0653699619|    14961|\n",
      "|       OR|21699.070575607137| 55241.82255467597|    14906|\n",
      "|       SC| 20696.90891310422|  57082.6457809444|    14316|\n",
      "|       LA|22651.757421908613| 50592.35151880217|    11621|\n",
      "|       KS|20339.058823529413| 55087.55720946915|    11152|\n",
      "|       NV|20498.890492116578| 50306.39885332059|    10465|\n",
      "|       AR|22959.521537510303| 50402.12819455894|     9704|\n",
      "|       MS|23365.633679354094| 56229.39953863899|     8670|\n",
      "|       NH| 20771.30516826923| 51009.72055288462|     8320|\n",
      "|       NE|21802.892411143133|   63083.482365857|     7287|\n",
      "|       NM| 22646.34179879332| 49694.06342079416|     7127|\n",
      "|       IA|21416.134687953556| 60200.19274310595|     6890|\n",
      "|       ID|20512.622593320237|63713.966601178785|     5090|\n",
      "|       HI| 17042.23128342246|  59430.2449197861|     3740|\n",
      "|       DE|21347.755953973774| 42034.93283382392|     3737|\n",
      "|       MT|24417.711771177117|63210.898789878986|     2727|\n",
      "|       ME|22123.733511246664|49177.269157453295|     2623|\n",
      "|       RI|21984.852080123266| 42267.42835130971|     2596|\n",
      "|       AK|20853.994320664046| 56308.84665792923|     2289|\n",
      "|       WV|22921.719167904903|44381.878157503714|     2019|\n",
      "|       ND| 20558.94568690096| 67402.59158679446|     1878|\n",
      "|       SD| 24051.72218917311|  67305.9506246282|     1681|\n",
      "|       VT|18690.725210628647| 53671.61049902787|     1543|\n",
      "|       WY|24548.950396825396| 60667.08432539683|     1008|\n",
      "|       DC|12140.137931034482|122420.93103448275|       29|\n",
      "+---------+------------------+------------------+---------+\n",
      "\n"
     ]
    }
   ],
   "source": [
    "usedcar_data_trans.groupBy(\"New_state\").agg({'Id':'count','Price': 'mean','Mileage': 'mean'}).sort(\"count(ID)\",ascending=False).show(51)"
   ]
  },
  {
   "cell_type": "code",
   "execution_count": 22,
   "metadata": {},
   "outputs": [
    {
     "name": "stdout",
     "output_type": "stream",
     "text": [
      "+---------+------------------+------------------+---------+\n",
      "|New_state|        avg(Price)|      avg(Mileage)|count(Id)|\n",
      "+---------+------------------+------------------+---------+\n",
      "|       WY|24548.950396825396| 60667.08432539683|     1008|\n",
      "|       MT|24417.711771177117|63210.898789878986|     2727|\n",
      "|       SD| 24051.72218917311|  67305.9506246282|     1681|\n",
      "|       MS|23365.633679354094| 56229.39953863899|     8670|\n",
      "|       TX|23205.636322588383| 51571.83236325411|   141741|\n",
      "|       AR|22959.521537510303| 50402.12819455894|     9704|\n",
      "|       WV|22921.719167904903|44381.878157503714|     2019|\n",
      "|       LA|22651.757421908613| 50592.35151880217|    11621|\n",
      "|       NM| 22646.34179879332| 49694.06342079416|     7127|\n",
      "|       ME|22123.733511246664|49177.269157453295|     2623|\n",
      "|       NY|22042.091490138788|45039.849890430974|    38332|\n",
      "|       RI|21984.852080123266| 42267.42835130971|     2596|\n",
      "|       AL|21881.348071595992| 56793.06376518219|    18772|\n",
      "|       NE|21802.892411143133|   63083.482365857|     7287|\n",
      "|       OR|21699.070575607137| 55241.82255467597|    14906|\n",
      "|       WA| 21488.29743543759| 58175.70032281205|    33456|\n",
      "|       IA|21416.134687953556| 60200.19274310595|     6890|\n",
      "|       DE|21347.755953973774| 42034.93283382392|     3737|\n",
      "|       MA|21308.914204329663| 43063.93562476263|    26330|\n",
      "|       UT|  21262.9444045677| 53792.85324632953|    15325|\n",
      "|       OK| 21249.83568199947| 57156.78144110609|    15044|\n",
      "|       CA|21234.500565742765| 48262.45188595317|   115777|\n",
      "|       NJ| 21228.44627070749| 50329.00552199725|    38573|\n",
      "|       PA|21130.626240352813|48807.757491118464|    40815|\n",
      "|       GA| 21100.48434060081| 56016.99188622967|    56324|\n",
      "|       NC|21095.673322459083| 56478.09816825093|    53337|\n",
      "|       CO|20995.879213398683|63689.869952190515|    33257|\n",
      "|       TN|20963.398929909043| 60914.42578919208|    28035|\n",
      "|       MN| 20857.26872933691|  56339.1409144782|    16031|\n",
      "|       AK|20853.994320664046| 56308.84665792923|     2289|\n",
      "|       MO| 20840.32531198092| 53430.99480386729|    23479|\n",
      "|       IL|20827.914986790198|   51977.986573052|    55262|\n",
      "|       NH| 20771.30516826923| 51009.72055288462|     8320|\n",
      "|       FL| 20719.37049364731| 46260.66043076583|   108458|\n",
      "|       SC| 20696.90891310422|  57082.6457809444|    14316|\n",
      "|       ND| 20558.94568690096| 67402.59158679446|     1878|\n",
      "|       ID|20512.622593320237|63713.966601178785|     5090|\n",
      "|       NV|20498.890492116578| 50306.39885332059|    10465|\n",
      "|       MD|20477.290866601754|47094.814099318406|    25675|\n",
      "|       WI| 20464.50643360039|50502.909565428505|    16476|\n",
      "|       KS|20339.058823529413| 55087.55720946915|    11152|\n",
      "|       KY| 20144.04190693975| 49597.77918075164|    20116|\n",
      "|       AZ|19912.956773202397|54220.869024309424|    33197|\n",
      "|       IN| 19449.98500381259| 58879.09027365924|    23606|\n",
      "|       MI| 18886.05364961119| 59070.29602038816|    15303|\n",
      "|       VA| 18741.56700864693| 61228.31052345152|    49613|\n",
      "|       VT|18690.725210628647| 53671.61049902787|     1543|\n",
      "|       CT|18634.744669473966|  52125.0653699619|    14961|\n",
      "|       OH| 18464.37292085409| 57420.75449328556|    34329|\n",
      "|       HI| 17042.23128342246|  59430.2449197861|     3740|\n",
      "|       DC|12140.137931034482|122420.93103448275|       29|\n",
      "+---------+------------------+------------------+---------+\n",
      "\n"
     ]
    }
   ],
   "source": [
    "usedcar_data_trans.groupBy(\"New_state\").agg({'Id':'count','Price': 'mean','Mileage': 'mean'}).sort(\"avg(Price)\",ascending=False).show(51)"
   ]
  },
  {
   "cell_type": "markdown",
   "metadata": {},
   "source": [
    "#### Most the used cars listings are from Texas, followed by California and then Florida. In terms of average price asked, Texas comes 5th, Californi and Florida are way below"
   ]
  },
  {
   "cell_type": "code",
   "execution_count": 23,
   "metadata": {},
   "outputs": [
    {
     "name": "stdout",
     "output_type": "stream",
     "text": [
      "+-------------+------------------+------------------+---------+\n",
      "|         Make|        avg(Price)|      avg(Mileage)|count(Id)|\n",
      "+-------------+------------------+------------------+---------+\n",
      "|         Ford|21311.796720967413| 57283.25005709912|   161999|\n",
      "|    Chevrolet| 21770.09218486166|  54561.4084466781|   150426|\n",
      "|       Toyota|19382.693094715803| 56534.49138215789|   118069|\n",
      "|       Nissan|16620.979029480295| 46231.91215682302|    98710|\n",
      "|        Honda|16670.602575442248|57588.277211238295|    76880|\n",
      "|         Jeep|22286.489746862724| 48777.57921522471|    60323|\n",
      "|      Hyundai|14298.765531502188|47737.850531593685|    54647|\n",
      "|        Dodge|18022.711726641413| 60832.63630445076|    50688|\n",
      "|          GMC|28162.684887908003| 59596.93711232431|    43045|\n",
      "|          Kia|15388.701055236494| 43430.19764672923|    42834|\n",
      "|Mercedes-Benz| 31696.05024782985| 48761.24114237759|    38131|\n",
      "|   Volkswagen|14625.569258535119| 44565.94811249812|    33245|\n",
      "|          BMW|26920.712663890175| 47738.79163967299|    32415|\n",
      "|        Lexus|26367.030907445274| 56007.08092253025|    29831|\n",
      "|          Ram| 30702.65410428498| 42025.64202374806|    29055|\n",
      "|     Chrysler|15744.883302583026| 55931.30564407917|    23848|\n",
      "|       Subaru|19434.577026685747|  48474.7996043438|    23758|\n",
      "|     Cadillac|27891.704395052715| 50547.08037059011|    21911|\n",
      "|        Mazda|15639.128216749761| 49626.55038525457|    19857|\n",
      "|        Buick|18781.214022140222| 49248.91992069175|    18157|\n",
      "+-------------+------------------+------------------+---------+\n",
      "only showing top 20 rows\n",
      "\n"
     ]
    }
   ],
   "source": [
    "#Used cars listed by Make of the car: sorted by Count of listings\n",
    "usedcar_data_trans.groupBy(\"Make\").agg({'Id':'count','Price': 'mean','Mileage': 'mean'}).sort(\"count(ID)\",ascending=False).show()"
   ]
  },
  {
   "cell_type": "code",
   "execution_count": 24,
   "metadata": {},
   "outputs": [
    {
     "name": "stdout",
     "output_type": "stream",
     "text": [
      "+-------------+------------------+------------------+---------+\n",
      "|         Make|        avg(Price)|      avg(Mileage)|count(Id)|\n",
      "+-------------+------------------+------------------+---------+\n",
      "|      McLaren|     215340.859375|       4498.296875|       64|\n",
      "|  Rolls-Royce|201293.83333333334| 17051.01851851852|      108|\n",
      "|      Ferrari|200600.08571428573| 9715.707142857143|      420|\n",
      "|  Lamborghini| 186711.3829787234|13835.390070921985|      141|\n",
      "|      Bentley|  101075.310626703|27516.634877384196|      367|\n",
      "|        Aston| 99573.61744966442|17539.765100671142|      149|\n",
      "|      Maybach| 86702.36363636363| 44603.36363636364|       11|\n",
      "|        Tesla|62328.514204545456|28184.488636363636|      352|\n",
      "|           AM| 59934.21052631579|  67332.8947368421|       19|\n",
      "|      Porsche| 57277.45998271392| 38241.06378565255|     5785|\n",
      "|         Alfa|54228.704545454544| 3877.159090909091|       44|\n",
      "|        Lotus|52548.755102040814|16237.714285714286|       49|\n",
      "|     Maserati| 49909.68455402466| 23971.02973168963|     1379|\n",
      "|       Fisker|          46770.72|          19552.04|       25|\n",
      "|      Genesis| 44733.22966507177| 4495.717703349283|      209|\n",
      "|         Land| 40025.40708418891| 51933.33504449008|     5844|\n",
      "|       Jaguar| 34416.35324341683| 39526.01862556198|     3114|\n",
      "|Mercedes-Benz| 31696.05024782985| 48761.24114237759|    38131|\n",
      "|          Ram| 30702.65410428498| 42025.64202374806|    29055|\n",
      "|         Audi| 28960.99738468854| 47223.20494531622|    12618|\n",
      "+-------------+------------------+------------------+---------+\n",
      "only showing top 20 rows\n",
      "\n"
     ]
    }
   ],
   "source": [
    "#Used cars listed by Make of the car: sorted by Count of Avg. Price\n",
    "usedcar_data_trans.groupBy(\"Make\").agg({'Id':'count','Price': 'mean','Mileage': 'mean'}).sort(\"avg(Price)\",ascending=False).show()"
   ]
  },
  {
   "cell_type": "code",
   "execution_count": 25,
   "metadata": {},
   "outputs": [
    {
     "name": "stdout",
     "output_type": "stream",
     "text": [
      "+-------------+--------------------+------------------+------------------+---------+\n",
      "|         Make|               Model|        avg(Price)|      avg(Mileage)|count(Id)|\n",
      "+-------------+--------------------+------------------+------------------+---------+\n",
      "|        Lexus|              LFALFA|          458988.0|             231.0|        1|\n",
      "|        Lexus|              LFA2dr|          419999.0|             600.0|        1|\n",
      "|      McLaren|            675LT2dr|        403100.375|           600.125|        8|\n",
      "|  Lamborghini|AventadorConvertible|          354737.8|            8566.6|        5|\n",
      "|      Ferrari|      GTC4LussoCoupe|          353851.2|            1528.0|        5|\n",
      "|  Lamborghini|      AventadorCoupe| 351614.6666666667|            3252.5|        6|\n",
      "|      Ferrari|                 488| 344013.0930232558|            1624.0|       43|\n",
      "|  Rolls-Royce|     DawnConvertible|          327240.0|            2369.0|        3|\n",
      "|      Ferrari|    F12berlinetta2dr| 326791.6666666667|2042.6666666666667|        6|\n",
      "|Mercedes-Benz|                 SLR| 325998.3333333333| 8236.666666666666|        6|\n",
      "|         Ford|             GTCoupe|        317271.125|          5080.875|        8|\n",
      "|  Rolls-Royce|             Dawn2dr| 311298.3333333333|            3524.0|        6|\n",
      "|  Lamborghini|           Aventador|          296744.0|            9537.0|        1|\n",
      "|  Lamborghini|        Aventador2dr|        296560.125|          13640.75|        8|\n",
      "|  Rolls-Royce|        PhantomSedan|          294985.0|            7244.0|        3|\n",
      "|      Ferrari|  F12berlinettaCoupe|290710.17391304346|            5040.0|       23|\n",
      "|         Ford|               GT2dr|          279894.0|            3650.0|        2|\n",
      "|  Lamborghini|       HuracanSpyder|          278225.5|            1993.5|        2|\n",
      "|  Rolls-Royce|             Phantom|250566.92307692306|           18041.0|       13|\n",
      "|      Bentley|       MulsanneSpeed|230127.66666666666|            7972.0|        3|\n",
      "+-------------+--------------------+------------------+------------------+---------+\n",
      "only showing top 20 rows\n",
      "\n"
     ]
    }
   ],
   "source": [
    "#Used cars listed by Make & Model of the car: sorted by avg. Price\n",
    "usedcar_data_trans.groupBy(\"Make\",\"Model\").agg({'Id':'count','Price': 'mean','Mileage': 'mean'}).sort(\"avg(Price)\",ascending=False).show()"
   ]
  },
  {
   "cell_type": "code",
   "execution_count": 26,
   "metadata": {},
   "outputs": [
    {
     "name": "stdout",
     "output_type": "stream",
     "text": [
      "+----------+----------+------------------+------------------+---------+\n",
      "|      Make|     Model|        avg(Price)|      avg(Mileage)|count(Id)|\n",
      "+----------+----------+------------------+------------------+---------+\n",
      "| Chevrolet| Silverado|29063.131282136343| 61742.53516337701|    36174|\n",
      "|    Nissan| Altima2.5|15491.067879220162| 33419.06419400856|    16824|\n",
      "|       GMC|    Sierra| 31887.87171392144| 59232.37314067148|    16471|\n",
      "|      Jeep|     Grand| 25097.60427940536| 55247.96672264726|    16077|\n",
      "|     Honda|    Accord|15471.330054864178| 55261.15897230028|    14946|\n",
      "|      Ford|  F-1504WD|29232.324059413404|62278.786699841665|    13263|\n",
      "|     Honda|     Civic|13593.551612628713| 48588.44243043145|    11751|\n",
      "|      Jeep|  Wrangler| 31693.99555783359|42580.694259354175|    11706|\n",
      "|       BMW|         3|22529.947174557543|49775.267181744675|    11131|\n",
      "|Volkswagen|     Jetta|12284.156282998943|46088.181050206396|    10417|\n",
      "|   Hyundai|     Santa|17910.002096854718|49585.304842735895|    10015|\n",
      "|      Ford|  FusionSE|  14736.0956780618| 42966.83523252233|     9741|\n",
      "| Chevrolet|EquinoxFWD|16365.878502673797|49427.153475935826|     9350|\n",
      "|     Dodge|     Grand|16292.708761329304|  54677.7983081571|     8275|\n",
      "|    Toyota|   CamrySE|16172.246578813989| 38807.30093765839|     7892|\n",
      "|      Ford|     Super|34992.274047649385| 83300.51713594089|     7849|\n",
      "|    Toyota| CorollaLE| 13576.19486053719| 36535.33212809917|     7744|\n",
      "| Chevrolet|  MalibuLT| 17519.95977808599|25345.095423023577|     7210|\n",
      "|      Ford|  F-150XLT|28092.104491725768| 48127.58250591016|     6345|\n",
      "|  Chrysler|      Town|16241.146813042766| 67350.06078977553|     6103|\n",
      "+----------+----------+------------------+------------------+---------+\n",
      "only showing top 20 rows\n",
      "\n"
     ]
    }
   ],
   "source": [
    "#Used cars listed by Make & Model of the car: sorted by count of listings\n",
    "usedcar_data_trans.groupBy(\"Make\",\"Model\").agg({'Id':'count','Price': 'mean','Mileage': 'mean'}).sort(\"count(ID)\",ascending=False).show()"
   ]
  },
  {
   "cell_type": "code",
   "execution_count": 9,
   "metadata": {},
   "outputs": [
    {
     "data": {
      "text/html": [
       "<div>\n",
       "<style scoped>\n",
       "    .dataframe tbody tr th:only-of-type {\n",
       "        vertical-align: middle;\n",
       "    }\n",
       "\n",
       "    .dataframe tbody tr th {\n",
       "        vertical-align: top;\n",
       "    }\n",
       "\n",
       "    .dataframe thead th {\n",
       "        text-align: right;\n",
       "    }\n",
       "</style>\n",
       "<table border=\"1\" class=\"dataframe\">\n",
       "  <thead>\n",
       "    <tr style=\"text-align: right;\">\n",
       "      <th></th>\n",
       "      <th>Make</th>\n",
       "      <th>Model</th>\n",
       "      <th>avg(Price)</th>\n",
       "      <th>avg(Mileage)</th>\n",
       "      <th>count(Id)</th>\n",
       "    </tr>\n",
       "  </thead>\n",
       "  <tbody>\n",
       "    <tr>\n",
       "      <th>0</th>\n",
       "      <td>Lexus</td>\n",
       "      <td>LFALFA</td>\n",
       "      <td>458988.000</td>\n",
       "      <td>231.000</td>\n",
       "      <td>1</td>\n",
       "    </tr>\n",
       "    <tr>\n",
       "      <th>1</th>\n",
       "      <td>Lexus</td>\n",
       "      <td>LFA2dr</td>\n",
       "      <td>419999.000</td>\n",
       "      <td>600.000</td>\n",
       "      <td>1</td>\n",
       "    </tr>\n",
       "    <tr>\n",
       "      <th>2</th>\n",
       "      <td>McLaren</td>\n",
       "      <td>675LT2dr</td>\n",
       "      <td>403100.375</td>\n",
       "      <td>600.125</td>\n",
       "      <td>8</td>\n",
       "    </tr>\n",
       "    <tr>\n",
       "      <th>3</th>\n",
       "      <td>Lamborghini</td>\n",
       "      <td>AventadorConvertible</td>\n",
       "      <td>354737.800</td>\n",
       "      <td>8566.600</td>\n",
       "      <td>5</td>\n",
       "    </tr>\n",
       "    <tr>\n",
       "      <th>4</th>\n",
       "      <td>Ferrari</td>\n",
       "      <td>GTC4LussoCoupe</td>\n",
       "      <td>353851.200</td>\n",
       "      <td>1528.000</td>\n",
       "      <td>5</td>\n",
       "    </tr>\n",
       "    <tr>\n",
       "      <th>...</th>\n",
       "      <td>...</td>\n",
       "      <td>...</td>\n",
       "      <td>...</td>\n",
       "      <td>...</td>\n",
       "      <td>...</td>\n",
       "    </tr>\n",
       "    <tr>\n",
       "      <th>3124</th>\n",
       "      <td>Mercury</td>\n",
       "      <td>Mariner</td>\n",
       "      <td>1987.000</td>\n",
       "      <td>117025.000</td>\n",
       "      <td>1</td>\n",
       "    </tr>\n",
       "    <tr>\n",
       "      <th>3125</th>\n",
       "      <td>Volkswagen</td>\n",
       "      <td>CabrioCONVERTIBLE</td>\n",
       "      <td>1950.000</td>\n",
       "      <td>166616.000</td>\n",
       "      <td>1</td>\n",
       "    </tr>\n",
       "    <tr>\n",
       "      <th>3126</th>\n",
       "      <td>GMC</td>\n",
       "      <td>Yukon1500</td>\n",
       "      <td>1891.500</td>\n",
       "      <td>212267.750</td>\n",
       "      <td>4</td>\n",
       "    </tr>\n",
       "    <tr>\n",
       "      <th>3127</th>\n",
       "      <td>Chrysler</td>\n",
       "      <td>VoyagerBase</td>\n",
       "      <td>1688.000</td>\n",
       "      <td>172490.000</td>\n",
       "      <td>1</td>\n",
       "    </tr>\n",
       "    <tr>\n",
       "      <th>3128</th>\n",
       "      <td>Isuzu</td>\n",
       "      <td>HombreReg</td>\n",
       "      <td>1500.000</td>\n",
       "      <td>232278.000</td>\n",
       "      <td>1</td>\n",
       "    </tr>\n",
       "  </tbody>\n",
       "</table>\n",
       "<p>3129 rows × 5 columns</p>\n",
       "</div>"
      ],
      "text/plain": [
       "             Make                 Model  avg(Price)  avg(Mileage)  count(Id)\n",
       "0           Lexus                LFALFA  458988.000       231.000          1\n",
       "1           Lexus                LFA2dr  419999.000       600.000          1\n",
       "2         McLaren              675LT2dr  403100.375       600.125          8\n",
       "3     Lamborghini  AventadorConvertible  354737.800      8566.600          5\n",
       "4         Ferrari        GTC4LussoCoupe  353851.200      1528.000          5\n",
       "...           ...                   ...         ...           ...        ...\n",
       "3124      Mercury               Mariner    1987.000    117025.000          1\n",
       "3125   Volkswagen     CabrioCONVERTIBLE    1950.000    166616.000          1\n",
       "3126          GMC             Yukon1500    1891.500    212267.750          4\n",
       "3127     Chrysler           VoyagerBase    1688.000    172490.000          1\n",
       "3128        Isuzu             HombreReg    1500.000    232278.000          1\n",
       "\n",
       "[3129 rows x 5 columns]"
      ]
     },
     "execution_count": 9,
     "metadata": {},
     "output_type": "execute_result"
    }
   ],
   "source": [
    "make_model_dist=usedcar_data_trans.groupBy(\"Make\",\"Model\").agg({'Id':'count','Price': 'mean','Mileage': 'mean'}).sort(\"avg(Price)\",ascending=False).toPandas()\n",
    "\n",
    "make_model_dist"
   ]
  },
  {
   "cell_type": "code",
   "execution_count": 9,
   "metadata": {},
   "outputs": [
    {
     "data": {
      "text/html": [
       "<div>\n",
       "<style scoped>\n",
       "    .dataframe tbody tr th:only-of-type {\n",
       "        vertical-align: middle;\n",
       "    }\n",
       "\n",
       "    .dataframe tbody tr th {\n",
       "        vertical-align: top;\n",
       "    }\n",
       "\n",
       "    .dataframe thead th {\n",
       "        text-align: right;\n",
       "    }\n",
       "</style>\n",
       "<table border=\"1\" class=\"dataframe\">\n",
       "  <thead>\n",
       "    <tr style=\"text-align: right;\">\n",
       "      <th></th>\n",
       "      <th>avg(Price)</th>\n",
       "      <th>avg(Mileage)</th>\n",
       "      <th>count(Id)</th>\n",
       "    </tr>\n",
       "  </thead>\n",
       "  <tbody>\n",
       "    <tr>\n",
       "      <th>count</th>\n",
       "      <td>3129.0</td>\n",
       "      <td>3129.0</td>\n",
       "      <td>3129.0</td>\n",
       "    </tr>\n",
       "    <tr>\n",
       "      <th>mean</th>\n",
       "      <td>25329.0</td>\n",
       "      <td>65942.0</td>\n",
       "      <td>394.0</td>\n",
       "    </tr>\n",
       "    <tr>\n",
       "      <th>std</th>\n",
       "      <td>35215.0</td>\n",
       "      <td>49806.0</td>\n",
       "      <td>1292.0</td>\n",
       "    </tr>\n",
       "    <tr>\n",
       "      <th>min</th>\n",
       "      <td>1500.0</td>\n",
       "      <td>5.0</td>\n",
       "      <td>1.0</td>\n",
       "    </tr>\n",
       "    <tr>\n",
       "      <th>1%</th>\n",
       "      <td>2661.0</td>\n",
       "      <td>1110.0</td>\n",
       "      <td>1.0</td>\n",
       "    </tr>\n",
       "    <tr>\n",
       "      <th>10%</th>\n",
       "      <td>5050.0</td>\n",
       "      <td>9839.0</td>\n",
       "      <td>1.0</td>\n",
       "    </tr>\n",
       "    <tr>\n",
       "      <th>20%</th>\n",
       "      <td>7801.0</td>\n",
       "      <td>22618.0</td>\n",
       "      <td>4.0</td>\n",
       "    </tr>\n",
       "    <tr>\n",
       "      <th>30%</th>\n",
       "      <td>10502.0</td>\n",
       "      <td>33692.0</td>\n",
       "      <td>9.0</td>\n",
       "    </tr>\n",
       "    <tr>\n",
       "      <th>40%</th>\n",
       "      <td>13503.0</td>\n",
       "      <td>42348.0</td>\n",
       "      <td>21.0</td>\n",
       "    </tr>\n",
       "    <tr>\n",
       "      <th>50%</th>\n",
       "      <td>16819.0</td>\n",
       "      <td>54236.0</td>\n",
       "      <td>43.0</td>\n",
       "    </tr>\n",
       "    <tr>\n",
       "      <th>60%</th>\n",
       "      <td>20637.0</td>\n",
       "      <td>71262.0</td>\n",
       "      <td>87.0</td>\n",
       "    </tr>\n",
       "    <tr>\n",
       "      <th>70%</th>\n",
       "      <td>25028.0</td>\n",
       "      <td>91260.0</td>\n",
       "      <td>171.0</td>\n",
       "    </tr>\n",
       "    <tr>\n",
       "      <th>75%</th>\n",
       "      <td>28281.0</td>\n",
       "      <td>101079.0</td>\n",
       "      <td>252.0</td>\n",
       "    </tr>\n",
       "    <tr>\n",
       "      <th>80%</th>\n",
       "      <td>31888.0</td>\n",
       "      <td>109587.0</td>\n",
       "      <td>387.0</td>\n",
       "    </tr>\n",
       "    <tr>\n",
       "      <th>85%</th>\n",
       "      <td>38280.0</td>\n",
       "      <td>118982.0</td>\n",
       "      <td>587.0</td>\n",
       "    </tr>\n",
       "    <tr>\n",
       "      <th>90%</th>\n",
       "      <td>47088.0</td>\n",
       "      <td>131502.0</td>\n",
       "      <td>908.0</td>\n",
       "    </tr>\n",
       "    <tr>\n",
       "      <th>95%</th>\n",
       "      <td>65851.0</td>\n",
       "      <td>146966.0</td>\n",
       "      <td>1904.0</td>\n",
       "    </tr>\n",
       "    <tr>\n",
       "      <th>99%</th>\n",
       "      <td>190809.0</td>\n",
       "      <td>193443.0</td>\n",
       "      <td>5225.0</td>\n",
       "    </tr>\n",
       "    <tr>\n",
       "      <th>max</th>\n",
       "      <td>458988.0</td>\n",
       "      <td>1013898.0</td>\n",
       "      <td>36174.0</td>\n",
       "    </tr>\n",
       "  </tbody>\n",
       "</table>\n",
       "</div>"
      ],
      "text/plain": [
       "       avg(Price)  avg(Mileage)  count(Id)\n",
       "count      3129.0        3129.0     3129.0\n",
       "mean      25329.0       65942.0      394.0\n",
       "std       35215.0       49806.0     1292.0\n",
       "min        1500.0           5.0        1.0\n",
       "1%         2661.0        1110.0        1.0\n",
       "10%        5050.0        9839.0        1.0\n",
       "20%        7801.0       22618.0        4.0\n",
       "30%       10502.0       33692.0        9.0\n",
       "40%       13503.0       42348.0       21.0\n",
       "50%       16819.0       54236.0       43.0\n",
       "60%       20637.0       71262.0       87.0\n",
       "70%       25028.0       91260.0      171.0\n",
       "75%       28281.0      101079.0      252.0\n",
       "80%       31888.0      109587.0      387.0\n",
       "85%       38280.0      118982.0      587.0\n",
       "90%       47088.0      131502.0      908.0\n",
       "95%       65851.0      146966.0     1904.0\n",
       "99%      190809.0      193443.0     5225.0\n",
       "max      458988.0     1013898.0    36174.0"
      ]
     },
     "execution_count": 9,
     "metadata": {},
     "output_type": "execute_result"
    }
   ],
   "source": [
    "import numpy as np\n",
    "np.round(make_model_dist.describe([.01,.1,.2,.3,.4,.5,.6,.7,.75,.8,.85,.9,.95,.99]),0)"
   ]
  },
  {
   "cell_type": "code",
   "execution_count": 10,
   "metadata": {},
   "outputs": [
    {
     "data": {
      "text/plain": [
       "20636.97312876155"
      ]
     },
     "execution_count": 10,
     "metadata": {},
     "output_type": "execute_result"
    },
    {
     "data": {
      "text/plain": [
       "47087.52878237886"
      ]
     },
     "execution_count": 10,
     "metadata": {},
     "output_type": "execute_result"
    }
   ],
   "source": [
    "#For creating Low, Med and High price make-model car variants\n",
    "Price_60_quantile=make_model_dist[\"avg(Price)\"].quantile(0.6)\n",
    "Price_90_quantile=make_model_dist[\"avg(Price)\"].quantile(0.9)\n",
    "\n",
    "Price_60_quantile\n",
    "Price_90_quantile"
   ]
  },
  {
   "cell_type": "code",
   "execution_count": 11,
   "metadata": {},
   "outputs": [
    {
     "data": {
      "text/plain": [
       "Make                  object\n",
       "Model                 object\n",
       "avg(Price)           float64\n",
       "avg(Mileage)         float64\n",
       "count(Id)              int64\n",
       "Price_60_quintile    float64\n",
       "Price_90_quintile    float64\n",
       "dtype: object"
      ]
     },
     "execution_count": 11,
     "metadata": {},
     "output_type": "execute_result"
    }
   ],
   "source": [
    "make_model_dist[\"Price_60_quintile\"]=Price_60_quantile\n",
    "make_model_dist[\"Price_90_quintile\"]=Price_90_quantile\n",
    "#make_model_dist[\"Price_Category\"] = make_model_dist[\"Price_Category\"].astype(\"category\")\n",
    "make_model_dist.dtypes"
   ]
  },
  {
   "cell_type": "code",
   "execution_count": 10,
   "metadata": {},
   "outputs": [
    {
     "data": {
      "text/html": [
       "<div>\n",
       "<style scoped>\n",
       "    .dataframe tbody tr th:only-of-type {\n",
       "        vertical-align: middle;\n",
       "    }\n",
       "\n",
       "    .dataframe tbody tr th {\n",
       "        vertical-align: top;\n",
       "    }\n",
       "\n",
       "    .dataframe thead th {\n",
       "        text-align: right;\n",
       "    }\n",
       "</style>\n",
       "<table border=\"1\" class=\"dataframe\">\n",
       "  <thead>\n",
       "    <tr style=\"text-align: right;\">\n",
       "      <th></th>\n",
       "      <th>Make</th>\n",
       "      <th>Model</th>\n",
       "      <th>avg(Price)</th>\n",
       "      <th>avg(Mileage)</th>\n",
       "      <th>count(Id)</th>\n",
       "      <th>Price_60_quintile</th>\n",
       "      <th>Price_90_quintile</th>\n",
       "    </tr>\n",
       "  </thead>\n",
       "  <tbody>\n",
       "    <tr>\n",
       "      <th>0</th>\n",
       "      <td>Lexus</td>\n",
       "      <td>LFALFA</td>\n",
       "      <td>458988.000</td>\n",
       "      <td>231.000</td>\n",
       "      <td>1</td>\n",
       "      <td>20636.973129</td>\n",
       "      <td>47087.528782</td>\n",
       "    </tr>\n",
       "    <tr>\n",
       "      <th>1</th>\n",
       "      <td>Lexus</td>\n",
       "      <td>LFA2dr</td>\n",
       "      <td>419999.000</td>\n",
       "      <td>600.000</td>\n",
       "      <td>1</td>\n",
       "      <td>20636.973129</td>\n",
       "      <td>47087.528782</td>\n",
       "    </tr>\n",
       "    <tr>\n",
       "      <th>2</th>\n",
       "      <td>McLaren</td>\n",
       "      <td>675LT2dr</td>\n",
       "      <td>403100.375</td>\n",
       "      <td>600.125</td>\n",
       "      <td>8</td>\n",
       "      <td>20636.973129</td>\n",
       "      <td>47087.528782</td>\n",
       "    </tr>\n",
       "    <tr>\n",
       "      <th>3</th>\n",
       "      <td>Lamborghini</td>\n",
       "      <td>AventadorConvertible</td>\n",
       "      <td>354737.800</td>\n",
       "      <td>8566.600</td>\n",
       "      <td>5</td>\n",
       "      <td>20636.973129</td>\n",
       "      <td>47087.528782</td>\n",
       "    </tr>\n",
       "    <tr>\n",
       "      <th>4</th>\n",
       "      <td>Ferrari</td>\n",
       "      <td>GTC4LussoCoupe</td>\n",
       "      <td>353851.200</td>\n",
       "      <td>1528.000</td>\n",
       "      <td>5</td>\n",
       "      <td>20636.973129</td>\n",
       "      <td>47087.528782</td>\n",
       "    </tr>\n",
       "  </tbody>\n",
       "</table>\n",
       "</div>"
      ],
      "text/plain": [
       "          Make                 Model  avg(Price)  avg(Mileage)  count(Id)  \\\n",
       "0        Lexus                LFALFA  458988.000       231.000          1   \n",
       "1        Lexus                LFA2dr  419999.000       600.000          1   \n",
       "2      McLaren              675LT2dr  403100.375       600.125          8   \n",
       "3  Lamborghini  AventadorConvertible  354737.800      8566.600          5   \n",
       "4      Ferrari        GTC4LussoCoupe  353851.200      1528.000          5   \n",
       "\n",
       "   Price_60_quintile  Price_90_quintile  \n",
       "0       20636.973129       47087.528782  \n",
       "1       20636.973129       47087.528782  \n",
       "2       20636.973129       47087.528782  \n",
       "3       20636.973129       47087.528782  \n",
       "4       20636.973129       47087.528782  "
      ]
     },
     "execution_count": 10,
     "metadata": {},
     "output_type": "execute_result"
    }
   ],
   "source": [
    "make_model_dist.head()"
   ]
  },
  {
   "cell_type": "code",
   "execution_count": 12,
   "metadata": {},
   "outputs": [
    {
     "data": {
      "text/html": [
       "<div>\n",
       "<style scoped>\n",
       "    .dataframe tbody tr th:only-of-type {\n",
       "        vertical-align: middle;\n",
       "    }\n",
       "\n",
       "    .dataframe tbody tr th {\n",
       "        vertical-align: top;\n",
       "    }\n",
       "\n",
       "    .dataframe thead th {\n",
       "        text-align: right;\n",
       "    }\n",
       "</style>\n",
       "<table border=\"1\" class=\"dataframe\">\n",
       "  <thead>\n",
       "    <tr style=\"text-align: right;\">\n",
       "      <th></th>\n",
       "      <th>Make</th>\n",
       "      <th>Model</th>\n",
       "      <th>Avg_Price</th>\n",
       "      <th>Avg_Mileage</th>\n",
       "      <th>Count</th>\n",
       "      <th>Price_60_quintile</th>\n",
       "      <th>Price_90_quintile</th>\n",
       "    </tr>\n",
       "  </thead>\n",
       "  <tbody>\n",
       "    <tr>\n",
       "      <th>0</th>\n",
       "      <td>Lexus</td>\n",
       "      <td>LFALFA</td>\n",
       "      <td>458988.000</td>\n",
       "      <td>231.000</td>\n",
       "      <td>1</td>\n",
       "      <td>20636.973129</td>\n",
       "      <td>47087.528782</td>\n",
       "    </tr>\n",
       "    <tr>\n",
       "      <th>1</th>\n",
       "      <td>Lexus</td>\n",
       "      <td>LFA2dr</td>\n",
       "      <td>419999.000</td>\n",
       "      <td>600.000</td>\n",
       "      <td>1</td>\n",
       "      <td>20636.973129</td>\n",
       "      <td>47087.528782</td>\n",
       "    </tr>\n",
       "    <tr>\n",
       "      <th>2</th>\n",
       "      <td>McLaren</td>\n",
       "      <td>675LT2dr</td>\n",
       "      <td>403100.375</td>\n",
       "      <td>600.125</td>\n",
       "      <td>8</td>\n",
       "      <td>20636.973129</td>\n",
       "      <td>47087.528782</td>\n",
       "    </tr>\n",
       "    <tr>\n",
       "      <th>3</th>\n",
       "      <td>Lamborghini</td>\n",
       "      <td>AventadorConvertible</td>\n",
       "      <td>354737.800</td>\n",
       "      <td>8566.600</td>\n",
       "      <td>5</td>\n",
       "      <td>20636.973129</td>\n",
       "      <td>47087.528782</td>\n",
       "    </tr>\n",
       "    <tr>\n",
       "      <th>4</th>\n",
       "      <td>Ferrari</td>\n",
       "      <td>GTC4LussoCoupe</td>\n",
       "      <td>353851.200</td>\n",
       "      <td>1528.000</td>\n",
       "      <td>5</td>\n",
       "      <td>20636.973129</td>\n",
       "      <td>47087.528782</td>\n",
       "    </tr>\n",
       "  </tbody>\n",
       "</table>\n",
       "</div>"
      ],
      "text/plain": [
       "          Make                 Model   Avg_Price  Avg_Mileage  Count  \\\n",
       "0        Lexus                LFALFA  458988.000      231.000      1   \n",
       "1        Lexus                LFA2dr  419999.000      600.000      1   \n",
       "2      McLaren              675LT2dr  403100.375      600.125      8   \n",
       "3  Lamborghini  AventadorConvertible  354737.800     8566.600      5   \n",
       "4      Ferrari        GTC4LussoCoupe  353851.200     1528.000      5   \n",
       "\n",
       "   Price_60_quintile  Price_90_quintile  \n",
       "0       20636.973129       47087.528782  \n",
       "1       20636.973129       47087.528782  \n",
       "2       20636.973129       47087.528782  \n",
       "3       20636.973129       47087.528782  \n",
       "4       20636.973129       47087.528782  "
      ]
     },
     "execution_count": 12,
     "metadata": {},
     "output_type": "execute_result"
    }
   ],
   "source": [
    "make_model_dist = make_model_dist.rename(columns = {'avg(Price)':'Avg_Price', \n",
    "                            'avg(Mileage)':'Avg_Mileage',\n",
    "                            'count(Id)':'Count'\n",
    "                            }\n",
    "                )\n",
    "make_model_dist.head()"
   ]
  },
  {
   "cell_type": "code",
   "execution_count": 13,
   "metadata": {},
   "outputs": [
    {
     "name": "stderr",
     "output_type": "stream",
     "text": [
      "<ipython-input-13-1dc4c908cc2e>:10: SettingWithCopyWarning: \n",
      "A value is trying to be set on a copy of a slice from a DataFrame\n",
      "\n",
      "See the caveats in the documentation: https://pandas.pydata.org/pandas-docs/stable/user_guide/indexing.html#returning-a-view-versus-a-copy\n",
      "  make_model_dist.Model_Category[i]=\"Premium\"\n",
      "<ipython-input-13-1dc4c908cc2e>:8: SettingWithCopyWarning: \n",
      "A value is trying to be set on a copy of a slice from a DataFrame\n",
      "\n",
      "See the caveats in the documentation: https://pandas.pydata.org/pandas-docs/stable/user_guide/indexing.html#returning-a-view-versus-a-copy\n",
      "  make_model_dist.Model_Category[i]=\"Medium\"\n",
      "<ipython-input-13-1dc4c908cc2e>:6: SettingWithCopyWarning: \n",
      "A value is trying to be set on a copy of a slice from a DataFrame\n",
      "\n",
      "See the caveats in the documentation: https://pandas.pydata.org/pandas-docs/stable/user_guide/indexing.html#returning-a-view-versus-a-copy\n",
      "  make_model_dist.Model_Category[i]=\"Economy\"\n"
     ]
    }
   ],
   "source": [
    "#Creating a categorical variable called Price category based on the 60 percentile and 90 percentile values\n",
    "make_model_dist[\"Model_Category\"]=\"\"\n",
    "\n",
    "for i in range(0,len(make_model_dist)):\n",
    "    if(make_model_dist.Avg_Price[i] < make_model_dist.Price_60_quintile[i]):\n",
    "        make_model_dist.Model_Category[i]=\"Economy\"\n",
    "    elif(make_model_dist.Avg_Price[i] < make_model_dist.Price_90_quintile[i]):\n",
    "        make_model_dist.Model_Category[i]=\"Medium\"\n",
    "    elif(make_model_dist.Avg_Price[i] > make_model_dist.Price_90_quintile[i]):\n",
    "        make_model_dist.Model_Category[i]=\"Premium\"\n",
    "    else:\n",
    "        make_model_dist.Model_Category[i]=\"NA\""
   ]
  },
  {
   "cell_type": "code",
   "execution_count": 14,
   "metadata": {},
   "outputs": [
    {
     "name": "stdout",
     "output_type": "stream",
     "text": [
      "Min values (floor values) for the 3 buckets:\n"
     ]
    },
    {
     "data": {
      "text/plain": [
       "Model_Category\n",
       "Economy     1500.000000\n",
       "Medium     20640.832447\n",
       "Premium    47110.384000\n",
       "Name: Avg_Price, dtype: float64"
      ]
     },
     "execution_count": 14,
     "metadata": {},
     "output_type": "execute_result"
    },
    {
     "name": "stdout",
     "output_type": "stream",
     "text": [
      "Max values (ceiling values) for the 3 buckets:\n"
     ]
    },
    {
     "data": {
      "text/plain": [
       "Model_Category\n",
       "Economy     20621.535857\n",
       "Medium      47081.814978\n",
       "Premium    458988.000000\n",
       "Name: Avg_Price, dtype: float64"
      ]
     },
     "execution_count": 14,
     "metadata": {},
     "output_type": "execute_result"
    }
   ],
   "source": [
    "print(\"Min values (floor values) for the 3 buckets:\")\n",
    "make_model_dist.groupby('Model_Category')['Avg_Price'].min()\n",
    "\n",
    "print(\"Max values (ceiling values) for the 3 buckets:\")\n",
    "make_model_dist.groupby('Model_Category')['Avg_Price'].max()"
   ]
  },
  {
   "cell_type": "markdown",
   "metadata": {},
   "source": [
    "#### Based on the min and max value check above, we can see:\n",
    "* Economy is between 1500 and 2061\n",
    "* Medium is between 20640 and 47081\n",
    "* Premium is above 47110\n",
    "\n",
    "60 percentile value is USD 20,636 and 90 percentile value is USD 47,087\n",
    "\n",
    "So the assignment of model category values is fine"
   ]
  },
  {
   "cell_type": "code",
   "execution_count": 15,
   "metadata": {},
   "outputs": [
    {
     "data": {
      "text/plain": [
       "Model_Category\n",
       "Economy    1877\n",
       "Medium      939\n",
       "Premium     313\n",
       "Name: Model, dtype: int64"
      ]
     },
     "execution_count": 15,
     "metadata": {},
     "output_type": "execute_result"
    }
   ],
   "source": [
    "make_model_dist.groupby('Model_Category')['Model'].count()"
   ]
  },
  {
   "cell_type": "code",
   "execution_count": 16,
   "metadata": {},
   "outputs": [
    {
     "data": {
      "text/html": [
       "<div>\n",
       "<style scoped>\n",
       "    .dataframe tbody tr th:only-of-type {\n",
       "        vertical-align: middle;\n",
       "    }\n",
       "\n",
       "    .dataframe tbody tr th {\n",
       "        vertical-align: top;\n",
       "    }\n",
       "\n",
       "    .dataframe thead th {\n",
       "        text-align: right;\n",
       "    }\n",
       "</style>\n",
       "<table border=\"1\" class=\"dataframe\">\n",
       "  <thead>\n",
       "    <tr style=\"text-align: right;\">\n",
       "      <th></th>\n",
       "      <th>Make</th>\n",
       "      <th>Model</th>\n",
       "      <th>Avg_Price</th>\n",
       "      <th>Avg_Mileage</th>\n",
       "      <th>Count</th>\n",
       "      <th>Price_60_quintile</th>\n",
       "      <th>Price_90_quintile</th>\n",
       "      <th>Model_Category</th>\n",
       "      <th>Make_Model</th>\n",
       "    </tr>\n",
       "  </thead>\n",
       "  <tbody>\n",
       "    <tr>\n",
       "      <th>0</th>\n",
       "      <td>Lexus</td>\n",
       "      <td>LFALFA</td>\n",
       "      <td>458988.000</td>\n",
       "      <td>231.000</td>\n",
       "      <td>1</td>\n",
       "      <td>20636.973129</td>\n",
       "      <td>47087.528782</td>\n",
       "      <td>Premium</td>\n",
       "      <td>Lexus_LFALFA</td>\n",
       "    </tr>\n",
       "    <tr>\n",
       "      <th>1</th>\n",
       "      <td>Lexus</td>\n",
       "      <td>LFA2dr</td>\n",
       "      <td>419999.000</td>\n",
       "      <td>600.000</td>\n",
       "      <td>1</td>\n",
       "      <td>20636.973129</td>\n",
       "      <td>47087.528782</td>\n",
       "      <td>Premium</td>\n",
       "      <td>Lexus_LFA2dr</td>\n",
       "    </tr>\n",
       "    <tr>\n",
       "      <th>2</th>\n",
       "      <td>McLaren</td>\n",
       "      <td>675LT2dr</td>\n",
       "      <td>403100.375</td>\n",
       "      <td>600.125</td>\n",
       "      <td>8</td>\n",
       "      <td>20636.973129</td>\n",
       "      <td>47087.528782</td>\n",
       "      <td>Premium</td>\n",
       "      <td>McLaren_675LT2dr</td>\n",
       "    </tr>\n",
       "    <tr>\n",
       "      <th>3</th>\n",
       "      <td>Lamborghini</td>\n",
       "      <td>AventadorConvertible</td>\n",
       "      <td>354737.800</td>\n",
       "      <td>8566.600</td>\n",
       "      <td>5</td>\n",
       "      <td>20636.973129</td>\n",
       "      <td>47087.528782</td>\n",
       "      <td>Premium</td>\n",
       "      <td>Lamborghini_AventadorConvertible</td>\n",
       "    </tr>\n",
       "    <tr>\n",
       "      <th>4</th>\n",
       "      <td>Ferrari</td>\n",
       "      <td>GTC4LussoCoupe</td>\n",
       "      <td>353851.200</td>\n",
       "      <td>1528.000</td>\n",
       "      <td>5</td>\n",
       "      <td>20636.973129</td>\n",
       "      <td>47087.528782</td>\n",
       "      <td>Premium</td>\n",
       "      <td>Ferrari_GTC4LussoCoupe</td>\n",
       "    </tr>\n",
       "  </tbody>\n",
       "</table>\n",
       "</div>"
      ],
      "text/plain": [
       "          Make                 Model   Avg_Price  Avg_Mileage  Count  \\\n",
       "0        Lexus                LFALFA  458988.000      231.000      1   \n",
       "1        Lexus                LFA2dr  419999.000      600.000      1   \n",
       "2      McLaren              675LT2dr  403100.375      600.125      8   \n",
       "3  Lamborghini  AventadorConvertible  354737.800     8566.600      5   \n",
       "4      Ferrari        GTC4LussoCoupe  353851.200     1528.000      5   \n",
       "\n",
       "   Price_60_quintile  Price_90_quintile Model_Category  \\\n",
       "0       20636.973129       47087.528782        Premium   \n",
       "1       20636.973129       47087.528782        Premium   \n",
       "2       20636.973129       47087.528782        Premium   \n",
       "3       20636.973129       47087.528782        Premium   \n",
       "4       20636.973129       47087.528782        Premium   \n",
       "\n",
       "                         Make_Model  \n",
       "0                      Lexus_LFALFA  \n",
       "1                      Lexus_LFA2dr  \n",
       "2                  McLaren_675LT2dr  \n",
       "3  Lamborghini_AventadorConvertible  \n",
       "4            Ferrari_GTC4LussoCoupe  "
      ]
     },
     "execution_count": 16,
     "metadata": {},
     "output_type": "execute_result"
    }
   ],
   "source": [
    "make_model_dist['Make_Model']=make_model_dist.Make.map(str) + '_' + make_model_dist.Model.map(str)\n",
    "make_model_dist.head()"
   ]
  },
  {
   "cell_type": "code",
   "execution_count": 68,
   "metadata": {},
   "outputs": [],
   "source": [
    "#import pandas as pd\n",
    "\n",
    "#make_model_dist.to_csv('output.csv', header=True)"
   ]
  },
  {
   "cell_type": "markdown",
   "metadata": {},
   "source": [
    "## (Part D) Exploratory data analysis - graphs"
   ]
  },
  {
   "cell_type": "code",
   "execution_count": 28,
   "metadata": {},
   "outputs": [
    {
     "data": {
      "image/png": "[encoded data removed]",
      "text/plain": [
       "<Figure size 864x864 with 9 Axes>"
      ]
     },
     "metadata": {
      "needs_background": "light"
     },
     "output_type": "display_data"
    }
   ],
   "source": [
    "from pandas.plotting import scatter_matrix\n",
    "numeric_data = usedcar_data_trans.select(\"Price\", \"Year\", \"Mileage\").toPandas()\n",
    "axs = scatter_matrix(numeric_data, figsize=(12, 12));"
   ]
  },
  {
   "cell_type": "markdown",
   "metadata": {},
   "source": [
    "* The scatter plots show that older the car lower its price is\n",
    "* The price, year ard mileage data are highly skewed. Some transformation (like log) needs to be applied to make the data look like normally distributed"
   ]
  },
  {
   "cell_type": "code",
   "execution_count": 15,
   "metadata": {},
   "outputs": [
    {
     "data": {
      "text/html": [
       "<div>\n",
       "<style scoped>\n",
       "    .dataframe tbody tr th:only-of-type {\n",
       "        vertical-align: middle;\n",
       "    }\n",
       "\n",
       "    .dataframe tbody tr th {\n",
       "        vertical-align: top;\n",
       "    }\n",
       "\n",
       "    .dataframe thead th {\n",
       "        text-align: right;\n",
       "    }\n",
       "</style>\n",
       "<table border=\"1\" class=\"dataframe\">\n",
       "  <thead>\n",
       "    <tr style=\"text-align: right;\">\n",
       "      <th></th>\n",
       "      <th>Id</th>\n",
       "      <th>Price</th>\n",
       "      <th>Year</th>\n",
       "      <th>Mileage</th>\n",
       "      <th>Year_Diff</th>\n",
       "    </tr>\n",
       "  </thead>\n",
       "  <tbody>\n",
       "    <tr>\n",
       "      <th>Id</th>\n",
       "      <td>1.00</td>\n",
       "      <td>-0.01</td>\n",
       "      <td>0.04</td>\n",
       "      <td>-0.01</td>\n",
       "      <td>-0.04</td>\n",
       "    </tr>\n",
       "    <tr>\n",
       "      <th>Price</th>\n",
       "      <td>-0.01</td>\n",
       "      <td>1.00</td>\n",
       "      <td>0.41</td>\n",
       "      <td>-0.21</td>\n",
       "      <td>-0.41</td>\n",
       "    </tr>\n",
       "    <tr>\n",
       "      <th>Year</th>\n",
       "      <td>0.04</td>\n",
       "      <td>0.41</td>\n",
       "      <td>1.00</td>\n",
       "      <td>-0.39</td>\n",
       "      <td>-1.00</td>\n",
       "    </tr>\n",
       "    <tr>\n",
       "      <th>Mileage</th>\n",
       "      <td>-0.01</td>\n",
       "      <td>-0.21</td>\n",
       "      <td>-0.39</td>\n",
       "      <td>1.00</td>\n",
       "      <td>0.39</td>\n",
       "    </tr>\n",
       "    <tr>\n",
       "      <th>Year_Diff</th>\n",
       "      <td>-0.04</td>\n",
       "      <td>-0.41</td>\n",
       "      <td>-1.00</td>\n",
       "      <td>0.39</td>\n",
       "      <td>1.00</td>\n",
       "    </tr>\n",
       "  </tbody>\n",
       "</table>\n",
       "</div>"
      ],
      "text/plain": [
       "             Id  Price  Year  Mileage  Year_Diff\n",
       "Id         1.00  -0.01  0.04    -0.01      -0.04\n",
       "Price     -0.01   1.00  0.41    -0.21      -0.41\n",
       "Year       0.04   0.41  1.00    -0.39      -1.00\n",
       "Mileage   -0.01  -0.21 -0.39     1.00       0.39\n",
       "Year_Diff -0.04  -0.41 -1.00     0.39       1.00"
      ]
     },
     "execution_count": 15,
     "metadata": {},
     "output_type": "execute_result"
    }
   ],
   "source": [
    "r1 = usedcar_data_trans.toPandas().corr(method ='pearson') \n",
    "round(r1,2) "
   ]
  },
  {
   "cell_type": "code",
   "execution_count": null,
   "metadata": {},
   "outputs": [],
   "source": [
    "from handyspark import *\n",
    "hdf = usedcar_data_trans.toHandy()\n",
    "fig, axs = plt.subplots(1, 3, figsize=(16, 3))\n",
    "hdf.cols['Price'].hist(ax=axs[0])\n",
    "hdf.cols['Year'].hist(ax=axs[1])\n",
    "hdf.cols['Mileage'].hist(ax=axs[2])\n"
   ]
  },
  {
   "cell_type": "code",
   "execution_count": null,
   "metadata": {},
   "outputs": [],
   "source": [
    "fig, axs = plt.subplots(1, 3, figsize=(16, 3))\n",
    "hdf.cols['Price'].boxplot(ax=axs[0])\n",
    "hdf.cols['Year'].boxplot(ax=axs[1])\n",
    "hdf.cols['Mileage'].boxplot(ax=axs[2])"
   ]
  },
  {
   "cell_type": "code",
   "execution_count": null,
   "metadata": {},
   "outputs": [],
   "source": [
    "fig, axs = plt.subplots(1, 3, figsize=(16, 3))\n",
    "hdf.cols[['Year','Price']].scatterplot(ax=axs[0])\n",
    "hdf.cols[['Year','Mileage']].scatterplot(ax=axs[1])\n",
    "hdf.cols[['Mileage','Price']].scatterplot(ax=axs[2])"
   ]
  },
  {
   "cell_type": "markdown",
   "metadata": {},
   "source": [
    "There is a fairly good correlation between Price & Year and Year & Mileage as is generally expected."
   ]
  },
  {
   "cell_type": "code",
   "execution_count": 56,
   "metadata": {},
   "outputs": [],
   "source": [
    "year_dist=usedcar_data_trans.groupBy(\"Year\").agg({'Id':'count','Price': 'mean','Mileage': 'mean'}).sort(\"Year\",ascending=True).toPandas()"
   ]
  },
  {
   "cell_type": "code",
   "execution_count": 57,
   "metadata": {},
   "outputs": [
    {
     "data": {
      "text/html": [
       "<div>\n",
       "<style scoped>\n",
       "    .dataframe tbody tr th:only-of-type {\n",
       "        vertical-align: middle;\n",
       "    }\n",
       "\n",
       "    .dataframe tbody tr th {\n",
       "        vertical-align: top;\n",
       "    }\n",
       "\n",
       "    .dataframe thead th {\n",
       "        text-align: right;\n",
       "    }\n",
       "</style>\n",
       "<table border=\"1\" class=\"dataframe\">\n",
       "  <thead>\n",
       "    <tr style=\"text-align: right;\">\n",
       "      <th></th>\n",
       "      <th>Year</th>\n",
       "      <th>avg(Price)</th>\n",
       "      <th>avg(Mileage)</th>\n",
       "      <th>count(Id)</th>\n",
       "    </tr>\n",
       "  </thead>\n",
       "  <tbody>\n",
       "    <tr>\n",
       "      <th>0</th>\n",
       "      <td>1997</td>\n",
       "      <td>9381.464891</td>\n",
       "      <td>150685.203390</td>\n",
       "      <td>826</td>\n",
       "    </tr>\n",
       "    <tr>\n",
       "      <th>1</th>\n",
       "      <td>1998</td>\n",
       "      <td>6130.071963</td>\n",
       "      <td>146314.928972</td>\n",
       "      <td>1070</td>\n",
       "    </tr>\n",
       "    <tr>\n",
       "      <th>2</th>\n",
       "      <td>1999</td>\n",
       "      <td>6865.117974</td>\n",
       "      <td>146414.277685</td>\n",
       "      <td>1797</td>\n",
       "    </tr>\n",
       "    <tr>\n",
       "      <th>3</th>\n",
       "      <td>2000</td>\n",
       "      <td>6808.016667</td>\n",
       "      <td>141175.709783</td>\n",
       "      <td>2760</td>\n",
       "    </tr>\n",
       "    <tr>\n",
       "      <th>4</th>\n",
       "      <td>2001</td>\n",
       "      <td>7089.941270</td>\n",
       "      <td>139245.877226</td>\n",
       "      <td>3763</td>\n",
       "    </tr>\n",
       "    <tr>\n",
       "      <th>5</th>\n",
       "      <td>2002</td>\n",
       "      <td>7935.906728</td>\n",
       "      <td>135707.610323</td>\n",
       "      <td>5425</td>\n",
       "    </tr>\n",
       "    <tr>\n",
       "      <th>6</th>\n",
       "      <td>2003</td>\n",
       "      <td>8126.114951</td>\n",
       "      <td>134031.120897</td>\n",
       "      <td>8073</td>\n",
       "    </tr>\n",
       "    <tr>\n",
       "      <th>7</th>\n",
       "      <td>2004</td>\n",
       "      <td>8751.952690</td>\n",
       "      <td>131166.005388</td>\n",
       "      <td>11879</td>\n",
       "    </tr>\n",
       "    <tr>\n",
       "      <th>8</th>\n",
       "      <td>2005</td>\n",
       "      <td>9422.703347</td>\n",
       "      <td>126704.395305</td>\n",
       "      <td>15803</td>\n",
       "    </tr>\n",
       "    <tr>\n",
       "      <th>9</th>\n",
       "      <td>2006</td>\n",
       "      <td>10385.330746</td>\n",
       "      <td>120986.335627</td>\n",
       "      <td>21512</td>\n",
       "    </tr>\n",
       "    <tr>\n",
       "      <th>10</th>\n",
       "      <td>2007</td>\n",
       "      <td>11406.312047</td>\n",
       "      <td>115839.887538</td>\n",
       "      <td>30348</td>\n",
       "    </tr>\n",
       "    <tr>\n",
       "      <th>11</th>\n",
       "      <td>2008</td>\n",
       "      <td>12460.298380</td>\n",
       "      <td>108415.340566</td>\n",
       "      <td>35485</td>\n",
       "    </tr>\n",
       "    <tr>\n",
       "      <th>12</th>\n",
       "      <td>2009</td>\n",
       "      <td>12758.257512</td>\n",
       "      <td>98966.134704</td>\n",
       "      <td>27490</td>\n",
       "    </tr>\n",
       "    <tr>\n",
       "      <th>13</th>\n",
       "      <td>2010</td>\n",
       "      <td>14043.746533</td>\n",
       "      <td>91808.721620</td>\n",
       "      <td>40380</td>\n",
       "    </tr>\n",
       "    <tr>\n",
       "      <th>14</th>\n",
       "      <td>2011</td>\n",
       "      <td>16071.988534</td>\n",
       "      <td>84790.370792</td>\n",
       "      <td>57299</td>\n",
       "    </tr>\n",
       "    <tr>\n",
       "      <th>15</th>\n",
       "      <td>2012</td>\n",
       "      <td>17054.438106</td>\n",
       "      <td>74453.660200</td>\n",
       "      <td>72681</td>\n",
       "    </tr>\n",
       "    <tr>\n",
       "      <th>16</th>\n",
       "      <td>2013</td>\n",
       "      <td>18816.130737</td>\n",
       "      <td>61551.207422</td>\n",
       "      <td>106527</td>\n",
       "    </tr>\n",
       "    <tr>\n",
       "      <th>17</th>\n",
       "      <td>2014</td>\n",
       "      <td>21703.803488</td>\n",
       "      <td>43089.465892</td>\n",
       "      <td>223788</td>\n",
       "    </tr>\n",
       "    <tr>\n",
       "      <th>18</th>\n",
       "      <td>2015</td>\n",
       "      <td>24615.905656</td>\n",
       "      <td>34656.799362</td>\n",
       "      <td>229129</td>\n",
       "    </tr>\n",
       "    <tr>\n",
       "      <th>19</th>\n",
       "      <td>2016</td>\n",
       "      <td>24932.604985</td>\n",
       "      <td>26357.137425</td>\n",
       "      <td>193152</td>\n",
       "    </tr>\n",
       "    <tr>\n",
       "      <th>20</th>\n",
       "      <td>2017</td>\n",
       "      <td>28778.868678</td>\n",
       "      <td>16424.106350</td>\n",
       "      <td>142238</td>\n",
       "    </tr>\n",
       "    <tr>\n",
       "      <th>21</th>\n",
       "      <td>2018</td>\n",
       "      <td>39481.066172</td>\n",
       "      <td>1711.677798</td>\n",
       "      <td>1617</td>\n",
       "    </tr>\n",
       "  </tbody>\n",
       "</table>\n",
       "</div>"
      ],
      "text/plain": [
       "    Year    avg(Price)   avg(Mileage)  count(Id)\n",
       "0   1997   9381.464891  150685.203390        826\n",
       "1   1998   6130.071963  146314.928972       1070\n",
       "2   1999   6865.117974  146414.277685       1797\n",
       "3   2000   6808.016667  141175.709783       2760\n",
       "4   2001   7089.941270  139245.877226       3763\n",
       "5   2002   7935.906728  135707.610323       5425\n",
       "6   2003   8126.114951  134031.120897       8073\n",
       "7   2004   8751.952690  131166.005388      11879\n",
       "8   2005   9422.703347  126704.395305      15803\n",
       "9   2006  10385.330746  120986.335627      21512\n",
       "10  2007  11406.312047  115839.887538      30348\n",
       "11  2008  12460.298380  108415.340566      35485\n",
       "12  2009  12758.257512   98966.134704      27490\n",
       "13  2010  14043.746533   91808.721620      40380\n",
       "14  2011  16071.988534   84790.370792      57299\n",
       "15  2012  17054.438106   74453.660200      72681\n",
       "16  2013  18816.130737   61551.207422     106527\n",
       "17  2014  21703.803488   43089.465892     223788\n",
       "18  2015  24615.905656   34656.799362     229129\n",
       "19  2016  24932.604985   26357.137425     193152\n",
       "20  2017  28778.868678   16424.106350     142238\n",
       "21  2018  39481.066172    1711.677798       1617"
      ]
     },
     "execution_count": 57,
     "metadata": {},
     "output_type": "execute_result"
    }
   ],
   "source": [
    "year_dist"
   ]
  },
  {
   "cell_type": "code",
   "execution_count": 31,
   "metadata": {},
   "outputs": [],
   "source": [
    "import matplotlib.pyplot as plt\n",
    "import numpy as np\n",
    "import seaborn as sns"
   ]
  },
  {
   "cell_type": "code",
   "execution_count": 68,
   "metadata": {},
   "outputs": [
    {
     "data": {
      "image/png": "[encoded data removed]",
      "text/plain": [
       "<Figure size 1080x576 with 1 Axes>"
      ]
     },
     "metadata": {
      "needs_background": "light"
     },
     "output_type": "display_data"
    }
   ],
   "source": [
    "plt.figure(figsize=(15,8))\n",
    "\n",
    "plt.title('Average Quoted Price by Year of car model')\n",
    "sns.barplot(x='Year', y='avg(Price)', data=year_dist, palette='summer');"
   ]
  },
  {
   "cell_type": "code",
   "execution_count": 72,
   "metadata": {},
   "outputs": [
    {
     "data": {
      "image/png": "[encoded data removed]",
      "text/plain": [
       "<Figure size 1080x576 with 1 Axes>"
      ]
     },
     "metadata": {
      "needs_background": "light"
     },
     "output_type": "display_data"
    }
   ],
   "source": [
    "plt.figure(figsize=(15,8));\n",
    "plt.title('Count of listings by Year of car model')\n",
    "sns.lineplot(x='Year', y='count(Id)', data=year_dist);"
   ]
  },
  {
   "cell_type": "code",
   "execution_count": 76,
   "metadata": {},
   "outputs": [
    {
     "data": {
      "text/html": [
       "<div>\n",
       "<style scoped>\n",
       "    .dataframe tbody tr th:only-of-type {\n",
       "        vertical-align: middle;\n",
       "    }\n",
       "\n",
       "    .dataframe tbody tr th {\n",
       "        vertical-align: top;\n",
       "    }\n",
       "\n",
       "    .dataframe thead th {\n",
       "        text-align: right;\n",
       "    }\n",
       "</style>\n",
       "<table border=\"1\" class=\"dataframe\">\n",
       "  <thead>\n",
       "    <tr style=\"text-align: right;\">\n",
       "      <th></th>\n",
       "      <th>Make</th>\n",
       "      <th>avg(Price)</th>\n",
       "      <th>avg(Mileage)</th>\n",
       "      <th>count(Id)</th>\n",
       "    </tr>\n",
       "  </thead>\n",
       "  <tbody>\n",
       "    <tr>\n",
       "      <th>0</th>\n",
       "      <td>Ford</td>\n",
       "      <td>21311.796721</td>\n",
       "      <td>57283.250057</td>\n",
       "      <td>161999</td>\n",
       "    </tr>\n",
       "    <tr>\n",
       "      <th>1</th>\n",
       "      <td>Chevrolet</td>\n",
       "      <td>21770.092185</td>\n",
       "      <td>54561.408447</td>\n",
       "      <td>150426</td>\n",
       "    </tr>\n",
       "    <tr>\n",
       "      <th>2</th>\n",
       "      <td>Toyota</td>\n",
       "      <td>19382.693095</td>\n",
       "      <td>56534.491382</td>\n",
       "      <td>118069</td>\n",
       "    </tr>\n",
       "    <tr>\n",
       "      <th>3</th>\n",
       "      <td>Nissan</td>\n",
       "      <td>16620.979029</td>\n",
       "      <td>46231.912157</td>\n",
       "      <td>98710</td>\n",
       "    </tr>\n",
       "    <tr>\n",
       "      <th>4</th>\n",
       "      <td>Honda</td>\n",
       "      <td>16670.602575</td>\n",
       "      <td>57588.277211</td>\n",
       "      <td>76880</td>\n",
       "    </tr>\n",
       "    <tr>\n",
       "      <th>5</th>\n",
       "      <td>Jeep</td>\n",
       "      <td>22286.489747</td>\n",
       "      <td>48777.579215</td>\n",
       "      <td>60323</td>\n",
       "    </tr>\n",
       "    <tr>\n",
       "      <th>6</th>\n",
       "      <td>Hyundai</td>\n",
       "      <td>14298.765532</td>\n",
       "      <td>47737.850532</td>\n",
       "      <td>54647</td>\n",
       "    </tr>\n",
       "    <tr>\n",
       "      <th>7</th>\n",
       "      <td>Dodge</td>\n",
       "      <td>18022.711727</td>\n",
       "      <td>60832.636304</td>\n",
       "      <td>50688</td>\n",
       "    </tr>\n",
       "    <tr>\n",
       "      <th>8</th>\n",
       "      <td>GMC</td>\n",
       "      <td>28162.684888</td>\n",
       "      <td>59596.937112</td>\n",
       "      <td>43045</td>\n",
       "    </tr>\n",
       "    <tr>\n",
       "      <th>9</th>\n",
       "      <td>Kia</td>\n",
       "      <td>15388.701055</td>\n",
       "      <td>43430.197647</td>\n",
       "      <td>42834</td>\n",
       "    </tr>\n",
       "    <tr>\n",
       "      <th>10</th>\n",
       "      <td>Mercedes-Benz</td>\n",
       "      <td>31696.050248</td>\n",
       "      <td>48761.241142</td>\n",
       "      <td>38131</td>\n",
       "    </tr>\n",
       "    <tr>\n",
       "      <th>11</th>\n",
       "      <td>Volkswagen</td>\n",
       "      <td>14625.569259</td>\n",
       "      <td>44565.948112</td>\n",
       "      <td>33245</td>\n",
       "    </tr>\n",
       "    <tr>\n",
       "      <th>12</th>\n",
       "      <td>BMW</td>\n",
       "      <td>26920.712664</td>\n",
       "      <td>47738.791640</td>\n",
       "      <td>32415</td>\n",
       "    </tr>\n",
       "    <tr>\n",
       "      <th>13</th>\n",
       "      <td>Lexus</td>\n",
       "      <td>26367.030907</td>\n",
       "      <td>56007.080923</td>\n",
       "      <td>29831</td>\n",
       "    </tr>\n",
       "    <tr>\n",
       "      <th>14</th>\n",
       "      <td>Ram</td>\n",
       "      <td>30702.654104</td>\n",
       "      <td>42025.642024</td>\n",
       "      <td>29055</td>\n",
       "    </tr>\n",
       "    <tr>\n",
       "      <th>15</th>\n",
       "      <td>Chrysler</td>\n",
       "      <td>15744.883303</td>\n",
       "      <td>55931.305644</td>\n",
       "      <td>23848</td>\n",
       "    </tr>\n",
       "    <tr>\n",
       "      <th>16</th>\n",
       "      <td>Subaru</td>\n",
       "      <td>19434.577027</td>\n",
       "      <td>48474.799604</td>\n",
       "      <td>23758</td>\n",
       "    </tr>\n",
       "    <tr>\n",
       "      <th>17</th>\n",
       "      <td>Cadillac</td>\n",
       "      <td>27891.704395</td>\n",
       "      <td>50547.080371</td>\n",
       "      <td>21911</td>\n",
       "    </tr>\n",
       "    <tr>\n",
       "      <th>18</th>\n",
       "      <td>Mazda</td>\n",
       "      <td>15639.128217</td>\n",
       "      <td>49626.550385</td>\n",
       "      <td>19857</td>\n",
       "    </tr>\n",
       "    <tr>\n",
       "      <th>19</th>\n",
       "      <td>Buick</td>\n",
       "      <td>18781.214022</td>\n",
       "      <td>49248.919921</td>\n",
       "      <td>18157</td>\n",
       "    </tr>\n",
       "    <tr>\n",
       "      <th>20</th>\n",
       "      <td>INFINITI</td>\n",
       "      <td>25609.084385</td>\n",
       "      <td>51310.536954</td>\n",
       "      <td>17752</td>\n",
       "    </tr>\n",
       "    <tr>\n",
       "      <th>21</th>\n",
       "      <td>Audi</td>\n",
       "      <td>28960.997385</td>\n",
       "      <td>47223.204945</td>\n",
       "      <td>12618</td>\n",
       "    </tr>\n",
       "    <tr>\n",
       "      <th>22</th>\n",
       "      <td>Acura</td>\n",
       "      <td>23196.606480</td>\n",
       "      <td>56842.057019</td>\n",
       "      <td>11049</td>\n",
       "    </tr>\n",
       "    <tr>\n",
       "      <th>23</th>\n",
       "      <td>Lincoln</td>\n",
       "      <td>23043.063561</td>\n",
       "      <td>50699.257324</td>\n",
       "      <td>10069</td>\n",
       "    </tr>\n",
       "    <tr>\n",
       "      <th>24</th>\n",
       "      <td>Volvo</td>\n",
       "      <td>23474.052201</td>\n",
       "      <td>54602.180183</td>\n",
       "      <td>7337</td>\n",
       "    </tr>\n",
       "    <tr>\n",
       "      <th>25</th>\n",
       "      <td>MINI</td>\n",
       "      <td>16357.904724</td>\n",
       "      <td>43978.886407</td>\n",
       "      <td>6224</td>\n",
       "    </tr>\n",
       "    <tr>\n",
       "      <th>26</th>\n",
       "      <td>Mitsubishi</td>\n",
       "      <td>12930.381594</td>\n",
       "      <td>54606.476656</td>\n",
       "      <td>5933</td>\n",
       "    </tr>\n",
       "    <tr>\n",
       "      <th>27</th>\n",
       "      <td>Land</td>\n",
       "      <td>40025.407084</td>\n",
       "      <td>51933.335044</td>\n",
       "      <td>5844</td>\n",
       "    </tr>\n",
       "    <tr>\n",
       "      <th>28</th>\n",
       "      <td>Porsche</td>\n",
       "      <td>57277.459983</td>\n",
       "      <td>38241.063786</td>\n",
       "      <td>5785</td>\n",
       "    </tr>\n",
       "    <tr>\n",
       "      <th>29</th>\n",
       "      <td>Scion</td>\n",
       "      <td>12220.807245</td>\n",
       "      <td>56736.843928</td>\n",
       "      <td>4389</td>\n",
       "    </tr>\n",
       "    <tr>\n",
       "      <th>30</th>\n",
       "      <td>Jaguar</td>\n",
       "      <td>34416.353243</td>\n",
       "      <td>39526.018626</td>\n",
       "      <td>3114</td>\n",
       "    </tr>\n",
       "    <tr>\n",
       "      <th>31</th>\n",
       "      <td>FIAT</td>\n",
       "      <td>11930.197857</td>\n",
       "      <td>33857.184080</td>\n",
       "      <td>2613</td>\n",
       "    </tr>\n",
       "    <tr>\n",
       "      <th>32</th>\n",
       "      <td>Pontiac</td>\n",
       "      <td>7515.430287</td>\n",
       "      <td>108886.709915</td>\n",
       "      <td>2582</td>\n",
       "    </tr>\n",
       "    <tr>\n",
       "      <th>33</th>\n",
       "      <td>Mercury</td>\n",
       "      <td>6896.380803</td>\n",
       "      <td>106335.082183</td>\n",
       "      <td>1594</td>\n",
       "    </tr>\n",
       "    <tr>\n",
       "      <th>34</th>\n",
       "      <td>Saturn</td>\n",
       "      <td>6108.836565</td>\n",
       "      <td>110159.850416</td>\n",
       "      <td>1444</td>\n",
       "    </tr>\n",
       "    <tr>\n",
       "      <th>35</th>\n",
       "      <td>Maserati</td>\n",
       "      <td>49909.684554</td>\n",
       "      <td>23971.029732</td>\n",
       "      <td>1379</td>\n",
       "    </tr>\n",
       "    <tr>\n",
       "      <th>36</th>\n",
       "      <td>HUMMER</td>\n",
       "      <td>18704.528882</td>\n",
       "      <td>111335.001500</td>\n",
       "      <td>1333</td>\n",
       "    </tr>\n",
       "    <tr>\n",
       "      <th>37</th>\n",
       "      <td>smart</td>\n",
       "      <td>8166.085540</td>\n",
       "      <td>22040.561100</td>\n",
       "      <td>982</td>\n",
       "    </tr>\n",
       "    <tr>\n",
       "      <th>38</th>\n",
       "      <td>Suzuki</td>\n",
       "      <td>6771.890496</td>\n",
       "      <td>98614.012397</td>\n",
       "      <td>484</td>\n",
       "    </tr>\n",
       "    <tr>\n",
       "      <th>39</th>\n",
       "      <td>Ferrari</td>\n",
       "      <td>200600.085714</td>\n",
       "      <td>9715.707143</td>\n",
       "      <td>420</td>\n",
       "    </tr>\n",
       "    <tr>\n",
       "      <th>40</th>\n",
       "      <td>Saab</td>\n",
       "      <td>6715.506812</td>\n",
       "      <td>102983.678474</td>\n",
       "      <td>367</td>\n",
       "    </tr>\n",
       "    <tr>\n",
       "      <th>41</th>\n",
       "      <td>Bentley</td>\n",
       "      <td>101075.310627</td>\n",
       "      <td>27516.634877</td>\n",
       "      <td>367</td>\n",
       "    </tr>\n",
       "    <tr>\n",
       "      <th>42</th>\n",
       "      <td>Tesla</td>\n",
       "      <td>62328.514205</td>\n",
       "      <td>28184.488636</td>\n",
       "      <td>352</td>\n",
       "    </tr>\n",
       "    <tr>\n",
       "      <th>43</th>\n",
       "      <td>Genesis</td>\n",
       "      <td>44733.229665</td>\n",
       "      <td>4495.717703</td>\n",
       "      <td>209</td>\n",
       "    </tr>\n",
       "    <tr>\n",
       "      <th>44</th>\n",
       "      <td>Oldsmobile</td>\n",
       "      <td>3666.377907</td>\n",
       "      <td>128700.197674</td>\n",
       "      <td>172</td>\n",
       "    </tr>\n",
       "    <tr>\n",
       "      <th>45</th>\n",
       "      <td>Aston</td>\n",
       "      <td>99573.617450</td>\n",
       "      <td>17539.765101</td>\n",
       "      <td>149</td>\n",
       "    </tr>\n",
       "    <tr>\n",
       "      <th>46</th>\n",
       "      <td>Lamborghini</td>\n",
       "      <td>186711.382979</td>\n",
       "      <td>13835.390071</td>\n",
       "      <td>141</td>\n",
       "    </tr>\n",
       "    <tr>\n",
       "      <th>47</th>\n",
       "      <td>Rolls-Royce</td>\n",
       "      <td>201293.833333</td>\n",
       "      <td>17051.018519</td>\n",
       "      <td>108</td>\n",
       "    </tr>\n",
       "    <tr>\n",
       "      <th>48</th>\n",
       "      <td>Isuzu</td>\n",
       "      <td>4676.161905</td>\n",
       "      <td>139316.990476</td>\n",
       "      <td>105</td>\n",
       "    </tr>\n",
       "    <tr>\n",
       "      <th>49</th>\n",
       "      <td>Plymouth</td>\n",
       "      <td>20789.942857</td>\n",
       "      <td>49169.042857</td>\n",
       "      <td>70</td>\n",
       "    </tr>\n",
       "    <tr>\n",
       "      <th>50</th>\n",
       "      <td>McLaren</td>\n",
       "      <td>215340.859375</td>\n",
       "      <td>4498.296875</td>\n",
       "      <td>64</td>\n",
       "    </tr>\n",
       "    <tr>\n",
       "      <th>51</th>\n",
       "      <td>Lotus</td>\n",
       "      <td>52548.755102</td>\n",
       "      <td>16237.714286</td>\n",
       "      <td>49</td>\n",
       "    </tr>\n",
       "    <tr>\n",
       "      <th>52</th>\n",
       "      <td>Alfa</td>\n",
       "      <td>54228.704545</td>\n",
       "      <td>3877.159091</td>\n",
       "      <td>44</td>\n",
       "    </tr>\n",
       "    <tr>\n",
       "      <th>53</th>\n",
       "      <td>Fisker</td>\n",
       "      <td>46770.720000</td>\n",
       "      <td>19552.040000</td>\n",
       "      <td>25</td>\n",
       "    </tr>\n",
       "    <tr>\n",
       "      <th>54</th>\n",
       "      <td>AM</td>\n",
       "      <td>59934.210526</td>\n",
       "      <td>67332.894737</td>\n",
       "      <td>19</td>\n",
       "    </tr>\n",
       "    <tr>\n",
       "      <th>55</th>\n",
       "      <td>Freightliner</td>\n",
       "      <td>28341.076923</td>\n",
       "      <td>54221.000000</td>\n",
       "      <td>13</td>\n",
       "    </tr>\n",
       "    <tr>\n",
       "      <th>56</th>\n",
       "      <td>Maybach</td>\n",
       "      <td>86702.363636</td>\n",
       "      <td>44603.363636</td>\n",
       "      <td>11</td>\n",
       "    </tr>\n",
       "    <tr>\n",
       "      <th>57</th>\n",
       "      <td>Geo</td>\n",
       "      <td>3998.000000</td>\n",
       "      <td>122600.000000</td>\n",
       "      <td>3</td>\n",
       "    </tr>\n",
       "  </tbody>\n",
       "</table>\n",
       "</div>"
      ],
      "text/plain": [
       "             Make     avg(Price)   avg(Mileage)  count(Id)\n",
       "0            Ford   21311.796721   57283.250057     161999\n",
       "1       Chevrolet   21770.092185   54561.408447     150426\n",
       "2          Toyota   19382.693095   56534.491382     118069\n",
       "3          Nissan   16620.979029   46231.912157      98710\n",
       "4           Honda   16670.602575   57588.277211      76880\n",
       "5            Jeep   22286.489747   48777.579215      60323\n",
       "6         Hyundai   14298.765532   47737.850532      54647\n",
       "7           Dodge   18022.711727   60832.636304      50688\n",
       "8             GMC   28162.684888   59596.937112      43045\n",
       "9             Kia   15388.701055   43430.197647      42834\n",
       "10  Mercedes-Benz   31696.050248   48761.241142      38131\n",
       "11     Volkswagen   14625.569259   44565.948112      33245\n",
       "12            BMW   26920.712664   47738.791640      32415\n",
       "13          Lexus   26367.030907   56007.080923      29831\n",
       "14            Ram   30702.654104   42025.642024      29055\n",
       "15       Chrysler   15744.883303   55931.305644      23848\n",
       "16         Subaru   19434.577027   48474.799604      23758\n",
       "17       Cadillac   27891.704395   50547.080371      21911\n",
       "18          Mazda   15639.128217   49626.550385      19857\n",
       "19          Buick   18781.214022   49248.919921      18157\n",
       "20       INFINITI   25609.084385   51310.536954      17752\n",
       "21           Audi   28960.997385   47223.204945      12618\n",
       "22          Acura   23196.606480   56842.057019      11049\n",
       "23        Lincoln   23043.063561   50699.257324      10069\n",
       "24          Volvo   23474.052201   54602.180183       7337\n",
       "25           MINI   16357.904724   43978.886407       6224\n",
       "26     Mitsubishi   12930.381594   54606.476656       5933\n",
       "27           Land   40025.407084   51933.335044       5844\n",
       "28        Porsche   57277.459983   38241.063786       5785\n",
       "29          Scion   12220.807245   56736.843928       4389\n",
       "30         Jaguar   34416.353243   39526.018626       3114\n",
       "31           FIAT   11930.197857   33857.184080       2613\n",
       "32        Pontiac    7515.430287  108886.709915       2582\n",
       "33        Mercury    6896.380803  106335.082183       1594\n",
       "34         Saturn    6108.836565  110159.850416       1444\n",
       "35       Maserati   49909.684554   23971.029732       1379\n",
       "36         HUMMER   18704.528882  111335.001500       1333\n",
       "37          smart    8166.085540   22040.561100        982\n",
       "38         Suzuki    6771.890496   98614.012397        484\n",
       "39        Ferrari  200600.085714    9715.707143        420\n",
       "40           Saab    6715.506812  102983.678474        367\n",
       "41        Bentley  101075.310627   27516.634877        367\n",
       "42          Tesla   62328.514205   28184.488636        352\n",
       "43        Genesis   44733.229665    4495.717703        209\n",
       "44     Oldsmobile    3666.377907  128700.197674        172\n",
       "45          Aston   99573.617450   17539.765101        149\n",
       "46    Lamborghini  186711.382979   13835.390071        141\n",
       "47    Rolls-Royce  201293.833333   17051.018519        108\n",
       "48          Isuzu    4676.161905  139316.990476        105\n",
       "49       Plymouth   20789.942857   49169.042857         70\n",
       "50        McLaren  215340.859375    4498.296875         64\n",
       "51          Lotus   52548.755102   16237.714286         49\n",
       "52           Alfa   54228.704545    3877.159091         44\n",
       "53         Fisker   46770.720000   19552.040000         25\n",
       "54             AM   59934.210526   67332.894737         19\n",
       "55   Freightliner   28341.076923   54221.000000         13\n",
       "56        Maybach   86702.363636   44603.363636         11\n",
       "57            Geo    3998.000000  122600.000000          3"
      ]
     },
     "execution_count": 76,
     "metadata": {},
     "output_type": "execute_result"
    }
   ],
   "source": [
    "make_dist=usedcar_data_trans.groupBy(\"Make\").agg({'Id':'count','Price': 'mean','Mileage': 'mean'}).sort(\"count(ID)\",ascending=False).toPandas()\n",
    "\n",
    "make_dist\n"
   ]
  },
  {
   "cell_type": "code",
   "execution_count": null,
   "metadata": {},
   "outputs": [],
   "source": [
    "make_dist"
   ]
  },
  {
   "cell_type": "code",
   "execution_count": 88,
   "metadata": {},
   "outputs": [
    {
     "data": {
      "image/png": "[encoded data removed]",
      "text/plain": [
       "<Figure size 3600x360 with 1 Axes>"
      ]
     },
     "metadata": {
      "needs_background": "light"
     },
     "output_type": "display_data"
    }
   ],
   "source": [
    "plt.figure(figsize=(50,5))\n",
    "\n",
    "plt.title('Average Quoted Price by car model')\n",
    "sns.barplot(x='Make', y='avg(Price)', data=make_dist, palette='summer');"
   ]
  },
  {
   "cell_type": "code",
   "execution_count": 91,
   "metadata": {},
   "outputs": [
    {
     "data": {
      "image/png": "[encoded data removed]",
      "text/plain": [
       "<Figure size 3600x360 with 1 Axes>"
      ]
     },
     "metadata": {
      "needs_background": "light"
     },
     "output_type": "display_data"
    }
   ],
   "source": [
    "plt.figure(figsize=(50,5));\n",
    "plt.title('Count of listings by car model')\n",
    "sns.lineplot(x='Make', y='count(Id)', data=make_dist);"
   ]
  },
  {
   "cell_type": "code",
   "execution_count": 27,
   "metadata": {},
   "outputs": [],
   "source": [
    "#carbox = usedcar_data_trans_df.boxplot(column = 'Price', by = 'Make', figsize = (80,30), layout = (10,1))"
   ]
  },
  {
   "cell_type": "markdown",
   "metadata": {},
   "source": [
    "## (Part E): Feature Engineering work"
   ]
  },
  {
   "cell_type": "markdown",
   "metadata": {},
   "source": [
    "#### (1) Creating Year_Diff column to calculate difference between current year and car model "
   ]
  },
  {
   "cell_type": "code",
   "execution_count": 17,
   "metadata": {},
   "outputs": [],
   "source": [
    "#Creating a new field called difference in years\n",
    "from pyspark.sql import functions as f\n",
    "from pyspark.sql.functions import current_date\n",
    "from pyspark.sql.functions import year\n",
    "from pyspark.sql.functions import to_date\n",
    "\n",
    "\n",
    "usedcar_data_trans = usedcar_data_trans.withColumn(\n",
    "                    \"Year_Diff\",\n",
    "                    year(current_date()) - f.col(\"Year\"))"
   ]
  },
  {
   "cell_type": "code",
   "execution_count": 16,
   "metadata": {},
   "outputs": [
    {
     "name": "stdout",
     "output_type": "stream",
     "text": [
      "+---+-----+----+-------+--------------+-----+-----------------+-----+-----------------+---------+---------+\n",
      "| Id|Price|Year|Mileage|          City|State|              Vin| Make|            Model|New_state|Year_Diff|\n",
      "+---+-----+----+-------+--------------+-----+-----------------+-----+-----------------+---------+---------+\n",
      "|  1|16472|2015|  18681|Jefferson City|   MO|KL4CJBSBXFB267643|Buick|EncoreConvenience|       MO|        5|\n",
      "|  2|15749|2015|  27592|      Highland|   IN|KL4CJASB5FB245057|Buick|        EncoreFWD|       IN|        5|\n",
      "|  3|16998|2015|  13650|         Boone|   NC|KL4CJCSB0FB264921|Buick|    EncoreLeather|       NC|        5|\n",
      "|  4|15777|2015|  25195|   New Orleans|   LA|KL4CJASB4FB217542|Buick|        EncoreFWD|       LA|        5|\n",
      "|  5|16784|2015|  22800|     Las Vegas|   NV|KL4CJBSB3FB166881|Buick|EncoreConvenience|       NV|        5|\n",
      "|  6|17020|2016|  16877|  Grand Island|   NY|KL4CJASB7GB536760|Buick|        EncoreFWD|       NY|        4|\n",
      "|  7|15950|2015|  27885|   West Covina|   CA|KL4CJASB3FB241802|Buick|        EncoreFWD|       CA|        5|\n",
      "|  8|17091|2016|  24008|   Little Rock|   AR|KL4CJASBXGB565542|Buick|        EncoreFWD|       AR|        4|\n",
      "|  9|16995|2015|   8624|   Punta Gorda|   FL|KL4CJFSB7FB173565|Buick|EncoreConvenience|       FL|        5|\n",
      "| 10|17700|2015|  13807|  Jacksonville|   NC|KL4CJBSB8FB068543|Buick|EncoreConvenience|       NC|        5|\n",
      "+---+-----+----+-------+--------------+-----+-----------------+-----+-----------------+---------+---------+\n",
      "only showing top 10 rows\n",
      "\n"
     ]
    }
   ],
   "source": [
    "usedcar_data_trans.show(10)"
   ]
  },
  {
   "cell_type": "code",
   "execution_count": 17,
   "metadata": {},
   "outputs": [
    {
     "name": "stdout",
     "output_type": "stream",
     "text": [
      "+-------+-----------------+\n",
      "|summary|        Year_Diff|\n",
      "+-------+-----------------+\n",
      "|  count|          1233042|\n",
      "|   mean|6.674899151853708|\n",
      "| stddev|3.423717133939022|\n",
      "|    min|                2|\n",
      "|    max|               23|\n",
      "+-------+-----------------+\n",
      "\n"
     ]
    }
   ],
   "source": [
    "#usedcar_data_trans.select(\"Year_Diff\").describe()\n",
    "\n",
    "usedcar_data_trans.describe('Year_Diff').show()"
   ]
  },
  {
   "cell_type": "markdown",
   "metadata": {},
   "source": [
    "#### (2) Bring a new column: State's median income from US Labour data into analysis dataset by merging on State column"
   ]
  },
  {
   "cell_type": "markdown",
   "metadata": {},
   "source": [
    "##### (2.a) Trimming state column in used car dataset before merging"
   ]
  },
  {
   "cell_type": "code",
   "execution_count": 18,
   "metadata": {},
   "outputs": [
    {
     "name": "stdout",
     "output_type": "stream",
     "text": [
      "+---+-----+----+-------+--------------+-----+-----------------+-----+-----------------+---------+---------+----------+\n",
      "| Id|Price|Year|Mileage|          City|State|              Vin| Make|            Model|New_state|Year_Diff|New_state2|\n",
      "+---+-----+----+-------+--------------+-----+-----------------+-----+-----------------+---------+---------+----------+\n",
      "|  1|16472|2015|  18681|Jefferson City|   MO|KL4CJBSBXFB267643|Buick|EncoreConvenience|       MO|        5|        MO|\n",
      "|  2|15749|2015|  27592|      Highland|   IN|KL4CJASB5FB245057|Buick|        EncoreFWD|       IN|        5|        IN|\n",
      "|  3|16998|2015|  13650|         Boone|   NC|KL4CJCSB0FB264921|Buick|    EncoreLeather|       NC|        5|        NC|\n",
      "|  4|15777|2015|  25195|   New Orleans|   LA|KL4CJASB4FB217542|Buick|        EncoreFWD|       LA|        5|        LA|\n",
      "|  5|16784|2015|  22800|     Las Vegas|   NV|KL4CJBSB3FB166881|Buick|EncoreConvenience|       NV|        5|        NV|\n",
      "+---+-----+----+-------+--------------+-----+-----------------+-----+-----------------+---------+---------+----------+\n",
      "only showing top 5 rows\n",
      "\n"
     ]
    }
   ],
   "source": [
    "from pyspark.sql.functions import *\n",
    "\n",
    "usedcar_data_trans = usedcar_data_trans.withColumn('New_state2',trim(usedcar_data_trans.New_state))\n",
    "\n",
    "usedcar_data_trans.show(5)"
   ]
  },
  {
   "cell_type": "code",
   "execution_count": 19,
   "metadata": {},
   "outputs": [
    {
     "data": {
      "text/plain": [
       "51"
      ]
     },
     "execution_count": 19,
     "metadata": {},
     "output_type": "execute_result"
    }
   ],
   "source": [
    "usedcar_data_trans.select('New_state2').distinct().count()"
   ]
  },
  {
   "cell_type": "markdown",
   "metadata": {},
   "source": [
    "##### (2.b) Reading median income dataset from US labor data adn creating data frame median_income"
   ]
  },
  {
   "cell_type": "code",
   "execution_count": 18,
   "metadata": {},
   "outputs": [],
   "source": [
    "#median_income = (spark.read.csv('Median inc 2018_csv.csv',header=True, inferSchema=True))"
   ]
  },
  {
   "cell_type": "code",
   "execution_count": 19,
   "metadata": {},
   "outputs": [
    {
     "name": "stdout",
     "output_type": "stream",
     "text": [
      "+---------+-------------+\n",
      "|New_state|M_Income_2018|\n",
      "+---------+-------------+\n",
      "|       AL|        49936|\n",
      "|       AK|        68734|\n",
      "|       AZ|        62283|\n",
      "|       AR|        49781|\n",
      "|       CA|        70489|\n",
      "|       CO|        73034|\n",
      "+---------+-------------+\n",
      "only showing top 6 rows\n",
      "\n"
     ]
    }
   ],
   "source": [
    "median_income.show(6)"
   ]
  },
  {
   "cell_type": "markdown",
   "metadata": {},
   "source": [
    "##### (2.c) Trimming state column in Median income dataset before merging"
   ]
  },
  {
   "cell_type": "code",
   "execution_count": 20,
   "metadata": {},
   "outputs": [
    {
     "name": "stdout",
     "output_type": "stream",
     "text": [
      "+---------+-------------+----------+\n",
      "|New_state|M_Income_2018|New_state2|\n",
      "+---------+-------------+----------+\n",
      "|       AL|        49936|        AL|\n",
      "|       AK|        68734|        AK|\n",
      "|       AZ|        62283|        AZ|\n",
      "|       AR|        49781|        AR|\n",
      "|       CA|        70489|        CA|\n",
      "+---------+-------------+----------+\n",
      "only showing top 5 rows\n",
      "\n"
     ]
    }
   ],
   "source": [
    "from pyspark.sql.functions import *\n",
    "\n",
    "median_income = median_income.withColumn('New_state2',trim(median_income.New_state))\n",
    "\n",
    "median_income.show(5)"
   ]
  },
  {
   "cell_type": "markdown",
   "metadata": {},
   "source": [
    "##### (2.d) Dropping New_state column from median income dataset"
   ]
  },
  {
   "cell_type": "code",
   "execution_count": 21,
   "metadata": {},
   "outputs": [],
   "source": [
    "median_income=median_income.drop('New_state')"
   ]
  },
  {
   "cell_type": "code",
   "execution_count": 22,
   "metadata": {},
   "outputs": [
    {
     "name": "stdout",
     "output_type": "stream",
     "text": [
      "+-------------+----------+\n",
      "|M_Income_2018|New_state2|\n",
      "+-------------+----------+\n",
      "|        49936|        AL|\n",
      "|        68734|        AK|\n",
      "|        62283|        AZ|\n",
      "|        49781|        AR|\n",
      "|        70489|        CA|\n",
      "+-------------+----------+\n",
      "only showing top 5 rows\n",
      "\n"
     ]
    }
   ],
   "source": [
    "median_income.show(5)"
   ]
  },
  {
   "cell_type": "markdown",
   "metadata": {},
   "source": [
    "##### (2.e) Merge operation: Doing a left join (left being User car dataset) on New_state2 variable to bring in Median Income of each state into analytical dataset"
   ]
  },
  {
   "cell_type": "code",
   "execution_count": 23,
   "metadata": {},
   "outputs": [],
   "source": [
    "usedcar_data_trans_join = usedcar_data_trans.join(median_income, on=['New_state2'], how='left')"
   ]
  },
  {
   "cell_type": "code",
   "execution_count": 22,
   "metadata": {},
   "outputs": [
    {
     "name": "stdout",
     "output_type": "stream",
     "text": [
      "+----------+---+-----+----+-------+--------------+-----+-----------------+-----+-----------------+---------+---------+-------------+\n",
      "|New_state2| Id|Price|Year|Mileage|          City|State|              Vin| Make|            Model|New_state|Year_Diff|M_Income_2018|\n",
      "+----------+---+-----+----+-------+--------------+-----+-----------------+-----+-----------------+---------+---------+-------------+\n",
      "|        MO|  1|16472|2015|  18681|Jefferson City|   MO|KL4CJBSBXFB267643|Buick|EncoreConvenience|       MO|        5|        61726|\n",
      "|        IN|  2|15749|2015|  27592|      Highland|   IN|KL4CJASB5FB245057|Buick|        EncoreFWD|       IN|        5|        59892|\n",
      "|        NC|  3|16998|2015|  13650|         Boone|   NC|KL4CJCSB0FB264921|Buick|    EncoreLeather|       NC|        5|        53369|\n",
      "|        LA|  4|15777|2015|  25195|   New Orleans|   LA|KL4CJASB4FB217542|Buick|        EncoreFWD|       LA|        5|        49973|\n",
      "|        NV|  5|16784|2015|  22800|     Las Vegas|   NV|KL4CJBSB3FB166881|Buick|EncoreConvenience|       NV|        5|        61864|\n",
      "+----------+---+-----+----+-------+--------------+-----+-----------------+-----+-----------------+---------+---------+-------------+\n",
      "only showing top 5 rows\n",
      "\n"
     ]
    }
   ],
   "source": [
    "usedcar_data_trans_join.show(5)"
   ]
  },
  {
   "cell_type": "markdown",
   "metadata": {},
   "source": [
    "##### (2.f) Validation: checking sumamry statistics of Median income"
   ]
  },
  {
   "cell_type": "code",
   "execution_count": 27,
   "metadata": {},
   "outputs": [
    {
     "name": "stdout",
     "output_type": "stream",
     "text": [
      "+-------+-----------------+\n",
      "|summary|    M_Income_2018|\n",
      "+-------+-----------------+\n",
      "|  count|          1233042|\n",
      "|   mean|64370.18705202256|\n",
      "| stddev|9377.064940964154|\n",
      "|    min|            42781|\n",
      "|    max|            86345|\n",
      "+-------+-----------------+\n",
      "\n"
     ]
    }
   ],
   "source": [
    "usedcar_data_trans_join.describe('M_Income_2018').show()"
   ]
  },
  {
   "cell_type": "markdown",
   "metadata": {},
   "source": [
    "##### (2.f) Validation: checking if every state has corresponding Median income variable"
   ]
  },
  {
   "cell_type": "code",
   "execution_count": 28,
   "metadata": {},
   "outputs": [
    {
     "name": "stdout",
     "output_type": "stream",
     "text": [
      "+----------+------------------+------------------+---------+------------------+\n",
      "|New_state2|        avg(Price)|      avg(Mileage)|count(Id)|avg(M_Income_2018)|\n",
      "+----------+------------------+------------------+---------+------------------+\n",
      "|        AK|20853.994320664046| 56308.84665792923|     2289|           68734.0|\n",
      "|        AL|21881.348071595992| 56793.06376518219|    18772|           49936.0|\n",
      "|        AR|22959.521537510303| 50402.12819455894|     9704|           49781.0|\n",
      "|        AZ|19912.956773202397|54220.869024309424|    33197|           62283.0|\n",
      "|        CA|21234.500565742765| 48262.45188595317|   115777|           70489.0|\n",
      "|        CO|20995.879213398683|63689.869952190515|    33257|           73034.0|\n",
      "|        CT|18634.744669473966|  52125.0653699619|    14961|           72812.0|\n",
      "|        DC|12140.137931034482|122420.93103448275|       29|           85750.0|\n",
      "|        DE|21347.755953973774| 42034.93283382392|     3737|           65012.0|\n",
      "|        FL| 20719.37049364731| 46260.66043076583|   108458|           54644.0|\n",
      "|        GA| 21100.48434060081| 56016.99188622967|    56324|           55821.0|\n",
      "|        HI| 17042.23128342246|  59430.2449197861|     3740|           80108.0|\n",
      "|        IA|21416.134687953556| 60200.19274310595|     6890|           68718.0|\n",
      "|        ID|20512.622593320237|63713.966601178785|     5090|           58728.0|\n",
      "|        IL|20827.914986790198|   51977.986573052|    55262|           70145.0|\n",
      "|        IN| 19449.98500381259| 58879.09027365924|    23606|           59892.0|\n",
      "|        KS|20339.058823529413| 55087.55720946915|    11152|           63938.0|\n",
      "|        KY| 20144.04190693975| 49597.77918075164|    20116|           54555.0|\n",
      "|        LA|22651.757421908613| 50592.35151880217|    11621|           49973.0|\n",
      "|        MA|21308.914204329663| 43063.93562476263|    26330|           86345.0|\n",
      "|        MD|20477.290866601754|47094.814099318406|    25675|           86223.0|\n",
      "|        ME|22123.733511246664|49177.269157453295|     2623|           58663.0|\n",
      "|        MI| 18886.05364961119| 59070.29602038816|    15303|           60449.0|\n",
      "|        MN| 20857.26872933691|  56339.1409144782|    16031|           71817.0|\n",
      "|        MO| 20840.32531198092| 53430.99480386729|    23479|           61726.0|\n",
      "|        MS|23365.633679354094| 56229.39953863899|     8670|           42781.0|\n",
      "|        MT|24417.711771177117|63210.898789878986|     2727|           57679.0|\n",
      "|        NC|21095.673322459083| 56478.09816825093|    53337|           53369.0|\n",
      "|        ND| 20558.94568690096| 67402.59158679446|     1878|           66505.0|\n",
      "|        NE|21802.892411143133|   63083.482365857|     7287|           67575.0|\n",
      "|        NH| 20771.30516826923| 51009.72055288462|     8320|           81346.0|\n",
      "|        NJ| 21228.44627070749| 50329.00552199725|    38573|           74176.0|\n",
      "|        NM| 22646.34179879332| 49694.06342079416|     7127|           48283.0|\n",
      "|        NV|20498.890492116578| 50306.39885332059|    10465|           61864.0|\n",
      "|        NY|22042.091490138788|45039.849890430974|    38332|           67274.0|\n",
      "|        OH| 18464.37292085409| 57420.75449328556|    34329|           61633.0|\n",
      "|        OK| 21249.83568199947| 57156.78144110609|    15044|           54434.0|\n",
      "|        OR|21699.070575607137| 55241.82255467597|    14906|           69165.0|\n",
      "|        PA|21130.626240352813|48807.757491118464|    40815|           64524.0|\n",
      "|        RI|21984.852080123266| 42267.42835130971|     2596|           62266.0|\n",
      "|        SC| 20696.90891310422|  57082.6457809444|    14316|           57444.0|\n",
      "|        SD| 24051.72218917311|  67305.9506246282|     1681|           59463.0|\n",
      "|        TN|20963.398929909043| 60914.42578919208|    28035|           56060.0|\n",
      "|        TX|23205.636322588383| 51571.83236325411|   141741|           59785.0|\n",
      "|        UT|  21262.9444045677| 53792.85324632953|    15325|           77067.0|\n",
      "|        VA| 18741.56700864693| 61228.31052345152|    49613|           77151.0|\n",
      "|        VT|18690.725210628647| 53671.61049902787|     1543|           70066.0|\n",
      "|        WA| 21488.29743543759| 58175.70032281205|    33456|           79726.0|\n",
      "|        WI| 20464.50643360039|50502.909565428505|    16476|           62629.0|\n",
      "|        WV|22921.719167904903|44381.878157503714|     2019|           50573.0|\n",
      "|        WY|24548.950396825396| 60667.08432539683|     1008|           62539.0|\n",
      "+----------+------------------+------------------+---------+------------------+\n",
      "\n"
     ]
    }
   ],
   "source": [
    "usedcar_data_trans_join.groupBy(\"New_state2\").agg({'Id':'count','Price': 'mean','Mileage': 'mean','M_Income_2018': 'mean'}).sort(\"New_state2\",ascending=True).show(51)"
   ]
  },
  {
   "cell_type": "markdown",
   "metadata": {},
   "source": [
    "#### Result of Validation of \"adding Median income 2018 column\": All states have median income value populated, so no issues in merge"
   ]
  },
  {
   "cell_type": "markdown",
   "metadata": {},
   "source": [
    "#### (3) Bringning Model category categorical variable (previously created on Make_Model_dist) dataset into analysis dataset by merging on Make_Model column"
   ]
  },
  {
   "cell_type": "markdown",
   "metadata": {},
   "source": [
    "##### (3.a) Concatenating Make and Model variables/columns in analytical dataset which will be used to merge"
   ]
  },
  {
   "cell_type": "code",
   "execution_count": 24,
   "metadata": {},
   "outputs": [
    {
     "name": "stdout",
     "output_type": "stream",
     "text": [
      "+----------+---+-----+----+-------+--------------+-----+-----------------+-----+-----------------+---------+---------+-------------+--------------------+\n",
      "|New_state2| Id|Price|Year|Mileage|          City|State|              Vin| Make|            Model|New_state|Year_Diff|M_Income_2018|          Make_Model|\n",
      "+----------+---+-----+----+-------+--------------+-----+-----------------+-----+-----------------+---------+---------+-------------+--------------------+\n",
      "|        MO|  1|16472|2015|  18681|Jefferson City|   MO|KL4CJBSBXFB267643|Buick|EncoreConvenience|       MO|        5|        61726|Buick_EncoreConve...|\n",
      "|        IN|  2|15749|2015|  27592|      Highland|   IN|KL4CJASB5FB245057|Buick|        EncoreFWD|       IN|        5|        59892|     Buick_EncoreFWD|\n",
      "|        NC|  3|16998|2015|  13650|         Boone|   NC|KL4CJCSB0FB264921|Buick|    EncoreLeather|       NC|        5|        53369| Buick_EncoreLeather|\n",
      "|        LA|  4|15777|2015|  25195|   New Orleans|   LA|KL4CJASB4FB217542|Buick|        EncoreFWD|       LA|        5|        49973|     Buick_EncoreFWD|\n",
      "|        NV|  5|16784|2015|  22800|     Las Vegas|   NV|KL4CJBSB3FB166881|Buick|EncoreConvenience|       NV|        5|        61864|Buick_EncoreConve...|\n",
      "+----------+---+-----+----+-------+--------------+-----+-----------------+-----+-----------------+---------+---------+-------------+--------------------+\n",
      "only showing top 5 rows\n",
      "\n"
     ]
    }
   ],
   "source": [
    "from pyspark.sql.functions import *\n",
    "from pyspark.sql.functions import concat, col, lit\n",
    "from pyspark.sql import functions as sf\n",
    "\n",
    "\n",
    "usedcar_data_trans_join = usedcar_data_trans_join.withColumn('Make_Model', \n",
    "                    sf.concat(sf.col('Make'),sf.lit('_'),sf.col('Model')))\n",
    "\n",
    "\n",
    "usedcar_data_trans_join.show(5)"
   ]
  },
  {
   "cell_type": "markdown",
   "metadata": {},
   "source": [
    "##### (3.b) Keeping only necessary variables/columns in make_model_dist Pandas dataset, we only need variable Model_category to be merged to analytical dataset adn Make_Model variable on which merge will happen"
   ]
  },
  {
   "cell_type": "code",
   "execution_count": 26,
   "metadata": {},
   "outputs": [
    {
     "data": {
      "text/html": [
       "<div>\n",
       "<style scoped>\n",
       "    .dataframe tbody tr th:only-of-type {\n",
       "        vertical-align: middle;\n",
       "    }\n",
       "\n",
       "    .dataframe tbody tr th {\n",
       "        vertical-align: top;\n",
       "    }\n",
       "\n",
       "    .dataframe thead th {\n",
       "        text-align: right;\n",
       "    }\n",
       "</style>\n",
       "<table border=\"1\" class=\"dataframe\">\n",
       "  <thead>\n",
       "    <tr style=\"text-align: right;\">\n",
       "      <th></th>\n",
       "      <th>Make_Model</th>\n",
       "      <th>Model_Category</th>\n",
       "    </tr>\n",
       "  </thead>\n",
       "  <tbody>\n",
       "    <tr>\n",
       "      <th>0</th>\n",
       "      <td>Lexus_LFALFA</td>\n",
       "      <td>Premium</td>\n",
       "    </tr>\n",
       "    <tr>\n",
       "      <th>1</th>\n",
       "      <td>Lexus_LFA2dr</td>\n",
       "      <td>Premium</td>\n",
       "    </tr>\n",
       "    <tr>\n",
       "      <th>2</th>\n",
       "      <td>McLaren_675LT2dr</td>\n",
       "      <td>Premium</td>\n",
       "    </tr>\n",
       "  </tbody>\n",
       "</table>\n",
       "</div>"
      ],
      "text/plain": [
       "         Make_Model Model_Category\n",
       "0      Lexus_LFALFA        Premium\n",
       "1      Lexus_LFA2dr        Premium\n",
       "2  McLaren_675LT2dr        Premium"
      ]
     },
     "execution_count": 26,
     "metadata": {},
     "output_type": "execute_result"
    }
   ],
   "source": [
    "make_model_dist2=make_model_dist[['Make_Model','Model_Category']]\n",
    "make_model_dist2.head(3)"
   ]
  },
  {
   "cell_type": "markdown",
   "metadata": {},
   "source": [
    "##### (3.c) Converting Pandas dataset into PySpark dataset to be used for merging"
   ]
  },
  {
   "cell_type": "code",
   "execution_count": 27,
   "metadata": {},
   "outputs": [
    {
     "name": "stdout",
     "output_type": "stream",
     "text": [
      "+----------------+--------------+\n",
      "|      Make_Model|Model_Category|\n",
      "+----------------+--------------+\n",
      "|    Lexus_LFALFA|       Premium|\n",
      "|    Lexus_LFA2dr|       Premium|\n",
      "|McLaren_675LT2dr|       Premium|\n",
      "+----------------+--------------+\n",
      "only showing top 3 rows\n",
      "\n"
     ]
    }
   ],
   "source": [
    "from pyspark.sql import SparkSession\n",
    "make_model_dist2_pysdf=spark.createDataFrame(make_model_dist2)\n",
    "make_model_dist2_pysdf.show(3)"
   ]
  },
  {
   "cell_type": "markdown",
   "metadata": {},
   "source": [
    "##### (3.d) Merge operation: Doing a left join (left being User car dataset) on Make_Model variable/column to bring in variable Price_category into analytical dataset"
   ]
  },
  {
   "cell_type": "code",
   "execution_count": 28,
   "metadata": {},
   "outputs": [],
   "source": [
    "usedcar_data_trans_join = usedcar_data_trans_join.join(make_model_dist2_pysdf, on=['Make_Model'], how='left')"
   ]
  },
  {
   "cell_type": "code",
   "execution_count": 33,
   "metadata": {},
   "outputs": [
    {
     "name": "stdout",
     "output_type": "stream",
     "text": [
      "+--------------------+----------+------+-----+----+-------+----------+-----+-----------------+-----+------------------+---------+---------+-------------+--------------+\n",
      "|          Make_Model|New_state2|    Id|Price|Year|Mileage|      City|State|              Vin| Make|             Model|New_state|Year_Diff|M_Income_2018|Model_Category|\n",
      "+--------------------+----------+------+-----+----+-------+----------+-----+-----------------+-----+------------------+---------+---------+-------------+--------------+\n",
      "|Buick_EnclaveConv...|        CA|143096|23950|2014|  34921| Escondido|   CA|5GAKRAKD8EJ247662|Buick|EnclaveConvenience|       CA|        6|        70489|        Medium|\n",
      "|Buick_EnclaveConv...|        FL|144112|21990|2014|  34105| Homestead|   FL|5GAKRAKD2EJ364265|Buick|EnclaveConvenience|       FL|        6|        54644|        Medium|\n",
      "|Buick_EnclaveConv...|        CA|144147|18888|2013|  88654|Sacramento|   CA|5GAKRBKD5DJ196271|Buick|EnclaveConvenience|       CA|        7|        70489|        Medium|\n",
      "+--------------------+----------+------+-----+----+-------+----------+-----+-----------------+-----+------------------+---------+---------+-------------+--------------+\n",
      "only showing top 3 rows\n",
      "\n"
     ]
    }
   ],
   "source": [
    "usedcar_data_trans_join.show(3)"
   ]
  },
  {
   "cell_type": "markdown",
   "metadata": {},
   "source": [
    "##### (3.e) Validation of merge"
   ]
  },
  {
   "cell_type": "code",
   "execution_count": 29,
   "metadata": {},
   "outputs": [
    {
     "name": "stdout",
     "output_type": "stream",
     "text": [
      "+--------------+------------------+---------+\n",
      "|Model_Category|        avg(Price)|count(Id)|\n",
      "+--------------+------------------+---------+\n",
      "|       Premium| 68047.11708178074|    20396|\n",
      "|        Medium| 28210.58682887849|   518088|\n",
      "|       Economy|14390.341274594779|   694558|\n",
      "+--------------+------------------+---------+\n",
      "\n"
     ]
    }
   ],
   "source": [
    "usedcar_data_trans_join.groupBy(\"Model_Category\").agg({'Id':'count','Price': 'mean'}).show()"
   ]
  },
  {
   "cell_type": "markdown",
   "metadata": {},
   "source": [
    "##### Validation result: \n",
    "* Sum of count across the 3 categories is 1,233,042 (1.2M) which is the number of rows in original dataset, so all rows have been assigned Model category\n",
    "* Average price in Economy is lower than 60th percentile (USD 20,636)\n",
    "* Average price in Medium is between USD 20,636 and USD 47,087 (95th percentile)\n",
    "* Average price in Premium is above USD 47,087 (95th percentile)\n"
   ]
  },
  {
   "cell_type": "markdown",
   "metadata": {},
   "source": [
    "## (PART F): Preparing data for modeling"
   ]
  },
  {
   "cell_type": "markdown",
   "metadata": {},
   "source": [
    "### F.a) Dropping unnecessary variables from Analytical dataset which will not be used in modeling"
   ]
  },
  {
   "cell_type": "code",
   "execution_count": 30,
   "metadata": {},
   "outputs": [],
   "source": [
    "#Dropping unnecessary variables\n",
    "usedcar_data_trans_join2 = usedcar_data_trans_join.drop('Make_Model','City','New_state','New_state2','Vin','Make','Model','State','Year')"
   ]
  },
  {
   "cell_type": "code",
   "execution_count": 29,
   "metadata": {},
   "outputs": [
    {
     "name": "stdout",
     "output_type": "stream",
     "text": [
      "+------+-----+-------+---------+-------------+--------------+\n",
      "|    Id|Price|Mileage|Year_Diff|M_Income_2018|Model_Category|\n",
      "+------+-----+-------+---------+-------------+--------------+\n",
      "|143096|23950|  34921|        6|        70489|        Medium|\n",
      "|144112|21990|  34105|        6|        54644|        Medium|\n",
      "|144147|18888|  88654|        7|        70489|        Medium|\n",
      "+------+-----+-------+---------+-------------+--------------+\n",
      "only showing top 3 rows\n",
      "\n"
     ]
    }
   ],
   "source": [
    "usedcar_data_trans_join2.show(3)"
   ]
  },
  {
   "cell_type": "code",
   "execution_count": 37,
   "metadata": {},
   "outputs": [
    {
     "data": {
      "text/plain": [
       "[('Id', 'int'),\n",
       " ('Price', 'int'),\n",
       " ('Mileage', 'int'),\n",
       " ('Year_Diff', 'int'),\n",
       " ('M_Income_2018', 'int'),\n",
       " ('Model_Category', 'string')]"
      ]
     },
     "execution_count": 37,
     "metadata": {},
     "output_type": "execute_result"
    }
   ],
   "source": [
    "usedcar_data_trans_join2.dtypes\n",
    "\n",
    "#usedcar_data_trans_join.printSchema()"
   ]
  },
  {
   "cell_type": "markdown",
   "metadata": {},
   "source": [
    "### F.b) checking for presence of Null using isNull() or any Missing values by using isnan() in each column of the dataset"
   ]
  },
  {
   "cell_type": "code",
   "execution_count": 38,
   "metadata": {},
   "outputs": [
    {
     "name": "stdout",
     "output_type": "stream",
     "text": [
      "+---+-----+-------+---------+-------------+--------------+\n",
      "| Id|Price|Mileage|Year_Diff|M_Income_2018|Model_Category|\n",
      "+---+-----+-------+---------+-------------+--------------+\n",
      "|  0|    0|      0|        0|            0|             0|\n",
      "+---+-----+-------+---------+-------------+--------------+\n",
      "\n"
     ]
    }
   ],
   "source": [
    "from pyspark.sql.functions import isnan, when, count, col\n",
    "\n",
    "usedcar_data_trans_join2.select([count(when(isnan(c) | col(c).isNull(), c)).alias(c) for c in usedcar_data_trans_join2.columns]).show()"
   ]
  },
  {
   "cell_type": "markdown",
   "metadata": {},
   "source": [
    "### Result of check: No Null or Missing values, so no imputation required"
   ]
  },
  {
   "cell_type": "markdown",
   "metadata": {},
   "source": [
    "### F.c) Converting to Pandas dataset for future work"
   ]
  },
  {
   "cell_type": "code",
   "execution_count": 31,
   "metadata": {},
   "outputs": [],
   "source": [
    "usedcar_data_df=usedcar_data_trans_join2.toPandas()"
   ]
  },
  {
   "cell_type": "code",
   "execution_count": 31,
   "metadata": {},
   "outputs": [
    {
     "data": {
      "text/html": [
       "<div>\n",
       "<style scoped>\n",
       "    .dataframe tbody tr th:only-of-type {\n",
       "        vertical-align: middle;\n",
       "    }\n",
       "\n",
       "    .dataframe tbody tr th {\n",
       "        vertical-align: top;\n",
       "    }\n",
       "\n",
       "    .dataframe thead th {\n",
       "        text-align: right;\n",
       "    }\n",
       "</style>\n",
       "<table border=\"1\" class=\"dataframe\">\n",
       "  <thead>\n",
       "    <tr style=\"text-align: right;\">\n",
       "      <th></th>\n",
       "      <th>Id</th>\n",
       "      <th>Price</th>\n",
       "      <th>Mileage</th>\n",
       "      <th>Year_Diff</th>\n",
       "      <th>M_Income_2018</th>\n",
       "      <th>Model_Category</th>\n",
       "    </tr>\n",
       "  </thead>\n",
       "  <tbody>\n",
       "    <tr>\n",
       "      <th>0</th>\n",
       "      <td>143096</td>\n",
       "      <td>23950</td>\n",
       "      <td>34921</td>\n",
       "      <td>6</td>\n",
       "      <td>70489</td>\n",
       "      <td>Medium</td>\n",
       "    </tr>\n",
       "    <tr>\n",
       "      <th>1</th>\n",
       "      <td>144112</td>\n",
       "      <td>21990</td>\n",
       "      <td>34105</td>\n",
       "      <td>6</td>\n",
       "      <td>54644</td>\n",
       "      <td>Medium</td>\n",
       "    </tr>\n",
       "    <tr>\n",
       "      <th>2</th>\n",
       "      <td>144147</td>\n",
       "      <td>18888</td>\n",
       "      <td>88654</td>\n",
       "      <td>7</td>\n",
       "      <td>70489</td>\n",
       "      <td>Medium</td>\n",
       "    </tr>\n",
       "    <tr>\n",
       "      <th>3</th>\n",
       "      <td>144154</td>\n",
       "      <td>21250</td>\n",
       "      <td>68650</td>\n",
       "      <td>6</td>\n",
       "      <td>55821</td>\n",
       "      <td>Medium</td>\n",
       "    </tr>\n",
       "    <tr>\n",
       "      <th>4</th>\n",
       "      <td>144165</td>\n",
       "      <td>25950</td>\n",
       "      <td>38445</td>\n",
       "      <td>5</td>\n",
       "      <td>70489</td>\n",
       "      <td>Medium</td>\n",
       "    </tr>\n",
       "  </tbody>\n",
       "</table>\n",
       "</div>"
      ],
      "text/plain": [
       "       Id  Price  Mileage  Year_Diff  M_Income_2018 Model_Category\n",
       "0  143096  23950    34921          6          70489         Medium\n",
       "1  144112  21990    34105          6          54644         Medium\n",
       "2  144147  18888    88654          7          70489         Medium\n",
       "3  144154  21250    68650          6          55821         Medium\n",
       "4  144165  25950    38445          5          70489         Medium"
      ]
     },
     "execution_count": 31,
     "metadata": {},
     "output_type": "execute_result"
    }
   ],
   "source": [
    "usedcar_data_df.head(5)"
   ]
  },
  {
   "cell_type": "code",
   "execution_count": 41,
   "metadata": {},
   "outputs": [
    {
     "data": {
      "text/plain": [
       "Id                 int32\n",
       "Price              int32\n",
       "Mileage            int32\n",
       "Year_Diff          int32\n",
       "M_Income_2018      int32\n",
       "Model_Category    object\n",
       "dtype: object"
      ]
     },
     "execution_count": 41,
     "metadata": {},
     "output_type": "execute_result"
    }
   ],
   "source": [
    "usedcar_data_df.dtypes"
   ]
  },
  {
   "cell_type": "code",
   "execution_count": 42,
   "metadata": {},
   "outputs": [
    {
     "data": {
      "text/html": [
       "<div>\n",
       "<style scoped>\n",
       "    .dataframe tbody tr th:only-of-type {\n",
       "        vertical-align: middle;\n",
       "    }\n",
       "\n",
       "    .dataframe tbody tr th {\n",
       "        vertical-align: top;\n",
       "    }\n",
       "\n",
       "    .dataframe thead th {\n",
       "        text-align: right;\n",
       "    }\n",
       "</style>\n",
       "<table border=\"1\" class=\"dataframe\">\n",
       "  <thead>\n",
       "    <tr style=\"text-align: right;\">\n",
       "      <th></th>\n",
       "      <th>Id</th>\n",
       "      <th>Price</th>\n",
       "      <th>Mileage</th>\n",
       "      <th>Year_Diff</th>\n",
       "      <th>M_Income_2018</th>\n",
       "    </tr>\n",
       "  </thead>\n",
       "  <tbody>\n",
       "    <tr>\n",
       "      <th>count</th>\n",
       "      <td>1233042.00</td>\n",
       "      <td>1233042.00</td>\n",
       "      <td>1233042.00</td>\n",
       "      <td>1233042.00</td>\n",
       "      <td>1233042.00</td>\n",
       "    </tr>\n",
       "    <tr>\n",
       "      <th>mean</th>\n",
       "      <td>616521.50</td>\n",
       "      <td>21084.75</td>\n",
       "      <td>52771.75</td>\n",
       "      <td>6.67</td>\n",
       "      <td>64370.19</td>\n",
       "    </tr>\n",
       "    <tr>\n",
       "      <th>std</th>\n",
       "      <td>355948.71</td>\n",
       "      <td>13142.32</td>\n",
       "      <td>81434.86</td>\n",
       "      <td>3.42</td>\n",
       "      <td>9377.06</td>\n",
       "    </tr>\n",
       "    <tr>\n",
       "      <th>min</th>\n",
       "      <td>1.00</td>\n",
       "      <td>1500.00</td>\n",
       "      <td>5.00</td>\n",
       "      <td>2.00</td>\n",
       "      <td>42781.00</td>\n",
       "    </tr>\n",
       "    <tr>\n",
       "      <th>1%</th>\n",
       "      <td>12331.41</td>\n",
       "      <td>3995.00</td>\n",
       "      <td>1093.00</td>\n",
       "      <td>3.00</td>\n",
       "      <td>48283.00</td>\n",
       "    </tr>\n",
       "    <tr>\n",
       "      <th>10%</th>\n",
       "      <td>123305.10</td>\n",
       "      <td>8995.00</td>\n",
       "      <td>12437.00</td>\n",
       "      <td>3.00</td>\n",
       "      <td>54434.00</td>\n",
       "    </tr>\n",
       "    <tr>\n",
       "      <th>20%</th>\n",
       "      <td>246609.20</td>\n",
       "      <td>11990.00</td>\n",
       "      <td>20469.00</td>\n",
       "      <td>4.00</td>\n",
       "      <td>54644.00</td>\n",
       "    </tr>\n",
       "    <tr>\n",
       "      <th>30%</th>\n",
       "      <td>369913.30</td>\n",
       "      <td>13995.00</td>\n",
       "      <td>27431.00</td>\n",
       "      <td>5.00</td>\n",
       "      <td>59785.00</td>\n",
       "    </tr>\n",
       "    <tr>\n",
       "      <th>40%</th>\n",
       "      <td>493217.40</td>\n",
       "      <td>15995.00</td>\n",
       "      <td>33852.00</td>\n",
       "      <td>5.00</td>\n",
       "      <td>59785.00</td>\n",
       "    </tr>\n",
       "    <tr>\n",
       "      <th>50%</th>\n",
       "      <td>616521.50</td>\n",
       "      <td>17999.00</td>\n",
       "      <td>40483.00</td>\n",
       "      <td>6.00</td>\n",
       "      <td>62266.00</td>\n",
       "    </tr>\n",
       "    <tr>\n",
       "      <th>60%</th>\n",
       "      <td>739825.60</td>\n",
       "      <td>20900.00</td>\n",
       "      <td>48736.00</td>\n",
       "      <td>6.00</td>\n",
       "      <td>67274.00</td>\n",
       "    </tr>\n",
       "    <tr>\n",
       "      <th>70%</th>\n",
       "      <td>863129.70</td>\n",
       "      <td>24500.00</td>\n",
       "      <td>63191.00</td>\n",
       "      <td>7.00</td>\n",
       "      <td>70489.00</td>\n",
       "    </tr>\n",
       "    <tr>\n",
       "      <th>75%</th>\n",
       "      <td>924781.75</td>\n",
       "      <td>26695.00</td>\n",
       "      <td>72391.00</td>\n",
       "      <td>8.00</td>\n",
       "      <td>70489.00</td>\n",
       "    </tr>\n",
       "    <tr>\n",
       "      <th>80%</th>\n",
       "      <td>986433.80</td>\n",
       "      <td>28989.00</td>\n",
       "      <td>82594.00</td>\n",
       "      <td>9.00</td>\n",
       "      <td>72812.00</td>\n",
       "    </tr>\n",
       "    <tr>\n",
       "      <th>85%</th>\n",
       "      <td>1048085.85</td>\n",
       "      <td>31900.00</td>\n",
       "      <td>94398.00</td>\n",
       "      <td>10.00</td>\n",
       "      <td>74176.00</td>\n",
       "    </tr>\n",
       "    <tr>\n",
       "      <th>90%</th>\n",
       "      <td>1109737.90</td>\n",
       "      <td>35610.90</td>\n",
       "      <td>109795.90</td>\n",
       "      <td>12.00</td>\n",
       "      <td>77151.00</td>\n",
       "    </tr>\n",
       "    <tr>\n",
       "      <th>95%</th>\n",
       "      <td>1171389.95</td>\n",
       "      <td>42900.00</td>\n",
       "      <td>134737.95</td>\n",
       "      <td>14.00</td>\n",
       "      <td>80108.00</td>\n",
       "    </tr>\n",
       "    <tr>\n",
       "      <th>99%</th>\n",
       "      <td>1220711.59</td>\n",
       "      <td>59991.00</td>\n",
       "      <td>186849.95</td>\n",
       "      <td>18.00</td>\n",
       "      <td>86345.00</td>\n",
       "    </tr>\n",
       "    <tr>\n",
       "      <th>max</th>\n",
       "      <td>1233042.00</td>\n",
       "      <td>499500.00</td>\n",
       "      <td>77587763.00</td>\n",
       "      <td>23.00</td>\n",
       "      <td>86345.00</td>\n",
       "    </tr>\n",
       "  </tbody>\n",
       "</table>\n",
       "</div>"
      ],
      "text/plain": [
       "               Id       Price      Mileage   Year_Diff  M_Income_2018\n",
       "count  1233042.00  1233042.00   1233042.00  1233042.00     1233042.00\n",
       "mean    616521.50    21084.75     52771.75        6.67       64370.19\n",
       "std     355948.71    13142.32     81434.86        3.42        9377.06\n",
       "min          1.00     1500.00         5.00        2.00       42781.00\n",
       "1%       12331.41     3995.00      1093.00        3.00       48283.00\n",
       "10%     123305.10     8995.00     12437.00        3.00       54434.00\n",
       "20%     246609.20    11990.00     20469.00        4.00       54644.00\n",
       "30%     369913.30    13995.00     27431.00        5.00       59785.00\n",
       "40%     493217.40    15995.00     33852.00        5.00       59785.00\n",
       "50%     616521.50    17999.00     40483.00        6.00       62266.00\n",
       "60%     739825.60    20900.00     48736.00        6.00       67274.00\n",
       "70%     863129.70    24500.00     63191.00        7.00       70489.00\n",
       "75%     924781.75    26695.00     72391.00        8.00       70489.00\n",
       "80%     986433.80    28989.00     82594.00        9.00       72812.00\n",
       "85%    1048085.85    31900.00     94398.00       10.00       74176.00\n",
       "90%    1109737.90    35610.90    109795.90       12.00       77151.00\n",
       "95%    1171389.95    42900.00    134737.95       14.00       80108.00\n",
       "99%    1220711.59    59991.00    186849.95       18.00       86345.00\n",
       "max    1233042.00   499500.00  77587763.00       23.00       86345.00"
      ]
     },
     "execution_count": 42,
     "metadata": {},
     "output_type": "execute_result"
    }
   ],
   "source": [
    "np.round(usedcar_data_df.describe([.01,.1,.2,.3,.4,.5,.6,.7,.75,.8,.85,.9,.95,.99]),2)"
   ]
  },
  {
   "cell_type": "markdown",
   "metadata": {},
   "source": [
    "### F.d) Creating Training and  Test datasets"
   ]
  },
  {
   "cell_type": "markdown",
   "metadata": {},
   "source": [
    "#### F.d.i) Train and Test split below:"
   ]
  },
  {
   "cell_type": "code",
   "execution_count": 29,
   "metadata": {},
   "outputs": [],
   "source": [
    "#70-30 split into Training and Test\n",
    "#from sklearn.model_selection import train_test_split\n",
    "\n",
    "#train_data, test_data = train_test_split(usedcar_data_df, \n",
    "#                                       test_size=0.3, \n",
    "#                                       random_state=42)"
   ]
  },
  {
   "cell_type": "code",
   "execution_count": 41,
   "metadata": {},
   "outputs": [],
   "source": [
    "#print(\"Training dataset rows:\",train_data.shape[0],\"And columns:\", train_data.shape[1])\n",
    "#print(\"Test dataset rows:\",test_data.shape[0],\"And columns:\", test_data.shape[1])\n",
    "#train_data.head()\n",
    "#test_data.head()"
   ]
  },
  {
   "cell_type": "markdown",
   "metadata": {},
   "source": [
    "#### F.d.ii) Using Stratified random sampling below"
   ]
  },
  {
   "cell_type": "code",
   "execution_count": 33,
   "metadata": {},
   "outputs": [
    {
     "data": {
      "text/html": [
       "<div>\n",
       "<style scoped>\n",
       "    .dataframe tbody tr th:only-of-type {\n",
       "        vertical-align: middle;\n",
       "    }\n",
       "\n",
       "    .dataframe tbody tr th {\n",
       "        vertical-align: top;\n",
       "    }\n",
       "\n",
       "    .dataframe thead th {\n",
       "        text-align: right;\n",
       "    }\n",
       "</style>\n",
       "<table border=\"1\" class=\"dataframe\">\n",
       "  <thead>\n",
       "    <tr style=\"text-align: right;\">\n",
       "      <th></th>\n",
       "      <th>Id</th>\n",
       "      <th>Price</th>\n",
       "      <th>Mileage</th>\n",
       "      <th>Year_Diff</th>\n",
       "      <th>M_Income_2018</th>\n",
       "    </tr>\n",
       "  </thead>\n",
       "  <tbody>\n",
       "    <tr>\n",
       "      <th>count</th>\n",
       "      <td>1233042.00</td>\n",
       "      <td>1233042.00</td>\n",
       "      <td>1233042.00</td>\n",
       "      <td>1233042.00</td>\n",
       "      <td>1233042.00</td>\n",
       "    </tr>\n",
       "    <tr>\n",
       "      <th>mean</th>\n",
       "      <td>616521.50</td>\n",
       "      <td>21084.75</td>\n",
       "      <td>52771.75</td>\n",
       "      <td>6.67</td>\n",
       "      <td>64370.19</td>\n",
       "    </tr>\n",
       "    <tr>\n",
       "      <th>std</th>\n",
       "      <td>355948.71</td>\n",
       "      <td>13142.32</td>\n",
       "      <td>81434.86</td>\n",
       "      <td>3.42</td>\n",
       "      <td>9377.06</td>\n",
       "    </tr>\n",
       "    <tr>\n",
       "      <th>min</th>\n",
       "      <td>1.00</td>\n",
       "      <td>1500.00</td>\n",
       "      <td>5.00</td>\n",
       "      <td>2.00</td>\n",
       "      <td>42781.00</td>\n",
       "    </tr>\n",
       "    <tr>\n",
       "      <th>25%</th>\n",
       "      <td>308261.25</td>\n",
       "      <td>12995.00</td>\n",
       "      <td>23975.00</td>\n",
       "      <td>4.00</td>\n",
       "      <td>55821.00</td>\n",
       "    </tr>\n",
       "    <tr>\n",
       "      <th>50%</th>\n",
       "      <td>616521.50</td>\n",
       "      <td>17999.00</td>\n",
       "      <td>40483.00</td>\n",
       "      <td>6.00</td>\n",
       "      <td>62266.00</td>\n",
       "    </tr>\n",
       "    <tr>\n",
       "      <th>75%</th>\n",
       "      <td>924781.75</td>\n",
       "      <td>26695.00</td>\n",
       "      <td>72391.00</td>\n",
       "      <td>8.00</td>\n",
       "      <td>70489.00</td>\n",
       "    </tr>\n",
       "    <tr>\n",
       "      <th>max</th>\n",
       "      <td>1233042.00</td>\n",
       "      <td>499500.00</td>\n",
       "      <td>77587763.00</td>\n",
       "      <td>23.00</td>\n",
       "      <td>86345.00</td>\n",
       "    </tr>\n",
       "  </tbody>\n",
       "</table>\n",
       "</div>"
      ],
      "text/plain": [
       "               Id       Price      Mileage   Year_Diff  M_Income_2018\n",
       "count  1233042.00  1233042.00   1233042.00  1233042.00     1233042.00\n",
       "mean    616521.50    21084.75     52771.75        6.67       64370.19\n",
       "std     355948.71    13142.32     81434.86        3.42        9377.06\n",
       "min          1.00     1500.00         5.00        2.00       42781.00\n",
       "25%     308261.25    12995.00     23975.00        4.00       55821.00\n",
       "50%     616521.50    17999.00     40483.00        6.00       62266.00\n",
       "75%     924781.75    26695.00     72391.00        8.00       70489.00\n",
       "max    1233042.00   499500.00  77587763.00       23.00       86345.00"
      ]
     },
     "execution_count": 33,
     "metadata": {},
     "output_type": "execute_result"
    }
   ],
   "source": [
    "np.round(usedcar_data_df.describe(),2)"
   ]
  },
  {
   "cell_type": "code",
   "execution_count": 34,
   "metadata": {},
   "outputs": [],
   "source": [
    "import pandas as pd\n",
    "usedcar_data_df['price_cat'] = pd.cut(usedcar_data_df['Price'],\n",
    "                               bins=[0., 13000.00,18000.00, 27000.00,np.inf],\n",
    "                               labels=[1, 2, 3, 4])"
   ]
  },
  {
   "cell_type": "code",
   "execution_count": 35,
   "metadata": {},
   "outputs": [
    {
     "data": {
      "text/plain": [
       "3    323090\n",
       "1    318325\n",
       "2    301861\n",
       "4    289766\n",
       "Name: price_cat, dtype: int64"
      ]
     },
     "execution_count": 35,
     "metadata": {},
     "output_type": "execute_result"
    }
   ],
   "source": [
    "usedcar_data_df['price_cat'].value_counts()"
   ]
  },
  {
   "cell_type": "code",
   "execution_count": 36,
   "metadata": {},
   "outputs": [
    {
     "data": {
      "text/plain": [
       "StratifiedShuffleSplit(n_splits=2, random_state=42, test_size=0.3,\n",
       "            train_size=None)"
      ]
     },
     "execution_count": 36,
     "metadata": {},
     "output_type": "execute_result"
    }
   ],
   "source": [
    "from sklearn.model_selection import StratifiedShuffleSplit\n",
    "\n",
    "split = StratifiedShuffleSplit(n_splits=2, \n",
    "                               test_size=0.3, \n",
    "                               random_state=42)\n",
    "split"
   ]
  },
  {
   "cell_type": "code",
   "execution_count": 38,
   "metadata": {},
   "outputs": [],
   "source": [
    "for train_index, test_index in split.split(usedcar_data_df, usedcar_data_df['price_cat']):\n",
    "    train_data = usedcar_data_df.loc[train_index]\n",
    "    test_data = usedcar_data_df.loc[test_index]"
   ]
  },
  {
   "cell_type": "code",
   "execution_count": 39,
   "metadata": {},
   "outputs": [
    {
     "name": "stdout",
     "output_type": "stream",
     "text": [
      "Main dataset rows: 1233042 And columns: 7\n",
      "Training dataset rows: 863129 And columns: 7\n",
      "Test dataset rows: 369913 And columns: 7\n"
     ]
    },
    {
     "data": {
      "text/html": [
       "<div>\n",
       "<style scoped>\n",
       "    .dataframe tbody tr th:only-of-type {\n",
       "        vertical-align: middle;\n",
       "    }\n",
       "\n",
       "    .dataframe tbody tr th {\n",
       "        vertical-align: top;\n",
       "    }\n",
       "\n",
       "    .dataframe thead th {\n",
       "        text-align: right;\n",
       "    }\n",
       "</style>\n",
       "<table border=\"1\" class=\"dataframe\">\n",
       "  <thead>\n",
       "    <tr style=\"text-align: right;\">\n",
       "      <th></th>\n",
       "      <th>Id</th>\n",
       "      <th>Price</th>\n",
       "      <th>Mileage</th>\n",
       "      <th>Year_Diff</th>\n",
       "      <th>M_Income_2018</th>\n",
       "      <th>Model_Category</th>\n",
       "      <th>price_cat</th>\n",
       "    </tr>\n",
       "  </thead>\n",
       "  <tbody>\n",
       "    <tr>\n",
       "      <th>201007</th>\n",
       "      <td>773166</td>\n",
       "      <td>19222</td>\n",
       "      <td>32433</td>\n",
       "      <td>6</td>\n",
       "      <td>68718</td>\n",
       "      <td>Economy</td>\n",
       "      <td>3</td>\n",
       "    </tr>\n",
       "    <tr>\n",
       "      <th>405502</th>\n",
       "      <td>846099</td>\n",
       "      <td>31985</td>\n",
       "      <td>9568</td>\n",
       "      <td>6</td>\n",
       "      <td>53369</td>\n",
       "      <td>Medium</td>\n",
       "      <td>4</td>\n",
       "    </tr>\n",
       "    <tr>\n",
       "      <th>767648</th>\n",
       "      <td>263791</td>\n",
       "      <td>11999</td>\n",
       "      <td>64118</td>\n",
       "      <td>11</td>\n",
       "      <td>67274</td>\n",
       "      <td>Economy</td>\n",
       "      <td>1</td>\n",
       "    </tr>\n",
       "    <tr>\n",
       "      <th>374234</th>\n",
       "      <td>66196</td>\n",
       "      <td>17477</td>\n",
       "      <td>20761</td>\n",
       "      <td>3</td>\n",
       "      <td>61633</td>\n",
       "      <td>Economy</td>\n",
       "      <td>2</td>\n",
       "    </tr>\n",
       "    <tr>\n",
       "      <th>440746</th>\n",
       "      <td>829168</td>\n",
       "      <td>13990</td>\n",
       "      <td>55655</td>\n",
       "      <td>9</td>\n",
       "      <td>59892</td>\n",
       "      <td>Economy</td>\n",
       "      <td>2</td>\n",
       "    </tr>\n",
       "  </tbody>\n",
       "</table>\n",
       "</div>"
      ],
      "text/plain": [
       "            Id  Price  Mileage  Year_Diff  M_Income_2018 Model_Category  \\\n",
       "201007  773166  19222    32433          6          68718        Economy   \n",
       "405502  846099  31985     9568          6          53369         Medium   \n",
       "767648  263791  11999    64118         11          67274        Economy   \n",
       "374234   66196  17477    20761          3          61633        Economy   \n",
       "440746  829168  13990    55655          9          59892        Economy   \n",
       "\n",
       "       price_cat  \n",
       "201007         3  \n",
       "405502         4  \n",
       "767648         1  \n",
       "374234         2  \n",
       "440746         2  "
      ]
     },
     "execution_count": 39,
     "metadata": {},
     "output_type": "execute_result"
    },
    {
     "data": {
      "text/html": [
       "<div>\n",
       "<style scoped>\n",
       "    .dataframe tbody tr th:only-of-type {\n",
       "        vertical-align: middle;\n",
       "    }\n",
       "\n",
       "    .dataframe tbody tr th {\n",
       "        vertical-align: top;\n",
       "    }\n",
       "\n",
       "    .dataframe thead th {\n",
       "        text-align: right;\n",
       "    }\n",
       "</style>\n",
       "<table border=\"1\" class=\"dataframe\">\n",
       "  <thead>\n",
       "    <tr style=\"text-align: right;\">\n",
       "      <th></th>\n",
       "      <th>Id</th>\n",
       "      <th>Price</th>\n",
       "      <th>Mileage</th>\n",
       "      <th>Year_Diff</th>\n",
       "      <th>M_Income_2018</th>\n",
       "      <th>Model_Category</th>\n",
       "      <th>price_cat</th>\n",
       "    </tr>\n",
       "  </thead>\n",
       "  <tbody>\n",
       "    <tr>\n",
       "      <th>788618</th>\n",
       "      <td>306025</td>\n",
       "      <td>45454</td>\n",
       "      <td>9748</td>\n",
       "      <td>4</td>\n",
       "      <td>74176</td>\n",
       "      <td>Medium</td>\n",
       "      <td>4</td>\n",
       "    </tr>\n",
       "    <tr>\n",
       "      <th>232039</th>\n",
       "      <td>1138720</td>\n",
       "      <td>11100</td>\n",
       "      <td>77737</td>\n",
       "      <td>6</td>\n",
       "      <td>53369</td>\n",
       "      <td>Economy</td>\n",
       "      <td>1</td>\n",
       "    </tr>\n",
       "    <tr>\n",
       "      <th>1097909</th>\n",
       "      <td>899729</td>\n",
       "      <td>18722</td>\n",
       "      <td>18469</td>\n",
       "      <td>4</td>\n",
       "      <td>67575</td>\n",
       "      <td>Economy</td>\n",
       "      <td>3</td>\n",
       "    </tr>\n",
       "    <tr>\n",
       "      <th>451301</th>\n",
       "      <td>157865</td>\n",
       "      <td>33500</td>\n",
       "      <td>30336</td>\n",
       "      <td>6</td>\n",
       "      <td>86223</td>\n",
       "      <td>Medium</td>\n",
       "      <td>4</td>\n",
       "    </tr>\n",
       "    <tr>\n",
       "      <th>136992</th>\n",
       "      <td>577652</td>\n",
       "      <td>8995</td>\n",
       "      <td>99010</td>\n",
       "      <td>8</td>\n",
       "      <td>70489</td>\n",
       "      <td>Economy</td>\n",
       "      <td>1</td>\n",
       "    </tr>\n",
       "  </tbody>\n",
       "</table>\n",
       "</div>"
      ],
      "text/plain": [
       "              Id  Price  Mileage  Year_Diff  M_Income_2018 Model_Category  \\\n",
       "788618    306025  45454     9748          4          74176         Medium   \n",
       "232039   1138720  11100    77737          6          53369        Economy   \n",
       "1097909   899729  18722    18469          4          67575        Economy   \n",
       "451301    157865  33500    30336          6          86223         Medium   \n",
       "136992    577652   8995    99010          8          70489        Economy   \n",
       "\n",
       "        price_cat  \n",
       "788618          4  \n",
       "232039          1  \n",
       "1097909         3  \n",
       "451301          4  \n",
       "136992          1  "
      ]
     },
     "execution_count": 39,
     "metadata": {},
     "output_type": "execute_result"
    }
   ],
   "source": [
    "print(\"Main dataset rows:\", usedcar_data_df.shape[0],\"And columns:\", usedcar_data_df.shape[1])\n",
    "print(\"Training dataset rows:\",train_data.shape[0],\"And columns:\", train_data.shape[1])\n",
    "print(\"Test dataset rows:\",test_data.shape[0],\"And columns:\", test_data.shape[1])\n",
    "train_data.head()\n",
    "test_data.head()"
   ]
  },
  {
   "cell_type": "code",
   "execution_count": 53,
   "metadata": {},
   "outputs": [],
   "source": [
    "#Dropping price_cat column across all datasets\n",
    "\n",
    "usedcar_data_df=usedcar_data_df.drop('price_cat',axis=1)\n",
    "train_data=train_data.drop('price_cat',axis=1)\n",
    "test_data=test_data.drop('price_cat',axis=1)"
   ]
  },
  {
   "cell_type": "markdown",
   "metadata": {},
   "source": [
    "### F.e) Creating X dataset and Y label dataset for Training dataset"
   ]
  },
  {
   "cell_type": "code",
   "execution_count": 54,
   "metadata": {},
   "outputs": [
    {
     "name": "stdout",
     "output_type": "stream",
     "text": [
      "Training V2 dataset rows: 863129 And columns: 5\n"
     ]
    },
    {
     "data": {
      "text/html": [
       "<div>\n",
       "<style scoped>\n",
       "    .dataframe tbody tr th:only-of-type {\n",
       "        vertical-align: middle;\n",
       "    }\n",
       "\n",
       "    .dataframe tbody tr th {\n",
       "        vertical-align: top;\n",
       "    }\n",
       "\n",
       "    .dataframe thead th {\n",
       "        text-align: right;\n",
       "    }\n",
       "</style>\n",
       "<table border=\"1\" class=\"dataframe\">\n",
       "  <thead>\n",
       "    <tr style=\"text-align: right;\">\n",
       "      <th></th>\n",
       "      <th>Id</th>\n",
       "      <th>Mileage</th>\n",
       "      <th>Year_Diff</th>\n",
       "      <th>M_Income_2018</th>\n",
       "      <th>Model_Category</th>\n",
       "    </tr>\n",
       "  </thead>\n",
       "  <tbody>\n",
       "    <tr>\n",
       "      <th>201007</th>\n",
       "      <td>773166</td>\n",
       "      <td>32433</td>\n",
       "      <td>6</td>\n",
       "      <td>68718</td>\n",
       "      <td>Economy</td>\n",
       "    </tr>\n",
       "    <tr>\n",
       "      <th>405502</th>\n",
       "      <td>846099</td>\n",
       "      <td>9568</td>\n",
       "      <td>6</td>\n",
       "      <td>53369</td>\n",
       "      <td>Medium</td>\n",
       "    </tr>\n",
       "  </tbody>\n",
       "</table>\n",
       "</div>"
      ],
      "text/plain": [
       "            Id  Mileage  Year_Diff  M_Income_2018 Model_Category\n",
       "201007  773166    32433          6          68718        Economy\n",
       "405502  846099     9568          6          53369         Medium"
      ]
     },
     "execution_count": 54,
     "metadata": {},
     "output_type": "execute_result"
    }
   ],
   "source": [
    "Price_label_train = train_data[\"Price\"].copy()\n",
    "#Price_label\n",
    "train_data_v2 = train_data.drop(\"Price\", axis=1)\n",
    "print(\"Training V2 dataset rows:\",train_data_v2.shape[0],\"And columns:\", train_data_v2.shape[1])\n",
    "train_data_v2.head(2)"
   ]
  },
  {
   "cell_type": "markdown",
   "metadata": {},
   "source": [
    "### F.f) Creating X dataset and Y label dataset for Test dataset"
   ]
  },
  {
   "cell_type": "code",
   "execution_count": 55,
   "metadata": {},
   "outputs": [
    {
     "name": "stdout",
     "output_type": "stream",
     "text": [
      "Test V2 dataset rows: 369913 And columns: 5\n"
     ]
    },
    {
     "data": {
      "text/html": [
       "<div>\n",
       "<style scoped>\n",
       "    .dataframe tbody tr th:only-of-type {\n",
       "        vertical-align: middle;\n",
       "    }\n",
       "\n",
       "    .dataframe tbody tr th {\n",
       "        vertical-align: top;\n",
       "    }\n",
       "\n",
       "    .dataframe thead th {\n",
       "        text-align: right;\n",
       "    }\n",
       "</style>\n",
       "<table border=\"1\" class=\"dataframe\">\n",
       "  <thead>\n",
       "    <tr style=\"text-align: right;\">\n",
       "      <th></th>\n",
       "      <th>Id</th>\n",
       "      <th>Mileage</th>\n",
       "      <th>Year_Diff</th>\n",
       "      <th>M_Income_2018</th>\n",
       "      <th>Model_Category</th>\n",
       "    </tr>\n",
       "  </thead>\n",
       "  <tbody>\n",
       "    <tr>\n",
       "      <th>788618</th>\n",
       "      <td>306025</td>\n",
       "      <td>9748</td>\n",
       "      <td>4</td>\n",
       "      <td>74176</td>\n",
       "      <td>Medium</td>\n",
       "    </tr>\n",
       "    <tr>\n",
       "      <th>232039</th>\n",
       "      <td>1138720</td>\n",
       "      <td>77737</td>\n",
       "      <td>6</td>\n",
       "      <td>53369</td>\n",
       "      <td>Economy</td>\n",
       "    </tr>\n",
       "  </tbody>\n",
       "</table>\n",
       "</div>"
      ],
      "text/plain": [
       "             Id  Mileage  Year_Diff  M_Income_2018 Model_Category\n",
       "788618   306025     9748          4          74176         Medium\n",
       "232039  1138720    77737          6          53369        Economy"
      ]
     },
     "execution_count": 55,
     "metadata": {},
     "output_type": "execute_result"
    }
   ],
   "source": [
    "Price_label_test = test_data[\"Price\"].copy()\n",
    "#Price_label\n",
    "test_data_v2 = test_data.drop(\"Price\", axis=1)\n",
    "print(\"Test V2 dataset rows:\",test_data_v2.shape[0],\"And columns:\", test_data_v2.shape[1])\n",
    "test_data_v2.head(2)"
   ]
  },
  {
   "cell_type": "markdown",
   "metadata": {},
   "source": [
    "## (Part G): Pipeline for Training and Testing dataset"
   ]
  },
  {
   "cell_type": "markdown",
   "metadata": {},
   "source": [
    "### Part G.a) Pipeline for Training dataset creation for model"
   ]
  },
  {
   "cell_type": "code",
   "execution_count": 56,
   "metadata": {},
   "outputs": [
    {
     "name": "stdout",
     "output_type": "stream",
     "text": [
      "Training V2 Numerical dataset rows: 863129 And columns: 3\n"
     ]
    },
    {
     "data": {
      "text/html": [
       "<div>\n",
       "<style scoped>\n",
       "    .dataframe tbody tr th:only-of-type {\n",
       "        vertical-align: middle;\n",
       "    }\n",
       "\n",
       "    .dataframe tbody tr th {\n",
       "        vertical-align: top;\n",
       "    }\n",
       "\n",
       "    .dataframe thead th {\n",
       "        text-align: right;\n",
       "    }\n",
       "</style>\n",
       "<table border=\"1\" class=\"dataframe\">\n",
       "  <thead>\n",
       "    <tr style=\"text-align: right;\">\n",
       "      <th></th>\n",
       "      <th>Mileage</th>\n",
       "      <th>Year_Diff</th>\n",
       "      <th>M_Income_2018</th>\n",
       "    </tr>\n",
       "  </thead>\n",
       "  <tbody>\n",
       "    <tr>\n",
       "      <th>201007</th>\n",
       "      <td>32433</td>\n",
       "      <td>6</td>\n",
       "      <td>68718</td>\n",
       "    </tr>\n",
       "    <tr>\n",
       "      <th>405502</th>\n",
       "      <td>9568</td>\n",
       "      <td>6</td>\n",
       "      <td>53369</td>\n",
       "    </tr>\n",
       "  </tbody>\n",
       "</table>\n",
       "</div>"
      ],
      "text/plain": [
       "        Mileage  Year_Diff  M_Income_2018\n",
       "201007    32433          6          68718\n",
       "405502     9568          6          53369"
      ]
     },
     "execution_count": 56,
     "metadata": {},
     "output_type": "execute_result"
    }
   ],
   "source": [
    "#Creating numerical variables only for training dataset\n",
    "train_data_v2_num=train_data_v2.drop(['Model_Category','Id'],axis=1)\n",
    "#train_data_v2_num=train_data_v2.drop('Id',axis=1)\n",
    "print(\"Training V2 Numerical dataset rows:\",train_data_v2_num.shape[0],\"And columns:\", train_data_v2_num.shape[1])\n",
    "train_data_v2_num.head(2)"
   ]
  },
  {
   "cell_type": "code",
   "execution_count": 57,
   "metadata": {},
   "outputs": [],
   "source": [
    "from sklearn.pipeline import Pipeline\n",
    "from sklearn.preprocessing import StandardScaler\n",
    "\n",
    "num_pipeline = Pipeline([\n",
    "        ('std_scaler', StandardScaler()),\n",
    "    ])\n",
    "\n",
    "usedcar_num_train = num_pipeline.fit_transform(train_data_v2_num)"
   ]
  },
  {
   "cell_type": "code",
   "execution_count": 33,
   "metadata": {},
   "outputs": [
    {
     "data": {
      "text/plain": [
       "array([[-0.66787237, -0.19646857, -0.48790733],\n",
       "       [-1.11731456, -0.78062005, -0.48790733],\n",
       "       [-0.32020012, -0.19646857,  2.3330088 ],\n",
       "       ...,\n",
       "       [-0.5601426 , -0.19646857, -1.05885529],\n",
       "       [ 0.75378387, -0.19646857, -0.29072702],\n",
       "       [-1.19619878, -1.0726958 , -1.17249005]])"
      ]
     },
     "execution_count": 33,
     "metadata": {},
     "output_type": "execute_result"
    }
   ],
   "source": [
    "usedcar_num_train"
   ]
  },
  {
   "cell_type": "code",
   "execution_count": 58,
   "metadata": {},
   "outputs": [],
   "source": [
    "from sklearn.preprocessing import OneHotEncoder\n",
    "from sklearn.compose import ColumnTransformer\n",
    "\n",
    "num_variables = list(train_data_v2_num)\n",
    "cat_variables = [\"Model_Category\"]\n",
    "\n",
    "full_pipeline = ColumnTransformer([\n",
    "        (\"num\", num_pipeline, num_variables),\n",
    "        (\"cat\", OneHotEncoder(), cat_variables),\n",
    "    ])\n",
    "\n",
    "training_prepared = full_pipeline.fit_transform(train_data_v2)"
   ]
  },
  {
   "cell_type": "code",
   "execution_count": 56,
   "metadata": {},
   "outputs": [
    {
     "data": {
      "text/plain": [
       "array([[-0.66787237, -0.19646857, -0.48790733,  0.        ,  1.        ,\n",
       "         0.        ],\n",
       "       [-1.11731456, -0.78062005, -0.48790733,  0.        ,  1.        ,\n",
       "         0.        ],\n",
       "       [-0.32020012, -0.19646857,  2.3330088 ,  0.        ,  1.        ,\n",
       "         0.        ],\n",
       "       ...,\n",
       "       [-0.5601426 , -0.19646857, -1.05885529,  1.        ,  0.        ,\n",
       "         0.        ],\n",
       "       [ 0.75378387, -0.19646857, -0.29072702,  1.        ,  0.        ,\n",
       "         0.        ],\n",
       "       [-1.19619878, -1.0726958 , -1.17249005,  0.        ,  1.        ,\n",
       "         0.        ]])"
      ]
     },
     "execution_count": 56,
     "metadata": {},
     "output_type": "execute_result"
    },
    {
     "data": {
      "text/plain": [
       "(863129, 6)"
      ]
     },
     "execution_count": 56,
     "metadata": {},
     "output_type": "execute_result"
    }
   ],
   "source": [
    "training_prepared\n",
    "training_prepared.shape"
   ]
  },
  {
   "cell_type": "markdown",
   "metadata": {},
   "source": [
    "##### Performing One-Hot encoder outside pipeline to get the order of categories output from One-Hot encoder. This will help to know order of columns while creating prepared dataframe in later code"
   ]
  },
  {
   "cell_type": "code",
   "execution_count": 59,
   "metadata": {},
   "outputs": [],
   "source": [
    "category=usedcar_data_df[['Model_Category']]"
   ]
  },
  {
   "cell_type": "code",
   "execution_count": 60,
   "metadata": {},
   "outputs": [
    {
     "data": {
      "text/plain": [
       "array([[0., 1., 0.],\n",
       "       [0., 1., 0.],\n",
       "       [0., 1., 0.],\n",
       "       ...,\n",
       "       [1., 0., 0.],\n",
       "       [1., 0., 0.],\n",
       "       [1., 0., 0.]])"
      ]
     },
     "execution_count": 60,
     "metadata": {},
     "output_type": "execute_result"
    }
   ],
   "source": [
    "from sklearn.preprocessing import OneHotEncoder\n",
    "\n",
    "cat_encoder = OneHotEncoder(sparse=False)\n",
    "category_1hot = cat_encoder.fit_transform(category)\n",
    "category_1hot"
   ]
  },
  {
   "cell_type": "code",
   "execution_count": 61,
   "metadata": {},
   "outputs": [
    {
     "data": {
      "text/plain": [
       "[array(['Economy', 'Medium', 'Premium'], dtype=object)]"
      ]
     },
     "execution_count": 61,
     "metadata": {},
     "output_type": "execute_result"
    }
   ],
   "source": [
    "cat_encoder.categories_"
   ]
  },
  {
   "cell_type": "code",
   "execution_count": 62,
   "metadata": {},
   "outputs": [
    {
     "data": {
      "text/html": [
       "<div>\n",
       "<style scoped>\n",
       "    .dataframe tbody tr th:only-of-type {\n",
       "        vertical-align: middle;\n",
       "    }\n",
       "\n",
       "    .dataframe tbody tr th {\n",
       "        vertical-align: top;\n",
       "    }\n",
       "\n",
       "    .dataframe thead th {\n",
       "        text-align: right;\n",
       "    }\n",
       "</style>\n",
       "<table border=\"1\" class=\"dataframe\">\n",
       "  <thead>\n",
       "    <tr style=\"text-align: right;\">\n",
       "      <th></th>\n",
       "      <th>Mileage</th>\n",
       "      <th>Year_Diff</th>\n",
       "      <th>M_Income_2018</th>\n",
       "      <th>Economy</th>\n",
       "      <th>Medium</th>\n",
       "      <th>Premium</th>\n",
       "    </tr>\n",
       "  </thead>\n",
       "  <tbody>\n",
       "    <tr>\n",
       "      <th>0</th>\n",
       "      <td>-0.218018</td>\n",
       "      <td>-0.197285</td>\n",
       "      <td>0.463916</td>\n",
       "      <td>1.0</td>\n",
       "      <td>0.0</td>\n",
       "      <td>0.0</td>\n",
       "    </tr>\n",
       "    <tr>\n",
       "      <th>1</th>\n",
       "      <td>-0.462908</td>\n",
       "      <td>-0.197285</td>\n",
       "      <td>-1.173605</td>\n",
       "      <td>0.0</td>\n",
       "      <td>1.0</td>\n",
       "      <td>0.0</td>\n",
       "    </tr>\n",
       "    <tr>\n",
       "      <th>2</th>\n",
       "      <td>0.121338</td>\n",
       "      <td>1.263107</td>\n",
       "      <td>0.309861</td>\n",
       "      <td>1.0</td>\n",
       "      <td>0.0</td>\n",
       "      <td>0.0</td>\n",
       "    </tr>\n",
       "    <tr>\n",
       "      <th>3</th>\n",
       "      <td>-0.343028</td>\n",
       "      <td>-1.073520</td>\n",
       "      <td>-0.291953</td>\n",
       "      <td>1.0</td>\n",
       "      <td>0.0</td>\n",
       "      <td>0.0</td>\n",
       "    </tr>\n",
       "    <tr>\n",
       "      <th>4</th>\n",
       "      <td>0.030696</td>\n",
       "      <td>0.678950</td>\n",
       "      <td>-0.477693</td>\n",
       "      <td>1.0</td>\n",
       "      <td>0.0</td>\n",
       "      <td>0.0</td>\n",
       "    </tr>\n",
       "  </tbody>\n",
       "</table>\n",
       "</div>"
      ],
      "text/plain": [
       "    Mileage  Year_Diff  M_Income_2018  Economy  Medium  Premium\n",
       "0 -0.218018  -0.197285       0.463916      1.0     0.0      0.0\n",
       "1 -0.462908  -0.197285      -1.173605      0.0     1.0      0.0\n",
       "2  0.121338   1.263107       0.309861      1.0     0.0      0.0\n",
       "3 -0.343028  -1.073520      -0.291953      1.0     0.0      0.0\n",
       "4  0.030696   0.678950      -0.477693      1.0     0.0      0.0"
      ]
     },
     "execution_count": 62,
     "metadata": {},
     "output_type": "execute_result"
    }
   ],
   "source": [
    "import pandas as pd\n",
    "training_preapred_df=pd.DataFrame(training_prepared, columns=['Mileage','Year_Diff','M_Income_2018','Economy','Medium','Premium'])\n",
    "training_preapred_df.head()"
   ]
  },
  {
   "cell_type": "code",
   "execution_count": 38,
   "metadata": {},
   "outputs": [],
   "source": [
    "#type(training_prepared)"
   ]
  },
  {
   "cell_type": "markdown",
   "metadata": {},
   "source": [
    "### Part G.b) Pipeline for Test dataset creation for model"
   ]
  },
  {
   "cell_type": "code",
   "execution_count": 63,
   "metadata": {},
   "outputs": [
    {
     "name": "stdout",
     "output_type": "stream",
     "text": [
      "Test V2 Numerical dataset rows: 369913 And columns: 3\n"
     ]
    },
    {
     "data": {
      "text/html": [
       "<div>\n",
       "<style scoped>\n",
       "    .dataframe tbody tr th:only-of-type {\n",
       "        vertical-align: middle;\n",
       "    }\n",
       "\n",
       "    .dataframe tbody tr th {\n",
       "        vertical-align: top;\n",
       "    }\n",
       "\n",
       "    .dataframe thead th {\n",
       "        text-align: right;\n",
       "    }\n",
       "</style>\n",
       "<table border=\"1\" class=\"dataframe\">\n",
       "  <thead>\n",
       "    <tr style=\"text-align: right;\">\n",
       "      <th></th>\n",
       "      <th>Mileage</th>\n",
       "      <th>Year_Diff</th>\n",
       "      <th>M_Income_2018</th>\n",
       "    </tr>\n",
       "  </thead>\n",
       "  <tbody>\n",
       "    <tr>\n",
       "      <th>788618</th>\n",
       "      <td>9748</td>\n",
       "      <td>4</td>\n",
       "      <td>74176</td>\n",
       "    </tr>\n",
       "    <tr>\n",
       "      <th>232039</th>\n",
       "      <td>77737</td>\n",
       "      <td>6</td>\n",
       "      <td>53369</td>\n",
       "    </tr>\n",
       "  </tbody>\n",
       "</table>\n",
       "</div>"
      ],
      "text/plain": [
       "        Mileage  Year_Diff  M_Income_2018\n",
       "788618     9748          4          74176\n",
       "232039    77737          6          53369"
      ]
     },
     "execution_count": 63,
     "metadata": {},
     "output_type": "execute_result"
    }
   ],
   "source": [
    "#Creating numerical variables only for testing dataset\n",
    "test_data_v2_num=test_data_v2.drop(['Model_Category','Id'],axis=1)\n",
    "#train_data_v2_num=train_data_v2.drop('Id',axis=1)\n",
    "print(\"Test V2 Numerical dataset rows:\",test_data_v2_num.shape[0],\"And columns:\", test_data_v2_num.shape[1])\n",
    "test_data_v2_num.head(2)"
   ]
  },
  {
   "cell_type": "code",
   "execution_count": 64,
   "metadata": {},
   "outputs": [],
   "source": [
    "from sklearn.pipeline import Pipeline\n",
    "from sklearn.preprocessing import StandardScaler\n",
    "\n",
    "num_pipeline = Pipeline([\n",
    "        ('std_scaler', StandardScaler()),\n",
    "    ])\n",
    "\n",
    "usedcar_num_test = num_pipeline.fit_transform(test_data_v2_num)"
   ]
  },
  {
   "cell_type": "code",
   "execution_count": 61,
   "metadata": {},
   "outputs": [
    {
     "data": {
      "text/plain": [
       "array([[-0.07523259, -0.49074779,  0.64864038],\n",
       "       [-0.11564618, -0.19865629,  0.30619968],\n",
       "       [-0.2724035 , -0.78283928, -0.91369873],\n",
       "       ...,\n",
       "       [-0.22844943, -1.07493077, -0.19814145],\n",
       "       [ 0.05968559,  0.0934352 ,  0.30619968],\n",
       "       [-0.21751496, -0.78283928, -0.04912915]])"
      ]
     },
     "execution_count": 61,
     "metadata": {},
     "output_type": "execute_result"
    }
   ],
   "source": [
    "usedcar_num_test"
   ]
  },
  {
   "cell_type": "code",
   "execution_count": 65,
   "metadata": {},
   "outputs": [],
   "source": [
    "from sklearn.preprocessing import OneHotEncoder\n",
    "from sklearn.compose import ColumnTransformer\n",
    "\n",
    "num_variables = list(test_data_v2_num)\n",
    "cat_variables = [\"Model_Category\"]\n",
    "\n",
    "full_pipeline = ColumnTransformer([\n",
    "        (\"num\", num_pipeline, num_variables),\n",
    "        (\"cat\", OneHotEncoder(), cat_variables),\n",
    "    ])\n",
    "\n",
    "test_prepared = full_pipeline.fit_transform(test_data_v2)"
   ]
  },
  {
   "cell_type": "code",
   "execution_count": 63,
   "metadata": {},
   "outputs": [
    {
     "data": {
      "text/plain": [
       "array([[-0.07523259, -0.49074779,  0.64864038,  1.        ,  0.        ,\n",
       "         0.        ],\n",
       "       [-0.11564618, -0.19865629,  0.30619968,  1.        ,  0.        ,\n",
       "         0.        ],\n",
       "       [-0.2724035 , -0.78283928, -0.91369873,  0.        ,  1.        ,\n",
       "         0.        ],\n",
       "       ...,\n",
       "       [-0.22844943, -1.07493077, -0.19814145,  1.        ,  0.        ,\n",
       "         0.        ],\n",
       "       [ 0.05968559,  0.0934352 ,  0.30619968,  1.        ,  0.        ,\n",
       "         0.        ],\n",
       "       [-0.21751496, -0.78283928, -0.04912915,  0.        ,  1.        ,\n",
       "         0.        ]])"
      ]
     },
     "execution_count": 63,
     "metadata": {},
     "output_type": "execute_result"
    },
    {
     "data": {
      "text/plain": [
       "(369913, 6)"
      ]
     },
     "execution_count": 63,
     "metadata": {},
     "output_type": "execute_result"
    }
   ],
   "source": [
    "test_prepared\n",
    "test_prepared.shape"
   ]
  },
  {
   "cell_type": "code",
   "execution_count": 66,
   "metadata": {},
   "outputs": [
    {
     "data": {
      "text/html": [
       "<div>\n",
       "<style scoped>\n",
       "    .dataframe tbody tr th:only-of-type {\n",
       "        vertical-align: middle;\n",
       "    }\n",
       "\n",
       "    .dataframe tbody tr th {\n",
       "        vertical-align: top;\n",
       "    }\n",
       "\n",
       "    .dataframe thead th {\n",
       "        text-align: right;\n",
       "    }\n",
       "</style>\n",
       "<table border=\"1\" class=\"dataframe\">\n",
       "  <thead>\n",
       "    <tr style=\"text-align: right;\">\n",
       "      <th></th>\n",
       "      <th>Mileage</th>\n",
       "      <th>Year_Diff</th>\n",
       "      <th>M_Income_2018</th>\n",
       "      <th>Economy</th>\n",
       "      <th>Medium</th>\n",
       "      <th>Premium</th>\n",
       "    </tr>\n",
       "  </thead>\n",
       "  <tbody>\n",
       "    <tr>\n",
       "      <th>0</th>\n",
       "      <td>-1.023328</td>\n",
       "      <td>-0.780920</td>\n",
       "      <td>1.044598</td>\n",
       "      <td>0.0</td>\n",
       "      <td>1.0</td>\n",
       "      <td>0.0</td>\n",
       "    </tr>\n",
       "    <tr>\n",
       "      <th>1</th>\n",
       "      <td>0.595311</td>\n",
       "      <td>-0.196750</td>\n",
       "      <td>-1.172264</td>\n",
       "      <td>1.0</td>\n",
       "      <td>0.0</td>\n",
       "      <td>0.0</td>\n",
       "    </tr>\n",
       "    <tr>\n",
       "      <th>2</th>\n",
       "      <td>-0.815704</td>\n",
       "      <td>-0.780920</td>\n",
       "      <td>0.341300</td>\n",
       "      <td>1.0</td>\n",
       "      <td>0.0</td>\n",
       "      <td>0.0</td>\n",
       "    </tr>\n",
       "    <tr>\n",
       "      <th>3</th>\n",
       "      <td>-0.533182</td>\n",
       "      <td>-0.196750</td>\n",
       "      <td>2.328133</td>\n",
       "      <td>0.0</td>\n",
       "      <td>1.0</td>\n",
       "      <td>0.0</td>\n",
       "    </tr>\n",
       "    <tr>\n",
       "      <th>4</th>\n",
       "      <td>1.101765</td>\n",
       "      <td>0.387419</td>\n",
       "      <td>0.651770</td>\n",
       "      <td>1.0</td>\n",
       "      <td>0.0</td>\n",
       "      <td>0.0</td>\n",
       "    </tr>\n",
       "  </tbody>\n",
       "</table>\n",
       "</div>"
      ],
      "text/plain": [
       "    Mileage  Year_Diff  M_Income_2018  Economy  Medium  Premium\n",
       "0 -1.023328  -0.780920       1.044598      0.0     1.0      0.0\n",
       "1  0.595311  -0.196750      -1.172264      1.0     0.0      0.0\n",
       "2 -0.815704  -0.780920       0.341300      1.0     0.0      0.0\n",
       "3 -0.533182  -0.196750       2.328133      0.0     1.0      0.0\n",
       "4  1.101765   0.387419       0.651770      1.0     0.0      0.0"
      ]
     },
     "execution_count": 66,
     "metadata": {},
     "output_type": "execute_result"
    }
   ],
   "source": [
    "test_preapred_df=pd.DataFrame(test_prepared, columns=['Mileage','Year_Diff','M_Income_2018','Economy','Medium','Premium'])\n",
    "test_preapred_df.head()"
   ]
  },
  {
   "cell_type": "markdown",
   "metadata": {},
   "source": [
    "## (Part H): Develop, Train and Test Model"
   ]
  },
  {
   "cell_type": "markdown",
   "metadata": {},
   "source": [
    "### H.a) Linear regression"
   ]
  },
  {
   "cell_type": "markdown",
   "metadata": {},
   "source": [
    "#### H.a.i) Linear regression model fit"
   ]
  },
  {
   "cell_type": "code",
   "execution_count": 67,
   "metadata": {},
   "outputs": [
    {
     "data": {
      "text/plain": [
       "LinearRegression()"
      ]
     },
     "execution_count": 67,
     "metadata": {},
     "output_type": "execute_result"
    }
   ],
   "source": [
    "from sklearn.linear_model import LinearRegression\n",
    "\n",
    "lin_reg = LinearRegression()\n",
    "lin_reg.fit(training_prepared, Price_label_train)"
   ]
  },
  {
   "cell_type": "markdown",
   "metadata": {},
   "source": [
    "#### H.a.ii) Linear regression prediction on Training dataset and RMSE of Training dataset"
   ]
  },
  {
   "cell_type": "code",
   "execution_count": 68,
   "metadata": {},
   "outputs": [
    {
     "name": "stdout",
     "output_type": "stream",
     "text": [
      "RMSE in TRAINING dataset: 8488.8\n"
     ]
    }
   ],
   "source": [
    "from sklearn.metrics import mean_squared_error\n",
    "\n",
    "usedcar_predictions = lin_reg.predict(training_prepared)\n",
    "\n",
    "#usedcar_predictions.type()\n",
    "lin_mse = mean_squared_error(Price_label_train, usedcar_predictions)\n",
    "#lin_mse\n",
    "\n",
    "lin_rmse = np.sqrt(lin_mse)\n",
    "\n",
    "print(\"RMSE in TRAINING dataset:\",np.round(lin_rmse,1))"
   ]
  },
  {
   "cell_type": "markdown",
   "metadata": {},
   "source": [
    "#### H.a.iii) Linear regression Mean absolute error calculation on Training data"
   ]
  },
  {
   "cell_type": "code",
   "execution_count": 69,
   "metadata": {},
   "outputs": [
    {
     "name": "stdout",
     "output_type": "stream",
     "text": [
      "Mean Absolute Error in TRAINING dataset: 4966.0\n"
     ]
    }
   ],
   "source": [
    "from sklearn.metrics import mean_absolute_error\n",
    "\n",
    "lin_mae = mean_absolute_error(Price_label_train,usedcar_predictions)\n",
    "\n",
    "print(\"Mean Absolute Error in TRAINING dataset:\",np.round(lin_mae,1))"
   ]
  },
  {
   "cell_type": "markdown",
   "metadata": {},
   "source": [
    "#### H.a.iv) Linear regression prediction on Test dataset and RMSE of Test data"
   ]
  },
  {
   "cell_type": "code",
   "execution_count": 70,
   "metadata": {},
   "outputs": [
    {
     "name": "stdout",
     "output_type": "stream",
     "text": [
      "RMSE in TEST dataset: 8347.5\n"
     ]
    }
   ],
   "source": [
    "from sklearn.metrics import mean_squared_error\n",
    "\n",
    "usedcar_predictions_test = lin_reg.predict(test_prepared)\n",
    "\n",
    "lin_mse_test = mean_squared_error(Price_label_test, usedcar_predictions_test)\n",
    "\n",
    "lin_rmse_test = np.sqrt(lin_mse_test)\n",
    "\n",
    "print(\"RMSE in TEST dataset:\", np.round(lin_rmse_test,1))"
   ]
  },
  {
   "cell_type": "markdown",
   "metadata": {},
   "source": [
    "#### H.a.v) Linear regression Mean absolute error calculation on Test data"
   ]
  },
  {
   "cell_type": "code",
   "execution_count": 71,
   "metadata": {},
   "outputs": [
    {
     "name": "stdout",
     "output_type": "stream",
     "text": [
      "Mean Absolute Error in TEST dataset: 4934.1\n"
     ]
    }
   ],
   "source": [
    "from sklearn.metrics import mean_absolute_error\n",
    "\n",
    "lin_mae_test = mean_absolute_error(Price_label_test,usedcar_predictions_test)\n",
    "\n",
    "print(\"Mean Absolute Error in TEST dataset:\",np.round(lin_mae_test,1))"
   ]
  },
  {
   "cell_type": "markdown",
   "metadata": {},
   "source": [
    "#### H.a.vi) Calculating R-square value for Training and Test datasets using Linear model:"
   ]
  },
  {
   "cell_type": "code",
   "execution_count": 72,
   "metadata": {},
   "outputs": [
    {
     "name": "stdout",
     "output_type": "stream",
     "text": [
      "Training dataset R-squared value using Linear model: 58.49\n",
      "Test dataset R-squared value using Linear model: 59.17\n"
     ]
    }
   ],
   "source": [
    "from sklearn.metrics import r2_score\n",
    "lin_train_r2=r2_score(Price_label_train,usedcar_predictions)\n",
    "lin_test_r2=r2_score(Price_label_test,usedcar_predictions_test)\n",
    "\n",
    "print(\"Training dataset R-squared value using Linear model:\",np.round(lin_train_r2*100,2))\n",
    "\n",
    "print(\"Test dataset R-squared value using Linear model:\",np.round(lin_test_r2*100,2))"
   ]
  },
  {
   "cell_type": "markdown",
   "metadata": {},
   "source": [
    "#### H.a.vii) Linear regression Cross validation"
   ]
  },
  {
   "cell_type": "code",
   "execution_count": 73,
   "metadata": {},
   "outputs": [
    {
     "name": "stdout",
     "output_type": "stream",
     "text": [
      "Avg. RMSE in 5-fold CV dataset: 9831.3\n",
      "STD DEV RMSE in 5-fold CV dataset: 2673.7\n"
     ]
    }
   ],
   "source": [
    "from sklearn.model_selection import cross_val_score\n",
    "\n",
    "lin_scores = cross_val_score(lin_reg, training_prepared, Price_label_train,\n",
    "                             scoring=\"neg_mean_squared_error\", cv=5)\n",
    "lin_rmse_scores = np.sqrt(-lin_scores)\n",
    "#lin_rmse_scores\n",
    "print(\"Avg. RMSE in 5-fold CV dataset:\",np.round(lin_rmse_scores.mean(),1))\n",
    "print(\"STD DEV RMSE in 5-fold CV dataset:\",np.round(lin_rmse_scores.std(),1))"
   ]
  },
  {
   "cell_type": "markdown",
   "metadata": {},
   "source": [
    "#### H.a.viii) MAPE for Training and Testing datasets"
   ]
  },
  {
   "cell_type": "code",
   "execution_count": 91,
   "metadata": {},
   "outputs": [],
   "source": [
    "def mean_absolute_percentage_error(y_true, y_pred):\n",
    "    y_true, y_pred = np.array(y_true), np.array(y_pred)\n",
    "    return np.mean(np.abs((y_true - y_pred) / y_true)) * 100"
   ]
  },
  {
   "cell_type": "code",
   "execution_count": 99,
   "metadata": {},
   "outputs": [
    {
     "name": "stdout",
     "output_type": "stream",
     "text": [
      "Linear regression Training MAPE%: 27.02\n",
      "Linear regression Test MAPE%: 26.99\n"
     ]
    }
   ],
   "source": [
    "line_reg_train_mape = mean_absolute_percentage_error(Price_label_train,usedcar_predictions)\n",
    "line_reg_test_mape = mean_absolute_percentage_error(Price_label_test,usedcar_predictions_test)\n",
    "\n",
    "print(\"Linear regression Training MAPE%:\", np.round(line_reg_train_mape,2))\n",
    "print(\"Linear regression Test MAPE%:\", np.round(line_reg_test_mape,2))"
   ]
  },
  {
   "cell_type": "markdown",
   "metadata": {},
   "source": [
    "### H.b) Decision Tree model"
   ]
  },
  {
   "cell_type": "markdown",
   "metadata": {},
   "source": [
    "#### H.b.i) Fitting a Decision Tree model"
   ]
  },
  {
   "cell_type": "code",
   "execution_count": 80,
   "metadata": {},
   "outputs": [
    {
     "data": {
      "text/plain": [
       "DecisionTreeRegressor(max_depth=4, random_state=30)"
      ]
     },
     "execution_count": 80,
     "metadata": {},
     "output_type": "execute_result"
    }
   ],
   "source": [
    "from sklearn.tree import DecisionTreeRegressor\n",
    "\n",
    "DT_reg = DecisionTreeRegressor(max_depth=4, random_state=30)\n",
    "DT_reg.fit(training_prepared, Price_label_train)"
   ]
  },
  {
   "cell_type": "markdown",
   "metadata": {},
   "source": [
    "#### H.b.ii) Visualizing the Decision tree"
   ]
  },
  {
   "cell_type": "code",
   "execution_count": 81,
   "metadata": {},
   "outputs": [
    {
     "data": {
      "image/png": "[encoded data removed]",
      "text/plain": [
       "<Figure size 2880x720 with 1 Axes>"
      ]
     },
     "metadata": {
      "needs_background": "light"
     },
     "output_type": "display_data"
    }
   ],
   "source": [
    "import matplotlib.pyplot as plt\n",
    "from sklearn.tree import plot_tree\n",
    "plt.subplots(figsize=(40,10))\n",
    "plot_tree(DT_reg,\n",
    "         feature_names=training_preapred_df.columns,\n",
    "         rounded=True,\n",
    "         filled=True);"
   ]
  },
  {
   "cell_type": "markdown",
   "metadata": {},
   "source": [
    "#### H.b.iii) Predicting on Training dataset and Decision Tree RMSE on Training dataset"
   ]
  },
  {
   "cell_type": "code",
   "execution_count": 82,
   "metadata": {},
   "outputs": [
    {
     "name": "stdout",
     "output_type": "stream",
     "text": [
      "RMSE in TRAINING dataset: 8059.0\n"
     ]
    }
   ],
   "source": [
    "import numpy as np\n",
    "from sklearn.metrics import mean_squared_error\n",
    "\n",
    "usedcar_predictions_DT = DT_reg.predict(training_prepared)\n",
    "DT_mse = mean_squared_error(Price_label_train, usedcar_predictions_DT)\n",
    "DT_rmse = np.sqrt(DT_mse)\n",
    "\n",
    "print(\"RMSE in TRAINING dataset:\", np.round(DT_rmse,1))"
   ]
  },
  {
   "cell_type": "markdown",
   "metadata": {},
   "source": [
    "#### H.b.iv) Calculating Mean Absolute Error in Training dataset for Decision Tree"
   ]
  },
  {
   "cell_type": "code",
   "execution_count": 83,
   "metadata": {},
   "outputs": [
    {
     "name": "stdout",
     "output_type": "stream",
     "text": [
      "Mean Absolute Error in TRAINING dataset using Decision Tree: 4741.9\n"
     ]
    }
   ],
   "source": [
    "from sklearn.metrics import mean_absolute_error\n",
    "\n",
    "DT_mae = mean_absolute_error(Price_label_train, usedcar_predictions_DT)\n",
    "\n",
    "print(\"Mean Absolute Error in TRAINING dataset using Decision Tree:\",np.round(DT_mae,1))"
   ]
  },
  {
   "cell_type": "markdown",
   "metadata": {},
   "source": [
    "#### H.b.v) Predicting on Test dataset and Decision Tree RMSE on Test dataset"
   ]
  },
  {
   "cell_type": "code",
   "execution_count": 84,
   "metadata": {},
   "outputs": [
    {
     "name": "stdout",
     "output_type": "stream",
     "text": [
      "RMSE in TEST dataset: 8997.3\n"
     ]
    }
   ],
   "source": [
    "from sklearn.metrics import mean_squared_error\n",
    "\n",
    "usedcar_predictions_DT_test = DT_reg.predict(test_prepared)\n",
    "DT_mse_test = mean_squared_error(Price_label_test, usedcar_predictions_DT_test)\n",
    "DT_rmse_test = np.sqrt(DT_mse_test)\n",
    "\n",
    "print(\"RMSE in TEST dataset:\", np.round(DT_rmse_test,1))"
   ]
  },
  {
   "cell_type": "markdown",
   "metadata": {},
   "source": [
    "#### H.b.vi) Calculating Mean Absolute Error in Test dataset for Decision Tree"
   ]
  },
  {
   "cell_type": "code",
   "execution_count": 85,
   "metadata": {},
   "outputs": [
    {
     "name": "stdout",
     "output_type": "stream",
     "text": [
      "Mean Absolute Error in TEST dataset using Decision Tree: 5023.1\n"
     ]
    }
   ],
   "source": [
    "from sklearn.metrics import mean_absolute_error\n",
    "\n",
    "DT_mae_test = mean_absolute_error(Price_label_test, usedcar_predictions_DT_test)\n",
    "\n",
    "print(\"Mean Absolute Error in TEST dataset using Decision Tree:\",np.round(DT_mae_test,1))"
   ]
  },
  {
   "cell_type": "markdown",
   "metadata": {},
   "source": [
    "#### H.b.vii) R-square in Training and Test dataset using Decision Tree regressor"
   ]
  },
  {
   "cell_type": "code",
   "execution_count": 86,
   "metadata": {},
   "outputs": [
    {
     "name": "stdout",
     "output_type": "stream",
     "text": [
      "Training dataset R-squared value using Decision Tree: 62.59\n",
      "Test dataset R-squared value using Decision Tree: 52.57\n"
     ]
    }
   ],
   "source": [
    "from sklearn.metrics import r2_score\n",
    "DT_train_r2=r2_score(Price_label_train,usedcar_predictions_DT)\n",
    "DT_test_r2=r2_score(Price_label_test,usedcar_predictions_DT_test)\n",
    "\n",
    "print(\"Training dataset R-squared value using Decision Tree:\",np.round(DT_train_r2*100,2))\n",
    "\n",
    "print(\"Test dataset R-squared value using Decision Tree:\",np.round(DT_test_r2*100,2))"
   ]
  },
  {
   "cell_type": "markdown",
   "metadata": {},
   "source": [
    "#### H.b.viii) Running 5-fold Cross validation using Decision Tree regressor"
   ]
  },
  {
   "cell_type": "code",
   "execution_count": 87,
   "metadata": {},
   "outputs": [
    {
     "name": "stdout",
     "output_type": "stream",
     "text": [
      "Avg. RMSE in 5-fold CV dataset using Decision Tree: 8090.6\n",
      "STD DEV RMSE in 5-fold CV dataset using Decision Tree: 95.3\n"
     ]
    }
   ],
   "source": [
    "from sklearn.model_selection import cross_val_score\n",
    "\n",
    "DT_scores = cross_val_score(DT_reg, training_prepared, Price_label_train,\n",
    "                         scoring=\"neg_mean_squared_error\", cv=5)\n",
    "DT_rmse_scores = np.sqrt(-DT_scores)\n",
    "\n",
    "print(\"Avg. RMSE in 5-fold CV dataset using Decision Tree:\",np.round(DT_rmse_scores.mean(),1))\n",
    "print(\"STD DEV RMSE in 5-fold CV dataset using Decision Tree:\",np.round(DT_rmse_scores.std(),1))"
   ]
  },
  {
   "cell_type": "markdown",
   "metadata": {},
   "source": [
    "#### H.b.ix) Training and Test MAPE using Decision Tree"
   ]
  },
  {
   "cell_type": "code",
   "execution_count": 98,
   "metadata": {},
   "outputs": [
    {
     "name": "stdout",
     "output_type": "stream",
     "text": [
      "Decision Tree Training MAPE%: 25.47\n",
      "Decision Tree Test MAPE%: 26.12\n"
     ]
    }
   ],
   "source": [
    "DT_train_mape = mean_absolute_percentage_error(Price_label_train, usedcar_predictions_DT)\n",
    "DT_test_mape = mean_absolute_percentage_error(Price_label_test, usedcar_predictions_DT_test)\n",
    "\n",
    "print(\"Decision Tree Training MAPE%:\", np.round(DT_train_mape,2))\n",
    "print(\"Decision Tree Test MAPE%:\", np.round(DT_test_mape,2))"
   ]
  },
  {
   "cell_type": "markdown",
   "metadata": {},
   "source": [
    "### H.c) Random Forest"
   ]
  },
  {
   "cell_type": "markdown",
   "metadata": {},
   "source": [
    "#### H.c.i) Determining number of trees"
   ]
  },
  {
   "cell_type": "code",
   "execution_count": 116,
   "metadata": {},
   "outputs": [
    {
     "data": {
      "text/plain": [
       "RandomForestRegressor(max_depth=4, n_estimators=4, random_state=30)"
      ]
     },
     "execution_count": 116,
     "metadata": {},
     "output_type": "execute_result"
    },
    {
     "data": {
      "text/plain": [
       "RandomForestRegressor(max_depth=4, n_estimators=6, random_state=30)"
      ]
     },
     "execution_count": 116,
     "metadata": {},
     "output_type": "execute_result"
    },
    {
     "data": {
      "text/plain": [
       "RandomForestRegressor(max_depth=4, n_estimators=8, random_state=30)"
      ]
     },
     "execution_count": 116,
     "metadata": {},
     "output_type": "execute_result"
    },
    {
     "data": {
      "text/plain": [
       "RandomForestRegressor(max_depth=4, n_estimators=10, random_state=30)"
      ]
     },
     "execution_count": 116,
     "metadata": {},
     "output_type": "execute_result"
    },
    {
     "data": {
      "text/plain": [
       "RandomForestRegressor(max_depth=4, n_estimators=12, random_state=30)"
      ]
     },
     "execution_count": 116,
     "metadata": {},
     "output_type": "execute_result"
    },
    {
     "data": {
      "text/plain": [
       "RandomForestRegressor(max_depth=4, n_estimators=14, random_state=30)"
      ]
     },
     "execution_count": 116,
     "metadata": {},
     "output_type": "execute_result"
    },
    {
     "data": {
      "text/plain": [
       "RandomForestRegressor(max_depth=4, n_estimators=16, random_state=30)"
      ]
     },
     "execution_count": 116,
     "metadata": {},
     "output_type": "execute_result"
    },
    {
     "data": {
      "text/plain": [
       "RandomForestRegressor(max_depth=4, n_estimators=18, random_state=30)"
      ]
     },
     "execution_count": 116,
     "metadata": {},
     "output_type": "execute_result"
    },
    {
     "data": {
      "text/plain": [
       "RandomForestRegressor(max_depth=4, n_estimators=20, random_state=30)"
      ]
     },
     "execution_count": 116,
     "metadata": {},
     "output_type": "execute_result"
    },
    {
     "data": {
      "text/plain": [
       "RandomForestRegressor(max_depth=4, n_estimators=22, random_state=30)"
      ]
     },
     "execution_count": 116,
     "metadata": {},
     "output_type": "execute_result"
    },
    {
     "data": {
      "text/plain": [
       "RandomForestRegressor(max_depth=4, n_estimators=24, random_state=30)"
      ]
     },
     "execution_count": 116,
     "metadata": {},
     "output_type": "execute_result"
    },
    {
     "data": {
      "text/plain": [
       "RandomForestRegressor(max_depth=4, n_estimators=26, random_state=30)"
      ]
     },
     "execution_count": 116,
     "metadata": {},
     "output_type": "execute_result"
    },
    {
     "data": {
      "text/plain": [
       "RandomForestRegressor(max_depth=4, n_estimators=28, random_state=30)"
      ]
     },
     "execution_count": 116,
     "metadata": {},
     "output_type": "execute_result"
    },
    {
     "data": {
      "text/plain": [
       "RandomForestRegressor(max_depth=4, n_estimators=30, random_state=30)"
      ]
     },
     "execution_count": 116,
     "metadata": {},
     "output_type": "execute_result"
    },
    {
     "data": {
      "text/plain": [
       "RandomForestRegressor(max_depth=4, n_estimators=32, random_state=30)"
      ]
     },
     "execution_count": 116,
     "metadata": {},
     "output_type": "execute_result"
    },
    {
     "data": {
      "text/plain": [
       "RandomForestRegressor(max_depth=4, n_estimators=34, random_state=30)"
      ]
     },
     "execution_count": 116,
     "metadata": {},
     "output_type": "execute_result"
    },
    {
     "data": {
      "text/plain": [
       "RandomForestRegressor(max_depth=4, n_estimators=36, random_state=30)"
      ]
     },
     "execution_count": 116,
     "metadata": {},
     "output_type": "execute_result"
    },
    {
     "data": {
      "text/plain": [
       "RandomForestRegressor(max_depth=4, n_estimators=38, random_state=30)"
      ]
     },
     "execution_count": 116,
     "metadata": {},
     "output_type": "execute_result"
    },
    {
     "data": {
      "text/plain": [
       "RandomForestRegressor(max_depth=4, n_estimators=40, random_state=30)"
      ]
     },
     "execution_count": 116,
     "metadata": {},
     "output_type": "execute_result"
    },
    {
     "data": {
      "text/plain": [
       "RandomForestRegressor(max_depth=4, n_estimators=42, random_state=30)"
      ]
     },
     "execution_count": 116,
     "metadata": {},
     "output_type": "execute_result"
    },
    {
     "data": {
      "text/plain": [
       "RandomForestRegressor(max_depth=4, n_estimators=44, random_state=30)"
      ]
     },
     "execution_count": 116,
     "metadata": {},
     "output_type": "execute_result"
    },
    {
     "data": {
      "text/plain": [
       "RandomForestRegressor(max_depth=4, n_estimators=46, random_state=30)"
      ]
     },
     "execution_count": 116,
     "metadata": {},
     "output_type": "execute_result"
    },
    {
     "data": {
      "text/plain": [
       "RandomForestRegressor(max_depth=4, n_estimators=48, random_state=30)"
      ]
     },
     "execution_count": 116,
     "metadata": {},
     "output_type": "execute_result"
    },
    {
     "data": {
      "text/plain": [
       "RandomForestRegressor(max_depth=4, n_estimators=50, random_state=30)"
      ]
     },
     "execution_count": 116,
     "metadata": {},
     "output_type": "execute_result"
    }
   ],
   "source": [
    "#This is to be done. Not able to run more than 10 trees\n",
    "from sklearn.ensemble import RandomForestRegressor\n",
    "from sklearn.metrics import mean_squared_error\n",
    "import matplotlib.pyplot as plt\n",
    "from matplotlib.legend_handler import HandlerLine2D\n",
    "from sklearn.metrics import mean_absolute_error\n",
    "\n",
    "train_results = []\n",
    "test_results = []\n",
    "list_nb_trees = [4, 6, 8, 10, 12, 14, 16, 18, 20, 22, 24, 26, 28, 30, 32, 34, 36, 38, 40, 42, 44, 46, 48, 50]\n",
    "\n",
    "for nb_trees in list_nb_trees:\n",
    "    rf = RandomForestRegressor(n_estimators=nb_trees,random_state=30,max_depth=4)\n",
    "    rf.fit(training_prepared, Price_label_train)\n",
    "\n",
    "    train_results.append(mean_squared_error(Price_label_train, rf.predict(training_prepared)))\n",
    "    train_results_lmse=np.sqrt(train_results)\n",
    "    test_results.append(mean_squared_error(Price_label_test, rf.predict(test_prepared)))\n",
    "    test_results_lmse=np.sqrt(test_results)"
   ]
  },
  {
   "cell_type": "code",
   "execution_count": 139,
   "metadata": {},
   "outputs": [
    {
     "data": {
      "image/png": "[encoded data removed]",
      "text/plain": [
       "<Figure size 720x360 with 1 Axes>"
      ]
     },
     "metadata": {
      "needs_background": "light"
     },
     "output_type": "display_data"
    }
   ],
   "source": [
    "plt.figure(figsize=(10,5));\n",
    "\n",
    "line1, = plt.plot(list_nb_trees, train_results_lmse, color=\"r\", label=\"Training Score\")\n",
    "line2, = plt.plot(list_nb_trees, test_results_lmse, color=\"g\", label=\"Testing Score\")\n",
    "\n",
    "plt.legend(handler_map={line1: HandlerLine2D(numpoints=2)})\n",
    "plt.title('Root Mean Squared Error by #trees')\n",
    "plt.ylabel('RMSE')\n",
    "plt.xlabel('n_estimators')\n",
    "plt.show();"
   ]
  },
  {
   "cell_type": "code",
   "execution_count": 138,
   "metadata": {},
   "outputs": [
    {
     "data": {
      "image/png": "[encoded data removed]",
      "text/plain": [
       "<Figure size 720x360 with 1 Axes>"
      ]
     },
     "metadata": {
      "needs_background": "light"
     },
     "output_type": "display_data"
    }
   ],
   "source": [
    "plt.figure(figsize=(10,5));\n",
    "\n",
    "line1, = plt.plot(list_nb_trees, train_results, color=\"r\", label=\"Training Score\")\n",
    "line2, = plt.plot(list_nb_trees, test_results, color=\"g\", label=\"Testing Score\")\n",
    "\n",
    "plt.legend(handler_map={line1: HandlerLine2D(numpoints=2)})\n",
    "plt.title('Mean Squared Error by #trees')\n",
    "plt.ylabel('MSE')\n",
    "plt.xlabel('n_estimators')\n",
    "plt.show();"
   ]
  },
  {
   "cell_type": "code",
   "execution_count": 152,
   "metadata": {},
   "outputs": [
    {
     "data": {
      "text/html": [
       "<div>\n",
       "<style scoped>\n",
       "    .dataframe tbody tr th:only-of-type {\n",
       "        vertical-align: middle;\n",
       "    }\n",
       "\n",
       "    .dataframe tbody tr th {\n",
       "        vertical-align: top;\n",
       "    }\n",
       "\n",
       "    .dataframe thead th {\n",
       "        text-align: right;\n",
       "    }\n",
       "</style>\n",
       "<table border=\"1\" class=\"dataframe\">\n",
       "  <thead>\n",
       "    <tr style=\"text-align: right;\">\n",
       "      <th></th>\n",
       "      <th>N_trees</th>\n",
       "      <th>Train_RMSE</th>\n",
       "      <th>Test_RMSE</th>\n",
       "    </tr>\n",
       "  </thead>\n",
       "  <tbody>\n",
       "    <tr>\n",
       "      <th>0</th>\n",
       "      <td>4</td>\n",
       "      <td>7961.06</td>\n",
       "      <td>8717.32</td>\n",
       "    </tr>\n",
       "    <tr>\n",
       "      <th>1</th>\n",
       "      <td>6</td>\n",
       "      <td>7954.27</td>\n",
       "      <td>8741.02</td>\n",
       "    </tr>\n",
       "    <tr>\n",
       "      <th>2</th>\n",
       "      <td>8</td>\n",
       "      <td>7953.86</td>\n",
       "      <td>8714.70</td>\n",
       "    </tr>\n",
       "    <tr>\n",
       "      <th>3</th>\n",
       "      <td>10</td>\n",
       "      <td>7947.59</td>\n",
       "      <td>8689.77</td>\n",
       "    </tr>\n",
       "    <tr>\n",
       "      <th>4</th>\n",
       "      <td>12</td>\n",
       "      <td>7953.03</td>\n",
       "      <td>8707.31</td>\n",
       "    </tr>\n",
       "    <tr>\n",
       "      <th>5</th>\n",
       "      <td>14</td>\n",
       "      <td>7954.19</td>\n",
       "      <td>8714.83</td>\n",
       "    </tr>\n",
       "    <tr>\n",
       "      <th>6</th>\n",
       "      <td>16</td>\n",
       "      <td>7953.34</td>\n",
       "      <td>8692.45</td>\n",
       "    </tr>\n",
       "    <tr>\n",
       "      <th>7</th>\n",
       "      <td>18</td>\n",
       "      <td>7944.91</td>\n",
       "      <td>8686.98</td>\n",
       "    </tr>\n",
       "    <tr>\n",
       "      <th>8</th>\n",
       "      <td>20</td>\n",
       "      <td>7949.05</td>\n",
       "      <td>8698.02</td>\n",
       "    </tr>\n",
       "    <tr>\n",
       "      <th>9</th>\n",
       "      <td>22</td>\n",
       "      <td>7949.79</td>\n",
       "      <td>8693.06</td>\n",
       "    </tr>\n",
       "    <tr>\n",
       "      <th>10</th>\n",
       "      <td>24</td>\n",
       "      <td>7949.32</td>\n",
       "      <td>8680.13</td>\n",
       "    </tr>\n",
       "    <tr>\n",
       "      <th>11</th>\n",
       "      <td>26</td>\n",
       "      <td>7951.36</td>\n",
       "      <td>8673.09</td>\n",
       "    </tr>\n",
       "    <tr>\n",
       "      <th>12</th>\n",
       "      <td>28</td>\n",
       "      <td>7950.25</td>\n",
       "      <td>8674.35</td>\n",
       "    </tr>\n",
       "    <tr>\n",
       "      <th>13</th>\n",
       "      <td>30</td>\n",
       "      <td>7951.08</td>\n",
       "      <td>8672.66</td>\n",
       "    </tr>\n",
       "    <tr>\n",
       "      <th>14</th>\n",
       "      <td>32</td>\n",
       "      <td>7950.51</td>\n",
       "      <td>8681.24</td>\n",
       "    </tr>\n",
       "    <tr>\n",
       "      <th>15</th>\n",
       "      <td>34</td>\n",
       "      <td>7950.34</td>\n",
       "      <td>8680.04</td>\n",
       "    </tr>\n",
       "    <tr>\n",
       "      <th>16</th>\n",
       "      <td>36</td>\n",
       "      <td>7951.86</td>\n",
       "      <td>8685.87</td>\n",
       "    </tr>\n",
       "    <tr>\n",
       "      <th>17</th>\n",
       "      <td>38</td>\n",
       "      <td>7951.52</td>\n",
       "      <td>8692.92</td>\n",
       "    </tr>\n",
       "    <tr>\n",
       "      <th>18</th>\n",
       "      <td>40</td>\n",
       "      <td>7950.93</td>\n",
       "      <td>8699.69</td>\n",
       "    </tr>\n",
       "    <tr>\n",
       "      <th>19</th>\n",
       "      <td>42</td>\n",
       "      <td>7950.49</td>\n",
       "      <td>8704.19</td>\n",
       "    </tr>\n",
       "    <tr>\n",
       "      <th>20</th>\n",
       "      <td>44</td>\n",
       "      <td>7950.70</td>\n",
       "      <td>8709.09</td>\n",
       "    </tr>\n",
       "    <tr>\n",
       "      <th>21</th>\n",
       "      <td>46</td>\n",
       "      <td>7951.75</td>\n",
       "      <td>8710.53</td>\n",
       "    </tr>\n",
       "    <tr>\n",
       "      <th>22</th>\n",
       "      <td>48</td>\n",
       "      <td>7952.24</td>\n",
       "      <td>8709.42</td>\n",
       "    </tr>\n",
       "    <tr>\n",
       "      <th>23</th>\n",
       "      <td>50</td>\n",
       "      <td>7951.91</td>\n",
       "      <td>8713.11</td>\n",
       "    </tr>\n",
       "  </tbody>\n",
       "</table>\n",
       "</div>"
      ],
      "text/plain": [
       "    N_trees  Train_RMSE  Test_RMSE\n",
       "0         4     7961.06    8717.32\n",
       "1         6     7954.27    8741.02\n",
       "2         8     7953.86    8714.70\n",
       "3        10     7947.59    8689.77\n",
       "4        12     7953.03    8707.31\n",
       "5        14     7954.19    8714.83\n",
       "6        16     7953.34    8692.45\n",
       "7        18     7944.91    8686.98\n",
       "8        20     7949.05    8698.02\n",
       "9        22     7949.79    8693.06\n",
       "10       24     7949.32    8680.13\n",
       "11       26     7951.36    8673.09\n",
       "12       28     7950.25    8674.35\n",
       "13       30     7951.08    8672.66\n",
       "14       32     7950.51    8681.24\n",
       "15       34     7950.34    8680.04\n",
       "16       36     7951.86    8685.87\n",
       "17       38     7951.52    8692.92\n",
       "18       40     7950.93    8699.69\n",
       "19       42     7950.49    8704.19\n",
       "20       44     7950.70    8709.09\n",
       "21       46     7951.75    8710.53\n",
       "22       48     7952.24    8709.42\n",
       "23       50     7951.91    8713.11"
      ]
     },
     "execution_count": 152,
     "metadata": {},
     "output_type": "execute_result"
    }
   ],
   "source": [
    "#Creating dataframe with Training RMSEs\n",
    "RF_train_rmse=pd.DataFrame(np.round(train_results_lmse,2))\n",
    "RF_train_rmse.columns=[\"Train_RMSE\"]\n",
    "\n",
    "#Creating dataframe with Test RMSEs\n",
    "RF_test_rmse=pd.DataFrame(np.round(test_results_lmse,2))\n",
    "RF_test_rmse.columns=[\"Test_RMSE\"]\n",
    "\n",
    "#Creating dataframe with Number of Trees\n",
    "Trees=pd.DataFrame(list_nb_trees)\n",
    "Trees.columns=[\"N_trees\"]\n",
    "\n",
    "Train_test_rmse=pd.concat([Trees,RF_train_rmse,RF_test_rmse],axis=1)\n",
    "Train_test_rmse\n",
    "\n",
    "#Train_test_lmse['N_Trees']=Train_test_lmse.apply(lambda x:4, axis=1)\n",
    "#Train_test_lmse"
   ]
  },
  {
   "cell_type": "markdown",
   "metadata": {},
   "source": [
    "#### Result: 30 as number of Trees has lowest RMSE value for Test dataset (8672.66) and RMSE for Training dataset is not the lowest but comparable to RMSE obtained for other values of N_trees (7951.08). Will go ahead with 30 as number of trees in Random forest model"
   ]
  },
  {
   "cell_type": "markdown",
   "metadata": {},
   "source": [
    "#### H.c.ii) Fitting a Random Forest model"
   ]
  },
  {
   "cell_type": "code",
   "execution_count": 100,
   "metadata": {},
   "outputs": [
    {
     "name": "stderr",
     "output_type": "stream",
     "text": [
      "/opt/conda/lib/python3.8/site-packages/sklearn/ensemble/_forest.py:832: UserWarning: Some inputs do not have OOB scores. This probably means too few trees were used to compute any reliable oob estimates.\n",
      "  warn(\"Some inputs do not have OOB scores. \"\n"
     ]
    },
    {
     "data": {
      "text/plain": [
       "RandomForestRegressor(max_depth=4, n_estimators=30, oob_score=True,\n",
       "                      random_state=30)"
      ]
     },
     "execution_count": 100,
     "metadata": {},
     "output_type": "execute_result"
    }
   ],
   "source": [
    "from sklearn.ensemble import RandomForestRegressor\n",
    "\n",
    "forest_reg = RandomForestRegressor(n_estimators=30, random_state=30,oob_score = True,max_depth=4)\n",
    "forest_reg.fit(training_prepared, Price_label_train)"
   ]
  },
  {
   "cell_type": "markdown",
   "metadata": {},
   "source": [
    "`#### H.c.iii) Predicting on Training dataset and RMSE for Training dataset"
   ]
  },
  {
   "cell_type": "code",
   "execution_count": 101,
   "metadata": {},
   "outputs": [
    {
     "name": "stdout",
     "output_type": "stream",
     "text": [
      "RANDOM FOREST TRAINING RMSE: 7972.79\n"
     ]
    }
   ],
   "source": [
    "from sklearn.metrics import mean_squared_error\n",
    "\n",
    "usedcar_predictions_Forest = forest_reg.predict(training_prepared)\n",
    "forest_mse = mean_squared_error(Price_label_train, usedcar_predictions_Forest)\n",
    "forest_rmse = np.sqrt(forest_mse)\n",
    "print(\"RANDOM FOREST TRAINING RMSE:\",np.round(forest_rmse, 2))"
   ]
  },
  {
   "cell_type": "markdown",
   "metadata": {},
   "source": [
    "#### H.c.iv) Calculating Mean Absolute Error for Training dataset"
   ]
  },
  {
   "cell_type": "code",
   "execution_count": 102,
   "metadata": {},
   "outputs": [
    {
     "name": "stdout",
     "output_type": "stream",
     "text": [
      "Mean Absolute Error in TRAINING dataset using Random Forest: 4688.9\n"
     ]
    }
   ],
   "source": [
    "from sklearn.metrics import mean_absolute_error\n",
    "\n",
    "Forest_mae = mean_absolute_error(Price_label_train, usedcar_predictions_Forest)\n",
    "\n",
    "print(\"Mean Absolute Error in TRAINING dataset using Random Forest:\",np.round(Forest_mae,1))"
   ]
  },
  {
   "cell_type": "markdown",
   "metadata": {},
   "source": [
    "#### H.c.v) Calculating score and OOB error rate in Training dataset"
   ]
  },
  {
   "cell_type": "code",
   "execution_count": 103,
   "metadata": {},
   "outputs": [
    {
     "name": "stdout",
     "output_type": "stream",
     "text": [
      "Training dataset Score: 0.6338386284461519\n",
      "OOB Score: 0.6315255662651444\n"
     ]
    }
   ],
   "source": [
    "print('Training dataset Score:', forest_reg.score(training_prepared, Price_label_train))\n",
    "print('OOB Score:', forest_reg.oob_score_)"
   ]
  },
  {
   "cell_type": "markdown",
   "metadata": {},
   "source": [
    "#### H.c.vi) Predicting on Test dataset and RMSE for Test dataset"
   ]
  },
  {
   "cell_type": "code",
   "execution_count": 105,
   "metadata": {},
   "outputs": [
    {
     "name": "stdout",
     "output_type": "stream",
     "text": [
      "RANDOM FOREST TEST RMSE: 8597.5\n"
     ]
    }
   ],
   "source": [
    "usedcar_predictions_Forest_test = forest_reg.predict(test_prepared)\n",
    "forest_mse_test = mean_squared_error(Price_label_test, usedcar_predictions_Forest_test)\n",
    "forest_rmse_test = np.sqrt(forest_mse_test)\n",
    "print(\"RANDOM FOREST TEST RMSE:\",np.round(forest_rmse_test, 1))"
   ]
  },
  {
   "cell_type": "markdown",
   "metadata": {},
   "source": [
    "#### H.c.vii) Calculating Root Mean Square Error for Test Dataset"
   ]
  },
  {
   "cell_type": "code",
   "execution_count": 106,
   "metadata": {},
   "outputs": [
    {
     "name": "stdout",
     "output_type": "stream",
     "text": [
      "Mean Absolute Error in TEST dataset using Random Forest: 4969.6\n"
     ]
    }
   ],
   "source": [
    "from sklearn.metrics import mean_absolute_error\n",
    "\n",
    "Forest_mae_test = mean_absolute_error(Price_label_test, usedcar_predictions_Forest_test)\n",
    "\n",
    "print(\"Mean Absolute Error in TEST dataset using Random Forest:\",np.round(Forest_mae_test,1))"
   ]
  },
  {
   "cell_type": "markdown",
   "metadata": {},
   "source": [
    "#### H.c.viii) R-square for Training & Test dataset using Random Forest regressor"
   ]
  },
  {
   "cell_type": "code",
   "execution_count": 107,
   "metadata": {},
   "outputs": [
    {
     "name": "stdout",
     "output_type": "stream",
     "text": [
      "Training dataset R-squared value using Random Forest: 63.38\n",
      "Test dataset R-squared value using Random Forest 56.69\n"
     ]
    }
   ],
   "source": [
    "from sklearn.metrics import r2_score\n",
    "RF_train_r2=r2_score(Price_label_train,usedcar_predictions_Forest)\n",
    "RF_test_r2=r2_score(Price_label_test,usedcar_predictions_Forest_test)\n",
    "\n",
    "print(\"Training dataset R-squared value using Random Forest:\",np.round(RF_train_r2*100,2))\n",
    "\n",
    "print(\"Test dataset R-squared value using Random Forest\",np.round(RF_test_r2*100,2))"
   ]
  },
  {
   "cell_type": "markdown",
   "metadata": {},
   "source": [
    "#### H.c.ix) Running 5-fold Cross validation using Random Forest regressor"
   ]
  },
  {
   "cell_type": "code",
   "execution_count": 108,
   "metadata": {},
   "outputs": [
    {
     "name": "stdout",
     "output_type": "stream",
     "text": [
      "Random Forest Avg. RMSE in 5-fold CV dataset: 7984.4\n",
      "Random Forest STD DEV RMSE in 5-fold CV dataset: 97.4\n"
     ]
    }
   ],
   "source": [
    "from sklearn.model_selection import cross_val_score\n",
    "\n",
    "forest_reg_wo_OOB = RandomForestRegressor(n_estimators=20, random_state=30,max_depth=4)\n",
    "\n",
    "forest_score = cross_val_score(forest_reg_wo_OOB, training_prepared, Price_label_train,\n",
    "                                scoring=\"neg_mean_squared_error\", cv=5)\n",
    "forest_rmse_score = np.sqrt(-forest_score)\n",
    "\n",
    "print(\"Random Forest Avg. RMSE in 5-fold CV dataset:\",np.round(forest_rmse_score.mean(),1))\n",
    "print(\"Random Forest STD DEV RMSE in 5-fold CV dataset:\",np.round(forest_rmse_score.std(),1))"
   ]
  },
  {
   "cell_type": "markdown",
   "metadata": {},
   "source": [
    "#### H.c.x) Determining feature importance from Random forest regressor"
   ]
  },
  {
   "cell_type": "code",
   "execution_count": 109,
   "metadata": {},
   "outputs": [
    {
     "data": {
      "text/plain": [
       "array([0.1002148 , 0.13158101, 0.        , 0.5334023 , 0.07838601,\n",
       "       0.15641588])"
      ]
     },
     "execution_count": 109,
     "metadata": {},
     "output_type": "execute_result"
    }
   ],
   "source": [
    "feature_importances=forest_reg.feature_importances_\n",
    "feature_importances"
   ]
  },
  {
   "cell_type": "code",
   "execution_count": 110,
   "metadata": {},
   "outputs": [
    {
     "data": {
      "text/plain": [
       "['Mileage', 'Year_Diff', 'M_Income_2018', 'Economy', 'Medium', 'Premium']"
      ]
     },
     "execution_count": 110,
     "metadata": {},
     "output_type": "execute_result"
    },
    {
     "data": {
      "text/html": [
       "<div>\n",
       "<style scoped>\n",
       "    .dataframe tbody tr th:only-of-type {\n",
       "        vertical-align: middle;\n",
       "    }\n",
       "\n",
       "    .dataframe tbody tr th {\n",
       "        vertical-align: top;\n",
       "    }\n",
       "\n",
       "    .dataframe thead th {\n",
       "        text-align: right;\n",
       "    }\n",
       "</style>\n",
       "<table border=\"1\" class=\"dataframe\">\n",
       "  <thead>\n",
       "    <tr style=\"text-align: right;\">\n",
       "      <th></th>\n",
       "      <th>Feature_name</th>\n",
       "      <th>Feature_imp</th>\n",
       "    </tr>\n",
       "  </thead>\n",
       "  <tbody>\n",
       "    <tr>\n",
       "      <th>3</th>\n",
       "      <td>Economy</td>\n",
       "      <td>0.533402</td>\n",
       "    </tr>\n",
       "    <tr>\n",
       "      <th>5</th>\n",
       "      <td>Premium</td>\n",
       "      <td>0.156416</td>\n",
       "    </tr>\n",
       "    <tr>\n",
       "      <th>1</th>\n",
       "      <td>Year_Diff</td>\n",
       "      <td>0.131581</td>\n",
       "    </tr>\n",
       "    <tr>\n",
       "      <th>0</th>\n",
       "      <td>Mileage</td>\n",
       "      <td>0.100215</td>\n",
       "    </tr>\n",
       "    <tr>\n",
       "      <th>4</th>\n",
       "      <td>Medium</td>\n",
       "      <td>0.078386</td>\n",
       "    </tr>\n",
       "    <tr>\n",
       "      <th>2</th>\n",
       "      <td>M_Income_2018</td>\n",
       "      <td>0.000000</td>\n",
       "    </tr>\n",
       "  </tbody>\n",
       "</table>\n",
       "</div>"
      ],
      "text/plain": [
       "    Feature_name  Feature_imp\n",
       "3        Economy     0.533402\n",
       "5        Premium     0.156416\n",
       "1      Year_Diff     0.131581\n",
       "0        Mileage     0.100215\n",
       "4         Medium     0.078386\n",
       "2  M_Income_2018     0.000000"
      ]
     },
     "execution_count": 110,
     "metadata": {},
     "output_type": "execute_result"
    }
   ],
   "source": [
    "one_hot_variables = list(cat_encoder.categories_[0])\n",
    "\n",
    "Features = num_variables + one_hot_variables\n",
    "\n",
    "Features\n",
    "\n",
    "Feature_imp_DF=pd.DataFrame(zip(Features,feature_importances),columns=['Feature_name','Feature_imp'])\n",
    "Feature_imp_DF.sort_values(by=['Feature_imp'],ascending=False)"
   ]
  },
  {
   "cell_type": "markdown",
   "metadata": {},
   "source": [
    "#### H.c.xi) MAPE for Training & Test datasets"
   ]
  },
  {
   "cell_type": "code",
   "execution_count": 111,
   "metadata": {},
   "outputs": [
    {
     "name": "stdout",
     "output_type": "stream",
     "text": [
      "Random Forest Training MAPE: 27.02\n",
      "Random Forest Test MAPE: 26.99\n"
     ]
    }
   ],
   "source": [
    "RF_train_mape = mean_absolute_percentage_error(Price_label_train, usedcar_predictions_Forest)\n",
    "RF_test_mape = mean_absolute_percentage_error(Price_label_test, usedcar_predictions_Forest_test)\n",
    "\n",
    "print(\"Random Forest Training MAPE:\", np.round(line_reg_train_mape,2))\n",
    "print(\"Random Forest Test MAPE:\", np.round(line_reg_test_mape,2))"
   ]
  },
  {
   "cell_type": "markdown",
   "metadata": {},
   "source": [
    "## (Part I): Execute Random Forest using Spark ML and perform Grid search"
   ]
  },
  {
   "cell_type": "code",
   "execution_count": 112,
   "metadata": {},
   "outputs": [],
   "source": [
    "from pyspark.sql import SQLContext\n",
    "sqlContext = SQLContext(sc)"
   ]
  },
  {
   "cell_type": "markdown",
   "metadata": {},
   "source": [
    "### I.a) Creating a numercal dataframe keeping numerical columns only"
   ]
  },
  {
   "cell_type": "code",
   "execution_count": 113,
   "metadata": {},
   "outputs": [],
   "source": [
    "usedcar_data_df_v2=usedcar_data_df.drop(['Id'],axis=1)\n",
    "\n",
    "usedcar_data_df_v2_num=usedcar_data_df_v2.drop(['Model_Category'],axis=1)"
   ]
  },
  {
   "cell_type": "markdown",
   "metadata": {},
   "source": [
    "### I.b) Running pipeline on full dataset"
   ]
  },
  {
   "cell_type": "code",
   "execution_count": 115,
   "metadata": {},
   "outputs": [],
   "source": [
    "from sklearn.pipeline import Pipeline\n",
    "from sklearn.preprocessing import StandardScaler\n",
    "\n",
    "num_pipeline2 = Pipeline([\n",
    "        ('std_scaler', StandardScaler()),\n",
    "    ])\n",
    "\n",
    "usedcar_num_train2 = num_pipeline2.fit_transform(usedcar_data_df_v2_num)"
   ]
  },
  {
   "cell_type": "code",
   "execution_count": 116,
   "metadata": {},
   "outputs": [],
   "source": [
    "from sklearn.preprocessing import OneHotEncoder\n",
    "from sklearn.compose import ColumnTransformer\n",
    "\n",
    "num_variables2 = ['Mileage','Year_Diff','M_Income_2018']\n",
    "cat_variables2 = [\"Model_Category\"]\n",
    "\n",
    "full_pipeline2 = ColumnTransformer([\n",
    "        (\"num\", num_pipeline2, num_variables2),\n",
    "        (\"cat\", OneHotEncoder(), cat_variables2),\n",
    "    ])\n",
    "\n",
    "full_prepared2 = full_pipeline2.fit_transform(usedcar_data_df_v2)"
   ]
  },
  {
   "cell_type": "markdown",
   "metadata": {},
   "source": [
    "### I.c) Creating a full dataset where features are standardized but lable variable (Price) isn't standardized"
   ]
  },
  {
   "cell_type": "code",
   "execution_count": 117,
   "metadata": {},
   "outputs": [
    {
     "data": {
      "text/html": [
       "<div>\n",
       "<style scoped>\n",
       "    .dataframe tbody tr th:only-of-type {\n",
       "        vertical-align: middle;\n",
       "    }\n",
       "\n",
       "    .dataframe tbody tr th {\n",
       "        vertical-align: top;\n",
       "    }\n",
       "\n",
       "    .dataframe thead th {\n",
       "        text-align: right;\n",
       "    }\n",
       "</style>\n",
       "<table border=\"1\" class=\"dataframe\">\n",
       "  <thead>\n",
       "    <tr style=\"text-align: right;\">\n",
       "      <th></th>\n",
       "      <th>Mileage</th>\n",
       "      <th>Year_Diff</th>\n",
       "      <th>M_Income_2018</th>\n",
       "      <th>Economy</th>\n",
       "      <th>Medium</th>\n",
       "      <th>Premium</th>\n",
       "      <th>Price</th>\n",
       "    </tr>\n",
       "  </thead>\n",
       "  <tbody>\n",
       "    <tr>\n",
       "      <th>0</th>\n",
       "      <td>-0.219203</td>\n",
       "      <td>-0.197125</td>\n",
       "      <td>0.652530</td>\n",
       "      <td>0.0</td>\n",
       "      <td>1.0</td>\n",
       "      <td>0.0</td>\n",
       "      <td>23950</td>\n",
       "    </tr>\n",
       "    <tr>\n",
       "      <th>1</th>\n",
       "      <td>-0.229223</td>\n",
       "      <td>-0.197125</td>\n",
       "      <td>-1.037232</td>\n",
       "      <td>0.0</td>\n",
       "      <td>1.0</td>\n",
       "      <td>0.0</td>\n",
       "      <td>21990</td>\n",
       "    </tr>\n",
       "    <tr>\n",
       "      <th>2</th>\n",
       "      <td>0.440625</td>\n",
       "      <td>0.094956</td>\n",
       "      <td>0.652530</td>\n",
       "      <td>0.0</td>\n",
       "      <td>1.0</td>\n",
       "      <td>0.0</td>\n",
       "      <td>18888</td>\n",
       "    </tr>\n",
       "    <tr>\n",
       "      <th>3</th>\n",
       "      <td>0.194981</td>\n",
       "      <td>-0.197125</td>\n",
       "      <td>-0.911713</td>\n",
       "      <td>0.0</td>\n",
       "      <td>1.0</td>\n",
       "      <td>0.0</td>\n",
       "      <td>21250</td>\n",
       "    </tr>\n",
       "    <tr>\n",
       "      <th>4</th>\n",
       "      <td>-0.175929</td>\n",
       "      <td>-0.489205</td>\n",
       "      <td>0.652530</td>\n",
       "      <td>0.0</td>\n",
       "      <td>1.0</td>\n",
       "      <td>0.0</td>\n",
       "      <td>25950</td>\n",
       "    </tr>\n",
       "  </tbody>\n",
       "</table>\n",
       "</div>"
      ],
      "text/plain": [
       "    Mileage  Year_Diff  M_Income_2018  Economy  Medium  Premium  Price\n",
       "0 -0.219203  -0.197125       0.652530      0.0     1.0      0.0  23950\n",
       "1 -0.229223  -0.197125      -1.037232      0.0     1.0      0.0  21990\n",
       "2  0.440625   0.094956       0.652530      0.0     1.0      0.0  18888\n",
       "3  0.194981  -0.197125      -0.911713      0.0     1.0      0.0  21250\n",
       "4 -0.175929  -0.489205       0.652530      0.0     1.0      0.0  25950"
      ]
     },
     "execution_count": 117,
     "metadata": {},
     "output_type": "execute_result"
    }
   ],
   "source": [
    "import pandas as pd\n",
    "fulldata_preapred_df2=pd.DataFrame(full_prepared2, columns=['Mileage','Year_Diff','M_Income_2018','Economy','Medium','Premium'])\n",
    "fulldata_preapred_df2[\"Price\"]=usedcar_data_df_v2.Price\n",
    "fulldata_preapred_df2.head(5)"
   ]
  },
  {
   "cell_type": "markdown",
   "metadata": {},
   "source": [
    "### I.d) Pipeline step for running Random Forest using PySpark ML. have to use Vector Assembler"
   ]
  },
  {
   "cell_type": "code",
   "execution_count": 118,
   "metadata": {},
   "outputs": [],
   "source": [
    "from pyspark.ml.feature import StringIndexer, VectorAssembler\n",
    "\n",
    "categoricalColumns = ['Economy','Medium',\"Premium\"]\n",
    "stages = []\n",
    "#for categoricalCol in categoricalColumns:\n",
    "#    stringIndexer = StringIndexer(inputCol = categoricalCol, outputCol = categoricalCol + 'Index')\n",
    "#    encoder = OneHotEncoderEstimator(inputCols=[stringIndexer.getOutputCol()], outputCols=[categoricalCol + \"classVec\"])\n",
    "#    stages += [stringIndexer, encoder]\n",
    "\n",
    "label_stringIdx = StringIndexer(inputCol = 'Price', outputCol = 'label')\n",
    "stages += [label_stringIdx]\n",
    "\n",
    "numericCols = ['Mileage', 'Year_Diff', 'M_Income_2018']\n",
    "\n",
    "assemblerInputs = categoricalColumns + numericCols\n",
    "\n",
    "assembler = VectorAssembler(inputCols=assemblerInputs, outputCol=\"features\")\n",
    "stages += [assembler]"
   ]
  },
  {
   "cell_type": "markdown",
   "metadata": {},
   "source": [
    "### I.e) Converting the pandas DataFrame to Spark DataFrame to be used later for running Spark ML Random Forest"
   ]
  },
  {
   "cell_type": "code",
   "execution_count": 119,
   "metadata": {},
   "outputs": [],
   "source": [
    "fulldata_preapred_pyspdf = sqlContext.createDataFrame(fulldata_preapred_df2)"
   ]
  },
  {
   "cell_type": "code",
   "execution_count": 120,
   "metadata": {},
   "outputs": [
    {
     "name": "stdout",
     "output_type": "stream",
     "text": [
      "+-------------------+--------------------+-------------------+-------+------+-------+-----+\n",
      "|            Mileage|           Year_Diff|      M_Income_2018|Economy|Medium|Premium|Price|\n",
      "+-------------------+--------------------+-------------------+-------+------+-------+-----+\n",
      "|-0.2192029376869179|-0.19712476210024932|  0.652529919296431|    0.0|   1.0|    0.0|23950|\n",
      "|-0.2292232211358643|-0.19712476210024932| -1.037231911823049|    0.0|   1.0|    0.0|21990|\n",
      "| 0.4406253595707239| 0.09495556065436911|  0.652529919296431|    0.0|   1.0|    0.0|18888|\n",
      "| 0.1949810579619943|-0.19712476210024932|-0.9117128411239246|    0.0|   1.0|    0.0|21250|\n",
      "|-0.1759290665176936|-0.48920508485486774|  0.652529919296431|    0.0|   1.0|    0.0|25950|\n",
      "+-------------------+--------------------+-------------------+-------+------+-------+-----+\n",
      "only showing top 5 rows\n",
      "\n"
     ]
    }
   ],
   "source": [
    "fulldata_preapred_pyspdf.show(5)"
   ]
  },
  {
   "cell_type": "markdown",
   "metadata": {},
   "source": [
    "### I.f) Pipeline on Spark DataFrame which will create columns features and label, which are required to run Spark ML Random Forest"
   ]
  },
  {
   "cell_type": "code",
   "execution_count": 121,
   "metadata": {},
   "outputs": [
    {
     "name": "stdout",
     "output_type": "stream",
     "text": [
      "root\n",
      " |-- label: double (nullable = false)\n",
      " |-- features: vector (nullable = true)\n",
      " |-- Mileage: double (nullable = true)\n",
      " |-- Year_Diff: double (nullable = true)\n",
      " |-- M_Income_2018: double (nullable = true)\n",
      " |-- Economy: double (nullable = true)\n",
      " |-- Medium: double (nullable = true)\n",
      " |-- Premium: double (nullable = true)\n",
      " |-- Price: long (nullable = true)\n",
      "\n"
     ]
    }
   ],
   "source": [
    "cols=fulldata_preapred_pyspdf.columns\n",
    "\n",
    "from pyspark.ml import Pipeline\n",
    "pipeline = Pipeline(stages = stages)\n",
    "pipelineModel = pipeline.fit(fulldata_preapred_pyspdf)\n",
    "df = pipelineModel.transform(fulldata_preapred_pyspdf)\n",
    "selectedCols = ['label', 'features'] + cols\n",
    "df = df.select(selectedCols)\n",
    "df.printSchema()"
   ]
  },
  {
   "cell_type": "code",
   "execution_count": 50,
   "metadata": {},
   "outputs": [
    {
     "data": {
      "text/html": [
       "<div>\n",
       "<style scoped>\n",
       "    .dataframe tbody tr th:only-of-type {\n",
       "        vertical-align: middle;\n",
       "    }\n",
       "\n",
       "    .dataframe tbody tr th {\n",
       "        vertical-align: top;\n",
       "    }\n",
       "\n",
       "    .dataframe thead th {\n",
       "        text-align: right;\n",
       "    }\n",
       "</style>\n",
       "<table border=\"1\" class=\"dataframe\">\n",
       "  <thead>\n",
       "    <tr style=\"text-align: right;\">\n",
       "      <th></th>\n",
       "      <th>0</th>\n",
       "      <th>1</th>\n",
       "      <th>2</th>\n",
       "      <th>3</th>\n",
       "      <th>4</th>\n",
       "    </tr>\n",
       "  </thead>\n",
       "  <tbody>\n",
       "    <tr>\n",
       "      <th>label</th>\n",
       "      <td>435</td>\n",
       "      <td>160</td>\n",
       "      <td>291</td>\n",
       "      <td>993</td>\n",
       "      <td>550</td>\n",
       "    </tr>\n",
       "    <tr>\n",
       "      <th>features</th>\n",
       "      <td>[0.0, 1.0, 0.0, -0.2192029376869179, -0.197124...</td>\n",
       "      <td>[0.0, 1.0, 0.0, -0.2292232211358643, -0.197124...</td>\n",
       "      <td>[0.0, 1.0, 0.0, 0.4406253595707239, 0.09495556...</td>\n",
       "      <td>[0.0, 1.0, 0.0, 0.1949810579619943, -0.1971247...</td>\n",
       "      <td>[0.0, 1.0, 0.0, -0.1759290665176936, -0.489205...</td>\n",
       "    </tr>\n",
       "    <tr>\n",
       "      <th>Mileage</th>\n",
       "      <td>-0.219203</td>\n",
       "      <td>-0.229223</td>\n",
       "      <td>0.440625</td>\n",
       "      <td>0.194981</td>\n",
       "      <td>-0.175929</td>\n",
       "    </tr>\n",
       "    <tr>\n",
       "      <th>Year_Diff</th>\n",
       "      <td>-0.197125</td>\n",
       "      <td>-0.197125</td>\n",
       "      <td>0.0949556</td>\n",
       "      <td>-0.197125</td>\n",
       "      <td>-0.489205</td>\n",
       "    </tr>\n",
       "    <tr>\n",
       "      <th>M_Income_2018</th>\n",
       "      <td>0.65253</td>\n",
       "      <td>-1.03723</td>\n",
       "      <td>0.65253</td>\n",
       "      <td>-0.911713</td>\n",
       "      <td>0.65253</td>\n",
       "    </tr>\n",
       "    <tr>\n",
       "      <th>Economy</th>\n",
       "      <td>0</td>\n",
       "      <td>0</td>\n",
       "      <td>0</td>\n",
       "      <td>0</td>\n",
       "      <td>0</td>\n",
       "    </tr>\n",
       "    <tr>\n",
       "      <th>Medium</th>\n",
       "      <td>1</td>\n",
       "      <td>1</td>\n",
       "      <td>1</td>\n",
       "      <td>1</td>\n",
       "      <td>1</td>\n",
       "    </tr>\n",
       "    <tr>\n",
       "      <th>Premium</th>\n",
       "      <td>0</td>\n",
       "      <td>0</td>\n",
       "      <td>0</td>\n",
       "      <td>0</td>\n",
       "      <td>0</td>\n",
       "    </tr>\n",
       "    <tr>\n",
       "      <th>Price</th>\n",
       "      <td>23950</td>\n",
       "      <td>21990</td>\n",
       "      <td>18888</td>\n",
       "      <td>21250</td>\n",
       "      <td>25950</td>\n",
       "    </tr>\n",
       "  </tbody>\n",
       "</table>\n",
       "</div>"
      ],
      "text/plain": [
       "                                                               0  \\\n",
       "label                                                        435   \n",
       "features       [0.0, 1.0, 0.0, -0.2192029376869179, -0.197124...   \n",
       "Mileage                                                -0.219203   \n",
       "Year_Diff                                              -0.197125   \n",
       "M_Income_2018                                            0.65253   \n",
       "Economy                                                        0   \n",
       "Medium                                                         1   \n",
       "Premium                                                        0   \n",
       "Price                                                      23950   \n",
       "\n",
       "                                                               1  \\\n",
       "label                                                        160   \n",
       "features       [0.0, 1.0, 0.0, -0.2292232211358643, -0.197124...   \n",
       "Mileage                                                -0.229223   \n",
       "Year_Diff                                              -0.197125   \n",
       "M_Income_2018                                           -1.03723   \n",
       "Economy                                                        0   \n",
       "Medium                                                         1   \n",
       "Premium                                                        0   \n",
       "Price                                                      21990   \n",
       "\n",
       "                                                               2  \\\n",
       "label                                                        291   \n",
       "features       [0.0, 1.0, 0.0, 0.4406253595707239, 0.09495556...   \n",
       "Mileage                                                 0.440625   \n",
       "Year_Diff                                              0.0949556   \n",
       "M_Income_2018                                            0.65253   \n",
       "Economy                                                        0   \n",
       "Medium                                                         1   \n",
       "Premium                                                        0   \n",
       "Price                                                      18888   \n",
       "\n",
       "                                                               3  \\\n",
       "label                                                        993   \n",
       "features       [0.0, 1.0, 0.0, 0.1949810579619943, -0.1971247...   \n",
       "Mileage                                                 0.194981   \n",
       "Year_Diff                                              -0.197125   \n",
       "M_Income_2018                                          -0.911713   \n",
       "Economy                                                        0   \n",
       "Medium                                                         1   \n",
       "Premium                                                        0   \n",
       "Price                                                      21250   \n",
       "\n",
       "                                                               4  \n",
       "label                                                        550  \n",
       "features       [0.0, 1.0, 0.0, -0.1759290665176936, -0.489205...  \n",
       "Mileage                                                -0.175929  \n",
       "Year_Diff                                              -0.489205  \n",
       "M_Income_2018                                            0.65253  \n",
       "Economy                                                        0  \n",
       "Medium                                                         1  \n",
       "Premium                                                        0  \n",
       "Price                                                      25950  "
      ]
     },
     "execution_count": 50,
     "metadata": {},
     "output_type": "execute_result"
    }
   ],
   "source": [
    "pd.DataFrame(df.take(5), columns=df.columns).transpose()"
   ]
  },
  {
   "cell_type": "markdown",
   "metadata": {},
   "source": [
    "### I.g) Creating Training and Test dataset using Random split of 70-30"
   ]
  },
  {
   "cell_type": "code",
   "execution_count": 122,
   "metadata": {},
   "outputs": [
    {
     "name": "stdout",
     "output_type": "stream",
     "text": [
      "Training Dataset Count: 863530\n",
      "Test Dataset Count: 369512\n"
     ]
    }
   ],
   "source": [
    "train, test = df.randomSplit([0.7, 0.3], seed = 30)\n",
    "print(\"Training Dataset Count: \" + str(train.count()))\n",
    "print(\"Test Dataset Count: \" + str(test.count()))"
   ]
  },
  {
   "cell_type": "markdown",
   "metadata": {},
   "source": [
    "### I.h) Run Random forest regressor model"
   ]
  },
  {
   "cell_type": "code",
   "execution_count": 123,
   "metadata": {},
   "outputs": [],
   "source": [
    "from pyspark.ml.regression import RandomForestRegressor\n",
    "\n",
    "rf = RandomForestRegressor(featuresCol = 'features', labelCol = 'label')"
   ]
  },
  {
   "cell_type": "code",
   "execution_count": null,
   "metadata": {},
   "outputs": [],
   "source": [
    "#rfModel = rf.fit(train)\n",
    "#predictions = rfModel.transform(test)\n",
    "\n",
    "#predictions.select(\"prediction\", \"label\", \"features\").show(5)"
   ]
  },
  {
   "cell_type": "code",
   "execution_count": null,
   "metadata": {},
   "outputs": [],
   "source": [
    "#from pyspark.ml.evaluation import RegressionEvaluator\n",
    "#evaluator = RegressionEvaluator(\n",
    "#    labelCol=\"label\", predictionCol=\"prediction\", metricName=\"rmse\")\n",
    "#rmse = evaluator.evaluate(predictions)\n",
    "#print(\"Root Mean Squared Error (RMSE) on test data = %g\" % rmse)"
   ]
  },
  {
   "cell_type": "markdown",
   "metadata": {},
   "source": [
    "## I.i) Pipeline for Grid search and using Random Forest regressor for Grid Search algorithm/"
   ]
  },
  {
   "cell_type": "code",
   "execution_count": 124,
   "metadata": {},
   "outputs": [],
   "source": [
    "from pyspark.ml import Pipeline\n",
    "\n",
    "pipeline = Pipeline(stages=[rf])"
   ]
  },
  {
   "cell_type": "code",
   "execution_count": 125,
   "metadata": {},
   "outputs": [],
   "source": [
    "from pyspark.ml.tuning import ParamGridBuilder\n",
    "import numpy as np\n",
    "\n",
    "paramGrid = ParamGridBuilder() \\\n",
    "    .addGrid(rf.numTrees, [int(x) for x in np.linspace(start = 10, stop = 30, num = 5)]) \\\n",
    "    .addGrid(rf.maxDepth, [int(x) for x in np.linspace(start = 1, stop = 4, num = 2)]) \\\n",
    "    .build()"
   ]
  },
  {
   "cell_type": "markdown",
   "metadata": {},
   "source": [
    "### I.j) Forest Regressor on 3-fold Cross-validated dataset"
   ]
  },
  {
   "cell_type": "code",
   "execution_count": 126,
   "metadata": {},
   "outputs": [],
   "source": [
    "from pyspark.ml.tuning import CrossValidator\n",
    "from pyspark.ml.evaluation import RegressionEvaluator\n",
    "\n",
    "crossval = CrossValidator(estimator=pipeline,\n",
    "                          estimatorParamMaps=paramGrid,\n",
    "                          evaluator=RegressionEvaluator(),\n",
    "                          numFolds=3)"
   ]
  },
  {
   "cell_type": "markdown",
   "metadata": {},
   "source": [
    "### I.k) Fit the cross-validated regressor to train dataset"
   ]
  },
  {
   "cell_type": "code",
   "execution_count": 127,
   "metadata": {},
   "outputs": [],
   "source": [
    "cvModel = crossval.fit(train)"
   ]
  },
  {
   "cell_type": "markdown",
   "metadata": {},
   "source": [
    "### I.l) Predicting on Test dataset"
   ]
  },
  {
   "cell_type": "code",
   "execution_count": 128,
   "metadata": {},
   "outputs": [],
   "source": [
    "predictions = cvModel.transform(test)"
   ]
  },
  {
   "cell_type": "code",
   "execution_count": 140,
   "metadata": {},
   "outputs": [
    {
     "data": {
      "text/plain": [
       "pyspark.sql.dataframe.DataFrame"
      ]
     },
     "execution_count": 140,
     "metadata": {},
     "output_type": "execute_result"
    }
   ],
   "source": [
    "type(predictions)"
   ]
  },
  {
   "cell_type": "markdown",
   "metadata": {},
   "source": [
    "### I.m) Feature importance"
   ]
  },
  {
   "cell_type": "code",
   "execution_count": 129,
   "metadata": {},
   "outputs": [
    {
     "data": {
      "image/png": "[encoded data removed]",
      "text/plain": [
       "<Figure size 432x288 with 1 Axes>"
      ]
     },
     "metadata": {
      "needs_background": "light"
     },
     "output_type": "display_data"
    }
   ],
   "source": [
    "bestPipeline = cvModel.bestModel\n",
    "bestModel = bestPipeline.stages[0]\n",
    "\n",
    "importances = bestModel.featureImportances\n",
    "\n",
    "x_values = list(range(len(importances)))\n",
    "\n",
    "plt.bar(x_values, importances, orientation = 'vertical')\n",
    "plt.xticks(x_values, assemblerInputs, rotation=40)\n",
    "plt.ylabel('Importance')\n",
    "plt.xlabel('Feature')\n",
    "plt.title('Feature Importances');"
   ]
  },
  {
   "cell_type": "markdown",
   "metadata": {},
   "source": [
    "### I.n) Best model hyperparameter values"
   ]
  },
  {
   "cell_type": "code",
   "execution_count": 130,
   "metadata": {},
   "outputs": [
    {
     "name": "stdout",
     "output_type": "stream",
     "text": [
      "Number of Trees for Best model from Grid Search: 25\n",
      "Max Depth for Best model from Grid Search -  4\n"
     ]
    }
   ],
   "source": [
    "print('Number of Trees for Best model from Grid Search:', bestModel.getNumTrees)\n",
    "print('Max Depth for Best model from Grid Search - ', bestModel.getOrDefault('maxDepth'))"
   ]
  },
  {
   "cell_type": "markdown",
   "metadata": {},
   "source": [
    "### I.o) Getting RMSE value for the prediction on Test dataset"
   ]
  },
  {
   "cell_type": "code",
   "execution_count": 131,
   "metadata": {},
   "outputs": [
    {
     "name": "stdout",
     "output_type": "stream",
     "text": [
      "Root Mean Squared Error (RMSE) on TEST data = 7936.25\n"
     ]
    }
   ],
   "source": [
    "#import matplotlib.pyplot as plt\n",
    "\n",
    "evaluator = RegressionEvaluator(labelCol=\"label\", predictionCol=\"prediction\", metricName=\"rmse\")\n",
    "\n",
    "test_rmse = evaluator.evaluate(predictions)\n",
    "\n",
    "print(\"Root Mean Squared Error (RMSE) on TEST data = %g\" % test_rmse)"
   ]
  },
  {
   "cell_type": "markdown",
   "metadata": {},
   "source": [
    "## (Part J): Comparison between the different models and Conclusion"
   ]
  },
  {
   "cell_type": "markdown",
   "metadata": {},
   "source": [
    "### J.a) Creating a blank dataframe which will be used to comapred model performance statistic between different regressors"
   ]
  },
  {
   "cell_type": "code",
   "execution_count": 133,
   "metadata": {},
   "outputs": [
    {
     "data": {
      "text/html": [
       "<div>\n",
       "<style scoped>\n",
       "    .dataframe tbody tr th:only-of-type {\n",
       "        vertical-align: middle;\n",
       "    }\n",
       "\n",
       "    .dataframe tbody tr th {\n",
       "        vertical-align: top;\n",
       "    }\n",
       "\n",
       "    .dataframe thead th {\n",
       "        text-align: right;\n",
       "    }\n",
       "</style>\n",
       "<table border=\"1\" class=\"dataframe\">\n",
       "  <thead>\n",
       "    <tr style=\"text-align: right;\">\n",
       "      <th></th>\n",
       "      <th>Lin_Regression</th>\n",
       "      <th>Decision_Tree</th>\n",
       "      <th>Random_Forest</th>\n",
       "      <th>Random_Forest_GridSearch</th>\n",
       "    </tr>\n",
       "  </thead>\n",
       "  <tbody>\n",
       "    <tr>\n",
       "      <th>Training_RMSE</th>\n",
       "      <td>NaN</td>\n",
       "      <td>NaN</td>\n",
       "      <td>NaN</td>\n",
       "      <td>NaN</td>\n",
       "    </tr>\n",
       "    <tr>\n",
       "      <th>Test_RMSE</th>\n",
       "      <td>NaN</td>\n",
       "      <td>NaN</td>\n",
       "      <td>NaN</td>\n",
       "      <td>NaN</td>\n",
       "    </tr>\n",
       "    <tr>\n",
       "      <th>CV_RMSE</th>\n",
       "      <td>NaN</td>\n",
       "      <td>NaN</td>\n",
       "      <td>NaN</td>\n",
       "      <td>NaN</td>\n",
       "    </tr>\n",
       "    <tr>\n",
       "      <th>Training_R_sqr%</th>\n",
       "      <td>NaN</td>\n",
       "      <td>NaN</td>\n",
       "      <td>NaN</td>\n",
       "      <td>NaN</td>\n",
       "    </tr>\n",
       "    <tr>\n",
       "      <th>Test_R_sqr%</th>\n",
       "      <td>NaN</td>\n",
       "      <td>NaN</td>\n",
       "      <td>NaN</td>\n",
       "      <td>NaN</td>\n",
       "    </tr>\n",
       "    <tr>\n",
       "      <th>Training_Accuracy%</th>\n",
       "      <td>NaN</td>\n",
       "      <td>NaN</td>\n",
       "      <td>NaN</td>\n",
       "      <td>NaN</td>\n",
       "    </tr>\n",
       "    <tr>\n",
       "      <th>Test_Accuracy%</th>\n",
       "      <td>NaN</td>\n",
       "      <td>NaN</td>\n",
       "      <td>NaN</td>\n",
       "      <td>NaN</td>\n",
       "    </tr>\n",
       "  </tbody>\n",
       "</table>\n",
       "</div>"
      ],
      "text/plain": [
       "                   Lin_Regression Decision_Tree Random_Forest  \\\n",
       "Training_RMSE                 NaN           NaN           NaN   \n",
       "Test_RMSE                     NaN           NaN           NaN   \n",
       "CV_RMSE                       NaN           NaN           NaN   \n",
       "Training_R_sqr%               NaN           NaN           NaN   \n",
       "Test_R_sqr%                   NaN           NaN           NaN   \n",
       "Training_Accuracy%            NaN           NaN           NaN   \n",
       "Test_Accuracy%                NaN           NaN           NaN   \n",
       "\n",
       "                   Random_Forest_GridSearch  \n",
       "Training_RMSE                           NaN  \n",
       "Test_RMSE                               NaN  \n",
       "CV_RMSE                                 NaN  \n",
       "Training_R_sqr%                         NaN  \n",
       "Test_R_sqr%                             NaN  \n",
       "Training_Accuracy%                      NaN  \n",
       "Test_Accuracy%                          NaN  "
      ]
     },
     "execution_count": 133,
     "metadata": {},
     "output_type": "execute_result"
    }
   ],
   "source": [
    "comparison_table = pd.DataFrame(columns = ['Lin_Regression', 'Decision_Tree', 'Random_Forest','Random_Forest_GridSearch'],  \n",
    "                   index = ['Training_RMSE', 'Test_RMSE', 'CV_RMSE','Training_R_sqr%','Test_R_sqr%','Training_Accuracy%','Test_Accuracy%'])\n",
    "comparison_table"
   ]
  },
  {
   "cell_type": "markdown",
   "metadata": {},
   "source": [
    "### J.b) Filling the dataframe with relevant values"
   ]
  },
  {
   "cell_type": "code",
   "execution_count": 137,
   "metadata": {},
   "outputs": [
    {
     "data": {
      "text/html": [
       "<div>\n",
       "<style scoped>\n",
       "    .dataframe tbody tr th:only-of-type {\n",
       "        vertical-align: middle;\n",
       "    }\n",
       "\n",
       "    .dataframe tbody tr th {\n",
       "        vertical-align: top;\n",
       "    }\n",
       "\n",
       "    .dataframe thead th {\n",
       "        text-align: right;\n",
       "    }\n",
       "</style>\n",
       "<table border=\"1\" class=\"dataframe\">\n",
       "  <thead>\n",
       "    <tr style=\"text-align: right;\">\n",
       "      <th></th>\n",
       "      <th>Lin_Regression</th>\n",
       "      <th>Decision_Tree</th>\n",
       "      <th>Random_Forest</th>\n",
       "      <th>Random_Forest_GridSearch</th>\n",
       "    </tr>\n",
       "  </thead>\n",
       "  <tbody>\n",
       "    <tr>\n",
       "      <th>Training_RMSE</th>\n",
       "      <td>8488.79</td>\n",
       "      <td>8058.99</td>\n",
       "      <td>7972.79</td>\n",
       "      <td>NaN</td>\n",
       "    </tr>\n",
       "    <tr>\n",
       "      <th>Test_RMSE</th>\n",
       "      <td>8347.47</td>\n",
       "      <td>8997.29</td>\n",
       "      <td>8597.47</td>\n",
       "      <td>7936.25</td>\n",
       "    </tr>\n",
       "    <tr>\n",
       "      <th>CV_RMSE</th>\n",
       "      <td>9831.28</td>\n",
       "      <td>9831.28</td>\n",
       "      <td>7984.41</td>\n",
       "      <td>NaN</td>\n",
       "    </tr>\n",
       "    <tr>\n",
       "      <th>Training_R_sqr%</th>\n",
       "      <td>58.49</td>\n",
       "      <td>62.59</td>\n",
       "      <td>63.38</td>\n",
       "      <td>NaN</td>\n",
       "    </tr>\n",
       "    <tr>\n",
       "      <th>Test_R_sqr%</th>\n",
       "      <td>59.17</td>\n",
       "      <td>52.57</td>\n",
       "      <td>56.69</td>\n",
       "      <td>NaN</td>\n",
       "    </tr>\n",
       "    <tr>\n",
       "      <th>Training_Accuracy%</th>\n",
       "      <td>72.98</td>\n",
       "      <td>74.53</td>\n",
       "      <td>74.74</td>\n",
       "      <td>NaN</td>\n",
       "    </tr>\n",
       "    <tr>\n",
       "      <th>Test_Accuracy%</th>\n",
       "      <td>73.01</td>\n",
       "      <td>73.88</td>\n",
       "      <td>73.87</td>\n",
       "      <td>NaN</td>\n",
       "    </tr>\n",
       "  </tbody>\n",
       "</table>\n",
       "</div>"
      ],
      "text/plain": [
       "                   Lin_Regression Decision_Tree Random_Forest  \\\n",
       "Training_RMSE             8488.79       8058.99       7972.79   \n",
       "Test_RMSE                 8347.47       8997.29       8597.47   \n",
       "CV_RMSE                   9831.28       9831.28       7984.41   \n",
       "Training_R_sqr%             58.49         62.59         63.38   \n",
       "Test_R_sqr%                 59.17         52.57         56.69   \n",
       "Training_Accuracy%          72.98         74.53         74.74   \n",
       "Test_Accuracy%              73.01         73.88         73.87   \n",
       "\n",
       "                   Random_Forest_GridSearch  \n",
       "Training_RMSE                           NaN  \n",
       "Test_RMSE                           7936.25  \n",
       "CV_RMSE                                 NaN  \n",
       "Training_R_sqr%                         NaN  \n",
       "Test_R_sqr%                             NaN  \n",
       "Training_Accuracy%                      NaN  \n",
       "Test_Accuracy%                          NaN  "
      ]
     },
     "execution_count": 137,
     "metadata": {},
     "output_type": "execute_result"
    }
   ],
   "source": [
    "#For Linear regression column values\n",
    "comparison_table.at['Training_RMSE','Lin_Regression']=lin_rmse\n",
    "comparison_table.at['Test_RMSE','Lin_Regression']=lin_rmse_test\n",
    "comparison_table.at['CV_RMSE','Lin_Regression']=lin_rmse_scores.mean()\n",
    "comparison_table.at['Training_R_sqr%','Lin_Regression']=np.round(lin_train_r2*100,2)\n",
    "comparison_table.at['Test_R_sqr%','Lin_Regression']=np.round(lin_test_r2*100,2)\n",
    "comparison_table.at['Training_Accuracy%','Lin_Regression']=np.round(100-line_reg_train_mape,2)\n",
    "comparison_table.at['Test_Accuracy%','Lin_Regression']=np.round(100-line_reg_test_mape ,2)\n",
    "\n",
    "#For Decision Tree column values\n",
    "comparison_table.at['Training_RMSE','Decision_Tree']=DT_rmse\n",
    "comparison_table.at['Test_RMSE','Decision_Tree']=DT_rmse_test\n",
    "comparison_table.at['CV_RMSE','Decision_Tree']=lin_rmse_scores.mean()\n",
    "comparison_table.at['Training_R_sqr%','Decision_Tree']=np.round(DT_train_r2*100,2)\n",
    "comparison_table.at['Test_R_sqr%','Decision_Tree']=np.round(DT_test_r2*100,2)\n",
    "comparison_table.at['Training_Accuracy%','Decision_Tree']=np.round(100-DT_train_mape,2)\n",
    "comparison_table.at['Test_Accuracy%','Decision_Tree']=np.round(100-DT_test_mape ,2)\n",
    "\n",
    "\n",
    "#For Random Forest column values\n",
    "comparison_table.at['Training_RMSE','Random_Forest']=forest_rmse\n",
    "comparison_table.at['Test_RMSE','Random_Forest']=forest_rmse_test\n",
    "comparison_table.at['CV_RMSE','Random_Forest']=forest_rmse_score.mean()\n",
    "comparison_table.at['Training_R_sqr%','Random_Forest']=np.round(RF_train_r2*100,2)\n",
    "comparison_table.at['Test_R_sqr%','Random_Forest']=np.round(RF_test_r2*100,2)\n",
    "comparison_table.at['Training_Accuracy%','Random_Forest']=np.round(100-RF_train_mape,2)\n",
    "comparison_table.at['Test_Accuracy%','Random_Forest']=np.round(100-RF_test_mape ,2)\n",
    "\n",
    "\n",
    "#For Random Forest thru Grid Search output column values\n",
    "comparison_table.at['Test_RMSE','Random_Forest_GridSearch']=test_rmse\n",
    "\n",
    "comparison_table"
   ]
  },
  {
   "cell_type": "markdown",
   "metadata": {},
   "source": [
    "#### Note: \n",
    "* Accuracy in above table is (100 - MAPE)\n",
    "* Training & Test datasets are same for Linear regression, Decision Tree & Random Forest (using Stratified random sample method and 70-30 percentage splits). But Training & Test datasets used for Spark ML Random Forest (result of Grid Search) is different, it's done through Random Sample method (using 70-30 percentage split)"
   ]
  },
  {
   "cell_type": "markdown",
   "metadata": {},
   "source": [
    "### J.c) Conclusion:\n",
    "* In terms of model accuracy, RMSE and R-square values, all the 3 models perform similarly with Random Forest doing slightly better than others in terms of slightly lower RMSEs and slightly higher R-square & Accuracy (100-MAPE) values\n",
    "* The good thing is RMSE is quite consistent between Training and Test datasets indicating the model performance doesn't degrade with Test dataset\n",
    "* Random forest output from Grid search produces best RMSE in Test dataset compared to other models. However, couldn't find resources to calculate R-square or Accuracy using Spark ML method\n",
    "* Most important features are: Economy model, Premium model, Number of years difference between latest year (2020) and Car model, Mileage of the car\n",
    "* However, we need more variables to be able to improve R-square & Accuracy of the prediction models. We tried to overcome the challenge by (a) bringing in data from external source (State wise median income from US Labor force) as part of feature engineering, (b) use of interaction variables between predictors, (c) use of squared variables of predictors. But it didn't improve results of models"
   ]
  },
  {
   "cell_type": "code",
   "execution_count": null,
   "metadata": {},
   "outputs": [],
   "source": []
  }
 ],
 "metadata": {
  "kernelspec": {
   "display_name": "Python 3",
   "language": "python",
   "name": "python3"
  },
  "language_info": {
   "codemirror_mode": {
    "name": "ipython",
    "version": 3
   },
   "file_extension": ".py",
   "mimetype": "text/x-python",
   "name": "python",
   "nbconvert_exporter": "python",
   "pygments_lexer": "ipython3",
   "version": "3.8.3"
  }
 },
 "nbformat": 4,
 "nbformat_minor": 4
}
