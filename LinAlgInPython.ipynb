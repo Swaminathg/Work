{
 "cells": [
  {
   "cell_type": "markdown",
   "metadata": {},
   "source": [
    "<h1>Matrix Operations in Python</h1>\n",
    "<br>"
   ]
  },
  {
   "cell_type": "markdown",
   "metadata": {},
   "source": [
    "<h3>From Python documentation for the <code>np.matrix</code> class</h3>\n",
    "\n",
    "<font color=\"darkred\">It is no longer recommended to use this class, even for linear algebra. Instead use <b>regular arrays</b>. <br><br><u>Note:</u> The <code>np.matrix</code>  class may be removed in the future.</font>\n",
    "<br><br>"
   ]
  },
  {
   "cell_type": "code",
   "execution_count": null,
   "metadata": {},
   "outputs": [],
   "source": [
    "# Print all outputs in a block - not just the last one\n",
    "from IPython.core.interactiveshell import InteractiveShell\n",
    "InteractiveShell.ast_node_interactivity = \"all\""
   ]
  },
  {
   "cell_type": "code",
   "execution_count": null,
   "metadata": {},
   "outputs": [],
   "source": [
    "# Standard imports\n",
    "import numpy as np\n",
    "import pandas as pd\n",
    "import matplotlib.pyplot as plt\n",
    "\n",
    "# The LinAlg library is powerful\n",
    "from numpy import linalg as LA"
   ]
  },
  {
   "cell_type": "code",
   "execution_count": null,
   "metadata": {},
   "outputs": [],
   "source": [
    "# Declare a rectangular matrix\n",
    "A = np.array([[2, -3, -4], [4, 3, -2]])\n",
    "print(\"Matrix A is:\\n\", A)\n",
    "print(\"\\nThe shape(row x col order) of the matrix is:\", A.shape)"
   ]
  },
  {
   "cell_type": "code",
   "execution_count": null,
   "metadata": {},
   "outputs": [],
   "source": [
    "# Row and column accessors\n",
    "print(\"The second row of A is:\", A[1, :])\n",
    "print(\"The second column of A is:\", A[:, 1])"
   ]
  },
  {
   "cell_type": "code",
   "execution_count": null,
   "metadata": {},
   "outputs": [],
   "source": [
    "# Example of functional programming\n",
    "B = A + 1\n",
    "B"
   ]
  },
  {
   "cell_type": "code",
   "execution_count": null,
   "metadata": {},
   "outputs": [],
   "source": [
    "# Matrix addition is straightforward\n",
    "# Note: they must be of the same order!\n",
    "sum = A + B\n",
    "sum"
   ]
  },
  {
   "cell_type": "code",
   "execution_count": null,
   "metadata": {},
   "outputs": [],
   "source": [
    "# How about a product of a matrix with a vector?\n",
    "# We take a new matrix C, which is square \n",
    "C = np.array([[1, 2], [3, 3]])\n",
    "print(\"Matrix C is:\\n\", C)\n",
    "\n",
    "b = np.array([1, -1])\n",
    "\n",
    "print(\"\\nVector b is:\", b)\n",
    "\n",
    "# Check for compatibiility\n",
    "print(\"\\nMultiplying a matrix of order\",C.shape,\n",
    "      \"with a vector of order\", b.shape)\n",
    "\n",
    "# Multiply the matrix with the vector\n",
    "prod = np.dot(C, b)\n",
    "\n",
    "print(\"\\nThe product Cb is\\n\", prod)\n",
    "\n",
    "print(\"\\nThe order of the product is\", prod.shape)"
   ]
  },
  {
   "cell_type": "code",
   "execution_count": null,
   "metadata": {},
   "outputs": [],
   "source": [
    "# The sum of the principal diagonal elements\n",
    "# is called the trace\n",
    "C.trace()"
   ]
  },
  {
   "cell_type": "code",
   "execution_count": null,
   "metadata": {},
   "outputs": [],
   "source": [
    "# The norm of a vector is its length\n",
    "print(\"Norm of vector b =\", b, \"is\", LA.norm(b))"
   ]
  },
  {
   "cell_type": "code",
   "execution_count": null,
   "metadata": {},
   "outputs": [],
   "source": [
    "# Let's compute powers\n",
    "C_2 = LA.matrix_power(C, 2)\n",
    "C_sq = np.dot(C, C)\n",
    "print(\"Matrix C is\\n\", C)\n",
    "print(\"\\nSquare of C using LA.matrix_power() is\\n\", C_2)\n",
    "print(\"\\nC multiplied with itself is\\n\", C_sq)"
   ]
  },
  {
   "cell_type": "code",
   "execution_count": null,
   "metadata": {},
   "outputs": [],
   "source": [
    "# Determinants and inverses\n",
    "LA.det(C)\n",
    "C_inv = LA.inv(C)\n",
    "C_inv\n",
    "\n",
    "# Validate that it is indeed the inverse\n",
    "np.dot(C, C_inv)"
   ]
  },
  {
   "cell_type": "code",
   "execution_count": null,
   "metadata": {},
   "outputs": [],
   "source": [
    "# What happens to inverse when a matrix has \n",
    "# zero determinant\n",
    "D = np.array([[1, 2], [2, 4]])\n",
    "D\n",
    "LA.det(D)\n",
    "\n",
    "# Will this go through?\n",
    "# LA.inv(D)"
   ]
  },
  {
   "cell_type": "code",
   "execution_count": null,
   "metadata": {},
   "outputs": [],
   "source": [
    "# Let's solve a linear system C v = b\n",
    "C\n",
    "b\n",
    "soln = LA.solve(C, b)\n",
    "print(\"The solution of C v = b is\", np.round(soln, 2))"
   ]
  },
  {
   "cell_type": "code",
   "execution_count": null,
   "metadata": {},
   "outputs": [],
   "source": [
    "# What if the system is overspecified?\n",
    "# For example, in the case of a linear regression\n",
    "from sklearn.linear_model import LinearRegression\n",
    "\n",
    "# The -1 argument in reshape means, figure the \n",
    "# number of rows out dynamically\n",
    "x = np.array([0, 1, 1, 2, 3, 4, 5, 6, 6]).reshape(-1, 1)\n",
    "y = np.array([2, 3, 1, 3, 2, 4, 3, 4, 5])\n",
    "\n",
    "model = LinearRegression().fit(x, y)\n",
    "slope = np.round(model.coef_[0], 2)\n",
    "intercept = np.round(model.intercept_, 2)"
   ]
  },
  {
   "cell_type": "code",
   "execution_count": null,
   "metadata": {},
   "outputs": [],
   "source": [
    "fig, ax = plt.subplots(figsize=(5, 5))\n",
    "\n",
    "ax.set(xlim=(-1, 7), ylim=(-1, 7))\n",
    "ax.set_title(\"Linear Regression\", fontsize=14)\n",
    "ax.grid()\n",
    "\n",
    "# Set the axes through the origin\n",
    "for spine in ['left', 'bottom']:\n",
    "    ax.spines[spine].set_position('zero')\n",
    "\n",
    "for spine in ['right', 'top']:\n",
    "    ax.spines[spine].set_visible(False)\n",
    "\n",
    "plt.scatter(x, y)\n",
    "\n",
    "x_fit = np.linspace(-2, 7, 100)\n",
    "y_fit = slope * x_fit + intercept\n",
    "plt.plot(x_fit, y_fit, color=\"red\")\n",
    "\n",
    "eqn = \"Fitted Line: y = \" + np.str(intercept) + \\\n",
    "      \" + \" + np.str(slope) + \"x\"\n",
    "\n",
    "plt.text(1, 6, eqn, \n",
    "         size=12,\n",
    "         color=\"darkred\")"
   ]
  },
  {
   "cell_type": "code",
   "execution_count": null,
   "metadata": {},
   "outputs": [],
   "source": [
    "# Construct the augmented matrix from\n",
    "# training data x, by pre-pending a \n",
    "# column of ones\n",
    "nrows = len(x)\n",
    "A = np.array([np.ones(nrows).reshape(-1, 1), \n",
    "              x.reshape(-1, 1)]).reshape(2, -1).T\n",
    "\n",
    "print(\"Augmented Matrix A is\\n\", A)"
   ]
  },
  {
   "cell_type": "code",
   "execution_count": null,
   "metadata": {},
   "outputs": [],
   "source": [
    "# Library-supplied Moore-Penrose Pseudo-inverse\n",
    "np.round(LA.pinv(A), 2)"
   ]
  },
  {
   "cell_type": "code",
   "execution_count": null,
   "metadata": {},
   "outputs": [],
   "source": [
    "# Computed Moore-Penrose Pseudo-inverse\n",
    "MPI = np.dot(LA.inv(np.dot(A.T, A)), A.T)\n",
    "np.round(MPI, 2)"
   ]
  },
  {
   "cell_type": "code",
   "execution_count": null,
   "metadata": {},
   "outputs": [],
   "source": [
    "print(\"Using LinearRegression(): intercept = \", intercept, \n",
    "     \"slope = \", slope)\n",
    "\n",
    "slp, intcpt = np.dot(MPI, y.reshape(-1, 1))\n",
    "print(\"\\nMoore Penrose Pseudo-Inverse: intercept = \", intercept, \n",
    "     \"slope = \", slope)"
   ]
  },
  {
   "cell_type": "code",
   "execution_count": null,
   "metadata": {},
   "outputs": [],
   "source": []
  }
 ],
 "metadata": {
  "kernelspec": {
   "display_name": "Python 3",
   "language": "python",
   "name": "python3"
  },
  "language_info": {
   "codemirror_mode": {
    "name": "ipython",
    "version": 3
   },
   "file_extension": ".py",
   "mimetype": "text/x-python",
   "name": "python",
   "nbconvert_exporter": "python",
   "pygments_lexer": "ipython3",
   "version": "3.8.3"
  }
 },
 "nbformat": 4,
 "nbformat_minor": 2
}
