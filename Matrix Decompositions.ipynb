{
 "cells": [
  {
   "cell_type": "markdown",
   "metadata": {},
   "source": [
    "We take up <b>Matrix Diagonalisation</b> and <b>Singular Vector Decomposition</b>."
   ]
  },
  {
   "cell_type": "code",
   "execution_count": null,
   "metadata": {},
   "outputs": [],
   "source": [
    "# Print all outputs in a block - not just the last one\n",
    "from IPython.core.interactiveshell import InteractiveShell\n",
    "InteractiveShell.ast_node_interactivity = \"all\""
   ]
  },
  {
   "cell_type": "code",
   "execution_count": null,
   "metadata": {},
   "outputs": [],
   "source": [
    "# Standard imports\n",
    "import numpy as np\n",
    "import pandas as pd\n",
    "import matplotlib.pyplot as plt\n",
    "\n",
    "# The LinAlg library is powerful\n",
    "from numpy import linalg as LA"
   ]
  },
  {
   "cell_type": "code",
   "execution_count": null,
   "metadata": {},
   "outputs": [],
   "source": [
    "# Here's a pet peeve: scientific notation. Off with it!\n",
    "np.set_printoptions(suppress=True) #prevent numpy exponential \n",
    "                                   #notation on print, default False"
   ]
  },
  {
   "cell_type": "code",
   "execution_count": null,
   "metadata": {},
   "outputs": [],
   "source": [
    "# We take a new matrix C, which is square \n",
    "A = np.array([[1, 2], [3, 3]])\n",
    "print(\"Matrix A is:\\n\", A)"
   ]
  },
  {
   "cell_type": "code",
   "execution_count": null,
   "metadata": {},
   "outputs": [],
   "source": [
    "# Eigenvalue decomposition\n",
    "evals, evecs = LA.eig(A)\n",
    "\n",
    "print(\"Eigenvalues of A are:\", \n",
    "      np.around(evals, 2))\n",
    "\n",
    "print(\"\\nEigenvectors of A are:\\n\", \n",
    "      np.round(evecs.T, 2))\n",
    "\n",
    "print(\"\\nNorms of eigenvectors:\", \n",
    "      round(LA.norm(evecs[:, 0]), 2), \n",
    "      round(LA.norm(evecs[:, 1]), 2))"
   ]
  },
  {
   "cell_type": "code",
   "execution_count": null,
   "metadata": {},
   "outputs": [],
   "source": [
    "# Diagonalisation via eigenvector matrix: inv(S) A S\n",
    "np.round(np.dot(LA.inv(evecs), np.dot(A, evecs)), 2)"
   ]
  },
  {
   "cell_type": "code",
   "execution_count": null,
   "metadata": {},
   "outputs": [],
   "source": [
    "# Inverse of the eigenvector matrix\n",
    "np.round(LA.inv(evecs), 2)"
   ]
  },
  {
   "cell_type": "code",
   "execution_count": null,
   "metadata": {},
   "outputs": [],
   "source": [
    "evecs"
   ]
  },
  {
   "cell_type": "code",
   "execution_count": null,
   "metadata": {},
   "outputs": [],
   "source": [
    "# Slopes of eigenvectors\n",
    "slope_1 = evecs[1, 0]/evecs[0, 0]\n",
    "slope_2 = evecs[1, 1]/evecs[0, 1]\n",
    "\n",
    "print(\"The slopes of eigenvectors are\",\n",
    "      np.round(slope_1, 2), \"and\", \n",
    "      np.round(slope_2, 2))"
   ]
  },
  {
   "cell_type": "code",
   "execution_count": null,
   "metadata": {},
   "outputs": [],
   "source": [
    "# Turns out that the trace (= sum of diagonal elements)\n",
    "# equals the sum of eigenvalues\n",
    "A.trace()\n",
    "np.sum(evals)"
   ]
  },
  {
   "cell_type": "code",
   "execution_count": null,
   "metadata": {},
   "outputs": [],
   "source": [
    "# Now let's map the unit circle versus \n",
    "# its transformation by the matrix C \n",
    "\n",
    "# We shall take a parametrised approach for the \n",
    "# coordinates of the points on the circle\n",
    "theta = np.linspace(0, 2 * np.pi, 500)\n",
    "\n",
    "coords = pd.DataFrame(np.array([np.cos(theta), np.sin(theta)]).T,\n",
    "                     columns=[\"x\", \"y\"])\n",
    "coords.head()"
   ]
  },
  {
   "cell_type": "code",
   "execution_count": null,
   "metadata": {},
   "outputs": [],
   "source": [
    "# Any matrix transforms vectors: v maps to Cv\n",
    "# In particular, we have v as a point on the \n",
    "# unit circle constructed earlier\n",
    "Av = (np.dot(A, coords.T)).T\n",
    "\n",
    "images = pd.DataFrame(Av, columns=[\"x\", \"y\"])\n",
    "images.head()"
   ]
  },
  {
   "cell_type": "code",
   "execution_count": null,
   "metadata": {},
   "outputs": [],
   "source": [
    "# Create a figure and one subplot\n",
    "fig, ax = plt.subplots(figsize=(8, 8))\n",
    "\n",
    "# Spines are the 4 edges of a plot\n",
    "# labelled left, bottom, right, top\n",
    "\n",
    "# Set the axes through the origin\n",
    "for spine in ['left', 'bottom']:\n",
    "    ax.spines[spine].set_position('zero')\n",
    "    \n",
    "for spine in ['right', 'top']:\n",
    "    ax.spines[spine].set_visible(False)\n",
    "\n",
    "ax.set(xlim=(-5, 5), ylim=(-5, 5))\n",
    "ax.grid()\n",
    "\n",
    "plt.plot(coords.x, coords.y,\n",
    "         color=\"green\")\n",
    "plt.plot(images.x, images.y,\n",
    "         color=\"blue\")\n",
    "\n",
    "# Add lines for eigenvectors\n",
    "x = np.linspace(-5, 5, 500)\n",
    "y = slope_1 * x\n",
    "plt.plot(x, y, color=\"red\")\n",
    "\n",
    "y = slope_2 * x\n",
    "plt.plot(x, y, color=\"red\")"
   ]
  },
  {
   "cell_type": "code",
   "execution_count": null,
   "metadata": {},
   "outputs": [],
   "source": [
    "# Now try a symmetric variant of the matrix and see what happens\n",
    "# Use A = np.array([[1, 2], [3, 3]])"
   ]
  },
  {
   "cell_type": "code",
   "execution_count": null,
   "metadata": {},
   "outputs": [],
   "source": [
    "# Singular Value Decomposition\n",
    "B = np.array([[2, -3, -4], [4, 3, -2]])\n",
    "print(\"Matrix B is:\\n\", B)"
   ]
  },
  {
   "cell_type": "code",
   "execution_count": null,
   "metadata": {},
   "outputs": [],
   "source": [
    "# Here's a pet peeve: scientific notation. Off with it!\n",
    "np.set_printoptions(suppress=True) #prevent numpy exponential \n",
    "                                   #notation on print, default False"
   ]
  },
  {
   "cell_type": "code",
   "execution_count": null,
   "metadata": {},
   "outputs": [],
   "source": [
    "# Eigenvalue decomposition\n",
    "U, D, VT = LA.svd(B, full_matrices=True)\n",
    "\n",
    "print(\"\\nOriginal matrix B =\\n\", B)\n",
    "\n",
    "Dmat = np.zeros((2, 3))\n",
    "Dmat[:2, :2] = np.diag(D)\n",
    "                \n",
    "print(\"\\nMatrix U:\\n\", np.around(U, 2))\n",
    "print(\"\\nMatrix D:\\n\", np.around(Dmat, 2))\n",
    "print(\"\\nMatrix VT:\\n\", np.around(VT, 2))\n",
    "\n",
    "print(\"\\nMatrix UDVT =\\n\", np.dot(U, np.dot(Dmat, VT)))"
   ]
  },
  {
   "cell_type": "code",
   "execution_count": null,
   "metadata": {},
   "outputs": [],
   "source": []
  }
 ],
 "metadata": {
  "kernelspec": {
   "display_name": "Python 3",
   "language": "python",
   "name": "python3"
  },
  "language_info": {
   "codemirror_mode": {
    "name": "ipython",
    "version": 3
   },
   "file_extension": ".py",
   "mimetype": "text/x-python",
   "name": "python",
   "nbconvert_exporter": "python",
   "pygments_lexer": "ipython3",
   "version": "3.7.3"
  }
 },
 "nbformat": 4,
 "nbformat_minor": 2
}
