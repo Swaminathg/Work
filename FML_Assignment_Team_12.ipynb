{
 "cells": [
  {
   "cell_type": "markdown",
   "metadata": {},
   "source": [
    "# Team 12 FML assignment on Survey Data"
   ]
  },
  {
   "cell_type": "markdown",
   "metadata": {},
   "source": [
    "Group members:\n",
    "* Pusparghya Pakrasi (1916043)\n",
    "* Gurunath Gandikota (1916016)\n",
    "* Shekhar Kanodia (1916026)\n",
    "* Swaminath Gowrishankar (1916018)"
   ]
  },
  {
   "cell_type": "code",
   "execution_count": 1,
   "metadata": {},
   "outputs": [],
   "source": [
    "import pandas as pd\n",
    "from datetime import datetime\n",
    "from dateutil.parser import parse\n",
    "\n",
    "import matplotlib.pyplot as plt\n",
    "import numpy as np\n",
    "import seaborn as sns"
   ]
  },
  {
   "cell_type": "code",
   "execution_count": 2,
   "metadata": {},
   "outputs": [],
   "source": [
    "# Print all outputs in a block - not just the last one\n",
    "from IPython.core.interactiveshell import InteractiveShell\n",
    "InteractiveShell.ast_node_interactivity = \"all\""
   ]
  },
  {
   "cell_type": "code",
   "execution_count": 3,
   "metadata": {},
   "outputs": [],
   "source": [
    "#Question 1\n",
    "Responses = pd.read_csv(\"FMLResponses.csv\", sep=',',\n",
    "                     header = 0) "
   ]
  },
  {
   "cell_type": "code",
   "execution_count": 4,
   "metadata": {},
   "outputs": [
    {
     "data": {
      "text/html": [
       "<div>\n",
       "<style scoped>\n",
       "    .dataframe tbody tr th:only-of-type {\n",
       "        vertical-align: middle;\n",
       "    }\n",
       "\n",
       "    .dataframe tbody tr th {\n",
       "        vertical-align: top;\n",
       "    }\n",
       "\n",
       "    .dataframe thead th {\n",
       "        text-align: right;\n",
       "    }\n",
       "</style>\n",
       "<table border=\"1\" class=\"dataframe\">\n",
       "  <thead>\n",
       "    <tr style=\"text-align: right;\">\n",
       "      <th></th>\n",
       "      <th>Timestamp</th>\n",
       "      <th>Your educational background</th>\n",
       "      <th>Work experience in months - NOT years</th>\n",
       "      <th>How do you rate your ability to program?</th>\n",
       "      <th>What languages have you coded in?</th>\n",
       "      <th>How many lines of code have you written?</th>\n",
       "      <th>Why on earth a course in machine learning?</th>\n",
       "      <th>Why MBAs need to code?</th>\n",
       "      <th>What would your dream career be?</th>\n",
       "      <th>How are you killing time during this Covid season?</th>\n",
       "      <th>What did you say your mission was in life?</th>\n",
       "    </tr>\n",
       "  </thead>\n",
       "  <tbody>\n",
       "    <tr>\n",
       "      <th>0</th>\n",
       "      <td>02-07-2020 09:52</td>\n",
       "      <td>Science</td>\n",
       "      <td>0</td>\n",
       "      <td>3</td>\n",
       "      <td>C++, R, Python</td>\n",
       "      <td>Under 100 lines</td>\n",
       "      <td>I wouldn't be taking the course if I found DS ...</td>\n",
       "      <td>In case there's a need to troubleshoot or acti...</td>\n",
       "      <td>Manager</td>\n",
       "      <td>Reading books</td>\n",
       "      <td>I wanted to pursue behavioral economics and da...</td>\n",
       "    </tr>\n",
       "    <tr>\n",
       "      <th>1</th>\n",
       "      <td>02-07-2020 09:56</td>\n",
       "      <td>Engineering</td>\n",
       "      <td>47</td>\n",
       "      <td>4</td>\n",
       "      <td>C, C++, R</td>\n",
       "      <td>More than 1,000 lines</td>\n",
       "      <td>It provides a toolkit to solve business proble...</td>\n",
       "      <td>If a product is developed by writing code, the...</td>\n",
       "      <td>Sportsperson</td>\n",
       "      <td>Netflix/ Amazon Prime/ Hotstar</td>\n",
       "      <td>To become a well rounded financial services pr...</td>\n",
       "    </tr>\n",
       "  </tbody>\n",
       "</table>\n",
       "</div>"
      ],
      "text/plain": [
       "          Timestamp Your educational background  \\\n",
       "0  02-07-2020 09:52                     Science   \n",
       "1  02-07-2020 09:56                 Engineering   \n",
       "\n",
       "   Work experience in months - NOT years  \\\n",
       "0                                      0   \n",
       "1                                     47   \n",
       "\n",
       "   How do you rate your ability to program? What languages have you coded in?  \\\n",
       "0                                         3                    C++, R, Python   \n",
       "1                                         4                         C, C++, R   \n",
       "\n",
       "  How many lines of code have you written?  \\\n",
       "0                          Under 100 lines   \n",
       "1                    More than 1,000 lines   \n",
       "\n",
       "          Why on earth a course in machine learning?  \\\n",
       "0  I wouldn't be taking the course if I found DS ...   \n",
       "1  It provides a toolkit to solve business proble...   \n",
       "\n",
       "                              Why MBAs need to code?  \\\n",
       "0  In case there's a need to troubleshoot or acti...   \n",
       "1  If a product is developed by writing code, the...   \n",
       "\n",
       "  What would your dream career be?  \\\n",
       "0                          Manager   \n",
       "1                     Sportsperson   \n",
       "\n",
       "  How are you killing time during this Covid season?  \\\n",
       "0                                      Reading books   \n",
       "1                     Netflix/ Amazon Prime/ Hotstar   \n",
       "\n",
       "         What did you say your mission was in life?   \n",
       "0  I wanted to pursue behavioral economics and da...  \n",
       "1  To become a well rounded financial services pr...  "
      ]
     },
     "execution_count": 4,
     "metadata": {},
     "output_type": "execute_result"
    }
   ],
   "source": [
    "#Question 2\n",
    "Responses.head(2)"
   ]
  },
  {
   "cell_type": "code",
   "execution_count": 5,
   "metadata": {},
   "outputs": [
    {
     "data": {
      "text/plain": [
       "pandas.core.frame.DataFrame"
      ]
     },
     "execution_count": 5,
     "metadata": {},
     "output_type": "execute_result"
    }
   ],
   "source": [
    "#Question 2\n",
    "type(Responses)"
   ]
  },
  {
   "cell_type": "code",
   "execution_count": 6,
   "metadata": {},
   "outputs": [
    {
     "data": {
      "text/plain": [
       "Timestamp                                             66\n",
       "Your educational background                           66\n",
       "Work experience in months - NOT years                 66\n",
       "How do you rate your ability to program?              66\n",
       "What languages have you coded in?                     66\n",
       "How many lines of code have you written?              60\n",
       "Why on earth a course in machine learning?            66\n",
       "Why MBAs need to code?                                66\n",
       "What would your dream career be?                      66\n",
       "How are you killing time during this Covid season?    66\n",
       "What did you say your mission was in life?            66\n",
       "dtype: int64"
      ]
     },
     "execution_count": 6,
     "metadata": {},
     "output_type": "execute_result"
    }
   ],
   "source": [
    "#Question 2: One way of getting numbers of Rows\n",
    "Responses.count()"
   ]
  },
  {
   "cell_type": "markdown",
   "metadata": {},
   "source": [
    "The dataset has 66 rows/observations and 11 columns"
   ]
  },
  {
   "cell_type": "code",
   "execution_count": 7,
   "metadata": {},
   "outputs": [
    {
     "name": "stdout",
     "output_type": "stream",
     "text": [
      "Number of rows = 66 And number of columns = 11\n"
     ]
    }
   ],
   "source": [
    "#Question 2: Rows & Columns better way\n",
    "print(\"Number of rows =\", Responses.shape[0], \"And number of columns =\", Responses.shape[1])"
   ]
  },
  {
   "cell_type": "markdown",
   "metadata": {},
   "source": [
    "Apart from Work experience and Ability to code, all other variables are of Object type and need to be changed"
   ]
  },
  {
   "cell_type": "code",
   "execution_count": 8,
   "metadata": {},
   "outputs": [
    {
     "data": {
      "text/plain": [
       "Timestamp                                             object\n",
       "Your educational background                           object\n",
       "Work experience in months - NOT years                  int64\n",
       "How do you rate your ability to program?               int64\n",
       "What languages have you coded in?                     object\n",
       "How many lines of code have you written?              object\n",
       "Why on earth a course in machine learning?            object\n",
       "Why MBAs need to code?                                object\n",
       "What would your dream career be?                      object\n",
       "How are you killing time during this Covid season?    object\n",
       "What did you say your mission was in life?            object\n",
       "dtype: object"
      ]
     },
     "execution_count": 8,
     "metadata": {},
     "output_type": "execute_result"
    }
   ],
   "source": [
    "#Question 2: Data types of columns\n",
    "Responses.dtypes"
   ]
  },
  {
   "cell_type": "code",
   "execution_count": 9,
   "metadata": {},
   "outputs": [
    {
     "data": {
      "text/html": [
       "<div>\n",
       "<style scoped>\n",
       "    .dataframe tbody tr th:only-of-type {\n",
       "        vertical-align: middle;\n",
       "    }\n",
       "\n",
       "    .dataframe tbody tr th {\n",
       "        vertical-align: top;\n",
       "    }\n",
       "\n",
       "    .dataframe thead th {\n",
       "        text-align: right;\n",
       "    }\n",
       "</style>\n",
       "<table border=\"1\" class=\"dataframe\">\n",
       "  <thead>\n",
       "    <tr style=\"text-align: right;\">\n",
       "      <th></th>\n",
       "      <th>response_date</th>\n",
       "      <th>education</th>\n",
       "      <th>work_ex</th>\n",
       "      <th>code_ability</th>\n",
       "      <th>languages</th>\n",
       "      <th>lines_of_code</th>\n",
       "      <th>why_ml</th>\n",
       "      <th>mba_code_reasons</th>\n",
       "      <th>dream_career</th>\n",
       "      <th>time_pass</th>\n",
       "      <th>life_mission</th>\n",
       "    </tr>\n",
       "  </thead>\n",
       "  <tbody>\n",
       "    <tr>\n",
       "      <th>0</th>\n",
       "      <td>02-07-2020 09:52</td>\n",
       "      <td>Science</td>\n",
       "      <td>0</td>\n",
       "      <td>3</td>\n",
       "      <td>C++, R, Python</td>\n",
       "      <td>Under 100 lines</td>\n",
       "      <td>I wouldn't be taking the course if I found DS ...</td>\n",
       "      <td>In case there's a need to troubleshoot or acti...</td>\n",
       "      <td>Manager</td>\n",
       "      <td>Reading books</td>\n",
       "      <td>I wanted to pursue behavioral economics and da...</td>\n",
       "    </tr>\n",
       "    <tr>\n",
       "      <th>1</th>\n",
       "      <td>02-07-2020 09:56</td>\n",
       "      <td>Engineering</td>\n",
       "      <td>47</td>\n",
       "      <td>4</td>\n",
       "      <td>C, C++, R</td>\n",
       "      <td>More than 1,000 lines</td>\n",
       "      <td>It provides a toolkit to solve business proble...</td>\n",
       "      <td>If a product is developed by writing code, the...</td>\n",
       "      <td>Sportsperson</td>\n",
       "      <td>Netflix/ Amazon Prime/ Hotstar</td>\n",
       "      <td>To become a well rounded financial services pr...</td>\n",
       "    </tr>\n",
       "  </tbody>\n",
       "</table>\n",
       "</div>"
      ],
      "text/plain": [
       "      response_date    education  work_ex  code_ability       languages  \\\n",
       "0  02-07-2020 09:52      Science        0             3  C++, R, Python   \n",
       "1  02-07-2020 09:56  Engineering       47             4       C, C++, R   \n",
       "\n",
       "           lines_of_code                                             why_ml  \\\n",
       "0        Under 100 lines  I wouldn't be taking the course if I found DS ...   \n",
       "1  More than 1,000 lines  It provides a toolkit to solve business proble...   \n",
       "\n",
       "                                    mba_code_reasons  dream_career  \\\n",
       "0  In case there's a need to troubleshoot or acti...       Manager   \n",
       "1  If a product is developed by writing code, the...  Sportsperson   \n",
       "\n",
       "                        time_pass  \\\n",
       "0                   Reading books   \n",
       "1  Netflix/ Amazon Prime/ Hotstar   \n",
       "\n",
       "                                        life_mission  \n",
       "0  I wanted to pursue behavioral economics and da...  \n",
       "1  To become a well rounded financial services pr...  "
      ]
     },
     "execution_count": 9,
     "metadata": {},
     "output_type": "execute_result"
    }
   ],
   "source": [
    "#Question 3: Columns renaming\n",
    "New_Responses = Responses.rename(columns = {'Timestamp':'response_date', \n",
    "                            'Your educational background':'education',\n",
    "                            'Work experience in months - NOT years':'work_ex',\n",
    "                            'How do you rate your ability to program?':'code_ability',\n",
    "                            'What languages have you coded in?':'languages',\n",
    "                            'How many lines of code have you written?':'lines_of_code',\n",
    "                            'Why on earth a course in machine learning?':'why_ml',\n",
    "                            'Why MBAs need to code?':'mba_code_reasons',\n",
    "                            'What would your dream career be?':'dream_career',\n",
    "                            'How are you killing time during this Covid season?':'time_pass',\n",
    "                            'What did you say your mission was in life? ':'life_mission'}\n",
    "                )\n",
    "New_Responses.head(2)"
   ]
  },
  {
   "cell_type": "code",
   "execution_count": 10,
   "metadata": {},
   "outputs": [
    {
     "name": "stdout",
     "output_type": "stream",
     "text": [
      "Before renaming columns: Responses dataset:-\n"
     ]
    },
    {
     "data": {
      "text/plain": [
       "['Timestamp',\n",
       " 'Your educational background',\n",
       " 'Work experience in months - NOT years',\n",
       " 'How do you rate your ability to program?',\n",
       " 'What languages have you coded in?',\n",
       " 'How many lines of code have you written?',\n",
       " 'Why on earth a course in machine learning?',\n",
       " 'Why MBAs need to code?',\n",
       " 'What would your dream career be?',\n",
       " 'How are you killing time during this Covid season?',\n",
       " 'What did you say your mission was in life? ']"
      ]
     },
     "execution_count": 10,
     "metadata": {},
     "output_type": "execute_result"
    },
    {
     "name": "stdout",
     "output_type": "stream",
     "text": [
      "After renaming columns:New_Responses dataset:-\n"
     ]
    },
    {
     "data": {
      "text/plain": [
       "['response_date',\n",
       " 'education',\n",
       " 'work_ex',\n",
       " 'code_ability',\n",
       " 'languages',\n",
       " 'lines_of_code',\n",
       " 'why_ml',\n",
       " 'mba_code_reasons',\n",
       " 'dream_career',\n",
       " 'time_pass',\n",
       " 'life_mission']"
      ]
     },
     "execution_count": 10,
     "metadata": {},
     "output_type": "execute_result"
    },
    {
     "data": {
      "text/plain": [
       "response_date       object\n",
       "education           object\n",
       "work_ex              int64\n",
       "code_ability         int64\n",
       "languages           object\n",
       "lines_of_code       object\n",
       "why_ml              object\n",
       "mba_code_reasons    object\n",
       "dream_career        object\n",
       "time_pass           object\n",
       "life_mission        object\n",
       "dtype: object"
      ]
     },
     "execution_count": 10,
     "metadata": {},
     "output_type": "execute_result"
    }
   ],
   "source": [
    "#Question 3 continuation\n",
    "print(\"Before renaming columns: Responses dataset:-\")\n",
    "list(Responses)\n",
    "\n",
    "print(\"After renaming columns:New_Responses dataset:-\")\n",
    "list(New_Responses)\n",
    "\n",
    "New_Responses.dtypes"
   ]
  },
  {
   "cell_type": "code",
   "execution_count": 11,
   "metadata": {},
   "outputs": [],
   "source": [
    "#Question 4: convert response_date to Datetime variable\n",
    "New_Responses['response_date'] = pd.to_datetime(New_Responses['response_date'])"
   ]
  },
  {
   "cell_type": "code",
   "execution_count": 12,
   "metadata": {},
   "outputs": [],
   "source": [
    "#Question 5(a): Converting some columns into categorical\n",
    "cat_cols = [\"education\", \"languages\", \"lines_of_code\", \"dream_career\", \"time_pass\"]\n",
    "New_Responses[cat_cols] = New_Responses[cat_cols].astype(\"category\")"
   ]
  },
  {
   "cell_type": "code",
   "execution_count": 13,
   "metadata": {},
   "outputs": [
    {
     "data": {
      "text/plain": [
       "response_date       datetime64[ns]\n",
       "education                 category\n",
       "work_ex                      int64\n",
       "code_ability                 int64\n",
       "languages                 category\n",
       "lines_of_code             category\n",
       "why_ml                      object\n",
       "mba_code_reasons            object\n",
       "dream_career              category\n",
       "time_pass                 category\n",
       "life_mission                object\n",
       "dtype: object"
      ]
     },
     "execution_count": 13,
     "metadata": {},
     "output_type": "execute_result"
    }
   ],
   "source": [
    "#Question 5(b): Converting free flow value columns into string\n",
    "str_cols = [\"why_ml\", \"mba_code_reasons\", \"life_mission\"]\n",
    "#string_cols\n",
    "\n",
    "New_Responses[str_cols] = New_Responses[str_cols].astype(str)\n",
    "\n",
    "New_Responses.dtypes"
   ]
  },
  {
   "cell_type": "markdown",
   "metadata": {},
   "source": [
    "All the variables' data types have been taken care of"
   ]
  },
  {
   "cell_type": "code",
   "execution_count": 14,
   "metadata": {},
   "outputs": [
    {
     "data": {
      "text/html": [
       "<div>\n",
       "<style scoped>\n",
       "    .dataframe tbody tr th:only-of-type {\n",
       "        vertical-align: middle;\n",
       "    }\n",
       "\n",
       "    .dataframe tbody tr th {\n",
       "        vertical-align: top;\n",
       "    }\n",
       "\n",
       "    .dataframe thead th {\n",
       "        text-align: right;\n",
       "    }\n",
       "</style>\n",
       "<table border=\"1\" class=\"dataframe\">\n",
       "  <thead>\n",
       "    <tr style=\"text-align: right;\">\n",
       "      <th></th>\n",
       "      <th>response_date</th>\n",
       "      <th>education</th>\n",
       "      <th>work_ex</th>\n",
       "      <th>code_ability</th>\n",
       "      <th>languages</th>\n",
       "      <th>lines_of_code</th>\n",
       "      <th>why_ml</th>\n",
       "      <th>mba_code_reasons</th>\n",
       "      <th>dream_career</th>\n",
       "      <th>time_pass</th>\n",
       "      <th>life_mission</th>\n",
       "    </tr>\n",
       "  </thead>\n",
       "  <tbody>\n",
       "    <tr>\n",
       "      <th>0</th>\n",
       "      <td>2020-02-07 09:52:00</td>\n",
       "      <td>Science</td>\n",
       "      <td>0</td>\n",
       "      <td>3</td>\n",
       "      <td>C++, R, Python</td>\n",
       "      <td>Under 100 lines</td>\n",
       "      <td>I wouldn't be taking the course if I found DS ...</td>\n",
       "      <td>In case there's a need to troubleshoot or acti...</td>\n",
       "      <td>Manager</td>\n",
       "      <td>Reading books</td>\n",
       "      <td>I wanted to pursue behavioral economics and da...</td>\n",
       "    </tr>\n",
       "    <tr>\n",
       "      <th>1</th>\n",
       "      <td>2020-02-07 09:56:00</td>\n",
       "      <td>Engineering</td>\n",
       "      <td>47</td>\n",
       "      <td>4</td>\n",
       "      <td>C, C++, R</td>\n",
       "      <td>More than 1,000 lines</td>\n",
       "      <td>It provides a toolkit to solve business proble...</td>\n",
       "      <td>If a product is developed by writing code, the...</td>\n",
       "      <td>Sportsperson</td>\n",
       "      <td>Netflix/ Amazon Prime/ Hotstar</td>\n",
       "      <td>To become a well rounded financial services pr...</td>\n",
       "    </tr>\n",
       "    <tr>\n",
       "      <th>2</th>\n",
       "      <td>2020-02-07 10:00:00</td>\n",
       "      <td>Engineering</td>\n",
       "      <td>55</td>\n",
       "      <td>4</td>\n",
       "      <td>C, C++, Java, Javascript</td>\n",
       "      <td>More than 1,000 lines</td>\n",
       "      <td>It is very evident that courses like machine l...</td>\n",
       "      <td>Technology is becoming an indispensable capabi...</td>\n",
       "      <td>Sportsperson</td>\n",
       "      <td>Reading books</td>\n",
       "      <td>Sort of, I said that I wanted to make a career...</td>\n",
       "    </tr>\n",
       "  </tbody>\n",
       "</table>\n",
       "</div>"
      ],
      "text/plain": [
       "        response_date    education  work_ex  code_ability  \\\n",
       "0 2020-02-07 09:52:00      Science        0             3   \n",
       "1 2020-02-07 09:56:00  Engineering       47             4   \n",
       "2 2020-02-07 10:00:00  Engineering       55             4   \n",
       "\n",
       "                  languages          lines_of_code  \\\n",
       "0            C++, R, Python        Under 100 lines   \n",
       "1                 C, C++, R  More than 1,000 lines   \n",
       "2  C, C++, Java, Javascript  More than 1,000 lines   \n",
       "\n",
       "                                              why_ml  \\\n",
       "0  I wouldn't be taking the course if I found DS ...   \n",
       "1  It provides a toolkit to solve business proble...   \n",
       "2  It is very evident that courses like machine l...   \n",
       "\n",
       "                                    mba_code_reasons  dream_career  \\\n",
       "0  In case there's a need to troubleshoot or acti...       Manager   \n",
       "1  If a product is developed by writing code, the...  Sportsperson   \n",
       "2  Technology is becoming an indispensable capabi...  Sportsperson   \n",
       "\n",
       "                        time_pass  \\\n",
       "0                   Reading books   \n",
       "1  Netflix/ Amazon Prime/ Hotstar   \n",
       "2                   Reading books   \n",
       "\n",
       "                                        life_mission  \n",
       "0  I wanted to pursue behavioral economics and da...  \n",
       "1  To become a well rounded financial services pr...  \n",
       "2  Sort of, I said that I wanted to make a career...  "
      ]
     },
     "execution_count": 14,
     "metadata": {},
     "output_type": "execute_result"
    }
   ],
   "source": [
    "New_Responses.head(3)"
   ]
  },
  {
   "cell_type": "code",
   "execution_count": 15,
   "metadata": {},
   "outputs": [
    {
     "data": {
      "text/html": [
       "<div>\n",
       "<style scoped>\n",
       "    .dataframe tbody tr th:only-of-type {\n",
       "        vertical-align: middle;\n",
       "    }\n",
       "\n",
       "    .dataframe tbody tr th {\n",
       "        vertical-align: top;\n",
       "    }\n",
       "\n",
       "    .dataframe thead th {\n",
       "        text-align: right;\n",
       "    }\n",
       "</style>\n",
       "<table border=\"1\" class=\"dataframe\">\n",
       "  <thead>\n",
       "    <tr style=\"text-align: right;\">\n",
       "      <th></th>\n",
       "      <th>response_date</th>\n",
       "      <th>education</th>\n",
       "      <th>work_ex</th>\n",
       "      <th>code_ability</th>\n",
       "      <th>languages</th>\n",
       "      <th>lines_of_code</th>\n",
       "      <th>why_ml</th>\n",
       "      <th>mba_code_reasons</th>\n",
       "      <th>dream_career</th>\n",
       "      <th>time_pass</th>\n",
       "      <th>life_mission</th>\n",
       "      <th>day</th>\n",
       "      <th>month</th>\n",
       "      <th>truncated_hour</th>\n",
       "    </tr>\n",
       "  </thead>\n",
       "  <tbody>\n",
       "    <tr>\n",
       "      <th>63</th>\n",
       "      <td>2020-03-07 22:52:00</td>\n",
       "      <td>Engineering</td>\n",
       "      <td>0</td>\n",
       "      <td>3</td>\n",
       "      <td>C, C++</td>\n",
       "      <td>More than 1,000 lines</td>\n",
       "      <td>My internship in a consulting firm demanded kn...</td>\n",
       "      <td>MBAs require to continuously challenge the sta...</td>\n",
       "      <td>Musician</td>\n",
       "      <td>Watching sports</td>\n",
       "      <td>People lie in their MBA interview, and MBA giv...</td>\n",
       "      <td>3</td>\n",
       "      <td>7</td>\n",
       "      <td>22</td>\n",
       "    </tr>\n",
       "    <tr>\n",
       "      <th>64</th>\n",
       "      <td>2020-03-07 23:14:00</td>\n",
       "      <td>Engineering</td>\n",
       "      <td>22</td>\n",
       "      <td>1</td>\n",
       "      <td>None whatsoever, swear to God!</td>\n",
       "      <td>NaN</td>\n",
       "      <td>I think it's a useful tool to have in future's...</td>\n",
       "      <td>I have seen my previous company utilise coding...</td>\n",
       "      <td>Designer / Fresco painter</td>\n",
       "      <td>I paint daily and I am spending quality family...</td>\n",
       "      <td>Yes, I am sticking to the same mission!</td>\n",
       "      <td>3</td>\n",
       "      <td>7</td>\n",
       "      <td>23</td>\n",
       "    </tr>\n",
       "    <tr>\n",
       "      <th>65</th>\n",
       "      <td>2020-03-07 23:28:00</td>\n",
       "      <td>Engineering</td>\n",
       "      <td>0</td>\n",
       "      <td>3</td>\n",
       "      <td>C, Python</td>\n",
       "      <td>Between 100 and 1,000 lines</td>\n",
       "      <td>High relevance in the industry as AI is the fu...</td>\n",
       "      <td>New age managers are required to understand ho...</td>\n",
       "      <td>Sportsperson</td>\n",
       "      <td>Netflix/ Amazon Prime/ Hotstar</td>\n",
       "      <td>In my MBA interview, I was still exploring dif...</td>\n",
       "      <td>3</td>\n",
       "      <td>7</td>\n",
       "      <td>23</td>\n",
       "    </tr>\n",
       "  </tbody>\n",
       "</table>\n",
       "</div>"
      ],
      "text/plain": [
       "         response_date    education  work_ex  code_ability  \\\n",
       "63 2020-03-07 22:52:00  Engineering        0             3   \n",
       "64 2020-03-07 23:14:00  Engineering       22             1   \n",
       "65 2020-03-07 23:28:00  Engineering        0             3   \n",
       "\n",
       "                         languages                lines_of_code  \\\n",
       "63                          C, C++        More than 1,000 lines   \n",
       "64  None whatsoever, swear to God!                          NaN   \n",
       "65                       C, Python  Between 100 and 1,000 lines   \n",
       "\n",
       "                                               why_ml  \\\n",
       "63  My internship in a consulting firm demanded kn...   \n",
       "64  I think it's a useful tool to have in future's...   \n",
       "65  High relevance in the industry as AI is the fu...   \n",
       "\n",
       "                                     mba_code_reasons  \\\n",
       "63  MBAs require to continuously challenge the sta...   \n",
       "64  I have seen my previous company utilise coding...   \n",
       "65  New age managers are required to understand ho...   \n",
       "\n",
       "                 dream_career  \\\n",
       "63                   Musician   \n",
       "64  Designer / Fresco painter   \n",
       "65               Sportsperson   \n",
       "\n",
       "                                            time_pass  \\\n",
       "63                                    Watching sports   \n",
       "64  I paint daily and I am spending quality family...   \n",
       "65                     Netflix/ Amazon Prime/ Hotstar   \n",
       "\n",
       "                                         life_mission  day  month  \\\n",
       "63  People lie in their MBA interview, and MBA giv...    3      7   \n",
       "64           Yes, I am sticking to the same mission!     3      7   \n",
       "65  In my MBA interview, I was still exploring dif...    3      7   \n",
       "\n",
       "    truncated_hour  \n",
       "63              22  \n",
       "64              23  \n",
       "65              23  "
      ]
     },
     "execution_count": 15,
     "metadata": {},
     "output_type": "execute_result"
    }
   ],
   "source": [
    "#Question 11(a): Creating Truncated hour variable\n",
    "#for some reason, month function is returning day and vice-versa\n",
    "New_Responses[\"day\"] = New_Responses['response_date'].dt.month\n",
    "New_Responses[\"month\"] = New_Responses['response_date'].dt.day\n",
    "New_Responses[\"truncated_hour\"] = New_Responses['response_date'].dt.hour\n",
    "\n",
    "#del New_Responses[\"hour\"]\n",
    "New_Responses.tail(3)"
   ]
  },
  {
   "cell_type": "code",
   "execution_count": 16,
   "metadata": {},
   "outputs": [
    {
     "name": "stdout",
     "output_type": "stream",
     "text": [
      "Frquency table of truncated Hours:\n"
     ]
    },
    {
     "data": {
      "text/plain": [
       "12    13\n",
       "11     9\n",
       "10     9\n",
       "22     5\n",
       "21     5\n",
       "17     4\n",
       "14     4\n",
       "13     4\n",
       "20     3\n",
       "9      3\n",
       "23     2\n",
       "19     1\n",
       "18     1\n",
       "16     1\n",
       "15     1\n",
       "0      1\n",
       "Name: truncated_hour, dtype: int64"
      ]
     },
     "execution_count": 16,
     "metadata": {},
     "output_type": "execute_result"
    },
    {
     "name": "stdout",
     "output_type": "stream",
     "text": [
      "Frquency table of Day:\n"
     ]
    },
    {
     "data": {
      "text/plain": [
       "3    38\n",
       "2    28\n",
       "Name: day, dtype: int64"
      ]
     },
     "execution_count": 16,
     "metadata": {},
     "output_type": "execute_result"
    },
    {
     "name": "stdout",
     "output_type": "stream",
     "text": [
      "More responses came on 3rd July than 2nd July. We will see this again while solving Question 7 below\n"
     ]
    }
   ],
   "source": [
    "#Question 11(b): Frequency count of Truncated hour and day variables\n",
    "print(\"Frquency table of truncated Hours:\")\n",
    "New_Responses[\"truncated_hour\"].value_counts()\n",
    "\n",
    "print(\"Frquency table of Day:\")\n",
    "New_Responses[\"day\"].value_counts()\n",
    "\n",
    "print(\"More responses came on 3rd July than 2nd July. We will see this again while solving Question 7 below\")"
   ]
  },
  {
   "cell_type": "code",
   "execution_count": 17,
   "metadata": {},
   "outputs": [
    {
     "data": {
      "text/html": [
       "<div>\n",
       "<style scoped>\n",
       "    .dataframe tbody tr th:only-of-type {\n",
       "        vertical-align: middle;\n",
       "    }\n",
       "\n",
       "    .dataframe tbody tr th {\n",
       "        vertical-align: top;\n",
       "    }\n",
       "\n",
       "    .dataframe thead th {\n",
       "        text-align: right;\n",
       "    }\n",
       "</style>\n",
       "<table border=\"1\" class=\"dataframe\">\n",
       "  <thead>\n",
       "    <tr style=\"text-align: right;\">\n",
       "      <th></th>\n",
       "      <th>response_date</th>\n",
       "      <th>education</th>\n",
       "      <th>work_ex</th>\n",
       "      <th>code_ability</th>\n",
       "      <th>languages</th>\n",
       "      <th>lines_of_code</th>\n",
       "      <th>why_ml</th>\n",
       "      <th>mba_code_reasons</th>\n",
       "      <th>dream_career</th>\n",
       "      <th>time_pass</th>\n",
       "      <th>life_mission</th>\n",
       "      <th>day</th>\n",
       "      <th>month</th>\n",
       "      <th>truncated_hour</th>\n",
       "      <th>Inter_Arrival_Time</th>\n",
       "      <th>Inter_Arrival_Time_Hrs</th>\n",
       "      <th>Inter_Arrival_Time_Mins</th>\n",
       "      <th>Inter_Arrival_Time_secs</th>\n",
       "      <th>Inter_Arrival_Time_secs_sum</th>\n",
       "      <th>Inter_Arrival_Time_Mins_Final</th>\n",
       "    </tr>\n",
       "  </thead>\n",
       "  <tbody>\n",
       "    <tr>\n",
       "      <th>27</th>\n",
       "      <td>2020-02-07 22:34:00</td>\n",
       "      <td>Engineering</td>\n",
       "      <td>108</td>\n",
       "      <td>4</td>\n",
       "      <td>C, Java, Python</td>\n",
       "      <td>More than 1,000 lines</td>\n",
       "      <td>I am a software engineer by profession and fou...</td>\n",
       "      <td>I think now coding is very important for all t...</td>\n",
       "      <td>Professor :)</td>\n",
       "      <td>Office and PGPEM is keeping me occupied. Workl...</td>\n",
       "      <td>My mission was to rise the corporate ladder an...</td>\n",
       "      <td>2</td>\n",
       "      <td>7</td>\n",
       "      <td>22</td>\n",
       "      <td>0 days 00:43:00</td>\n",
       "      <td>0.0</td>\n",
       "      <td>2580.0</td>\n",
       "      <td>0.0</td>\n",
       "      <td>2580</td>\n",
       "      <td>43</td>\n",
       "    </tr>\n",
       "    <tr>\n",
       "      <th>28</th>\n",
       "      <td>2020-03-07 00:35:00</td>\n",
       "      <td>Engineering</td>\n",
       "      <td>22</td>\n",
       "      <td>3</td>\n",
       "      <td>C</td>\n",
       "      <td>Between 100 and 1,000 lines</td>\n",
       "      <td>I am interested in learning about how ML could...</td>\n",
       "      <td>To be able to understand application of ML, it...</td>\n",
       "      <td>Sportsperson</td>\n",
       "      <td>All of the above</td>\n",
       "      <td>My mission is learn more about business and de...</td>\n",
       "      <td>3</td>\n",
       "      <td>7</td>\n",
       "      <td>0</td>\n",
       "      <td>28 days 02:01:00</td>\n",
       "      <td>7200.0</td>\n",
       "      <td>60.0</td>\n",
       "      <td>0.0</td>\n",
       "      <td>7260</td>\n",
       "      <td>121</td>\n",
       "    </tr>\n",
       "  </tbody>\n",
       "</table>\n",
       "</div>"
      ],
      "text/plain": [
       "         response_date    education  work_ex  code_ability        languages  \\\n",
       "27 2020-02-07 22:34:00  Engineering      108             4  C, Java, Python   \n",
       "28 2020-03-07 00:35:00  Engineering       22             3                C   \n",
       "\n",
       "                  lines_of_code  \\\n",
       "27        More than 1,000 lines   \n",
       "28  Between 100 and 1,000 lines   \n",
       "\n",
       "                                               why_ml  \\\n",
       "27  I am a software engineer by profession and fou...   \n",
       "28  I am interested in learning about how ML could...   \n",
       "\n",
       "                                     mba_code_reasons  dream_career  \\\n",
       "27  I think now coding is very important for all t...  Professor :)   \n",
       "28  To be able to understand application of ML, it...  Sportsperson   \n",
       "\n",
       "                                            time_pass  \\\n",
       "27  Office and PGPEM is keeping me occupied. Workl...   \n",
       "28                                   All of the above   \n",
       "\n",
       "                                         life_mission  day  month  \\\n",
       "27  My mission was to rise the corporate ladder an...    2      7   \n",
       "28  My mission is learn more about business and de...    3      7   \n",
       "\n",
       "    truncated_hour Inter_Arrival_Time  Inter_Arrival_Time_Hrs  \\\n",
       "27              22    0 days 00:43:00                     0.0   \n",
       "28               0   28 days 02:01:00                  7200.0   \n",
       "\n",
       "    Inter_Arrival_Time_Mins  Inter_Arrival_Time_secs  \\\n",
       "27                   2580.0                      0.0   \n",
       "28                     60.0                      0.0   \n",
       "\n",
       "    Inter_Arrival_Time_secs_sum  Inter_Arrival_Time_Mins_Final  \n",
       "27                         2580                             43  \n",
       "28                         7260                            121  "
      ]
     },
     "execution_count": 17,
     "metadata": {},
     "output_type": "execute_result"
    },
    {
     "data": {
      "text/plain": [
       "response_date                     datetime64[ns]\n",
       "education                               category\n",
       "work_ex                                    int64\n",
       "code_ability                               int64\n",
       "languages                               category\n",
       "lines_of_code                           category\n",
       "why_ml                                    object\n",
       "mba_code_reasons                          object\n",
       "dream_career                            category\n",
       "time_pass                               category\n",
       "life_mission                              object\n",
       "day                                        int64\n",
       "month                                      int64\n",
       "truncated_hour                             int64\n",
       "Inter_Arrival_Time               timedelta64[ns]\n",
       "Inter_Arrival_Time_Hrs                   float64\n",
       "Inter_Arrival_Time_Mins                  float64\n",
       "Inter_Arrival_Time_secs                  float64\n",
       "Inter_Arrival_Time_secs_sum                int64\n",
       "Inter_Arrival_Time_Mins_Final              int64\n",
       "dtype: object"
      ]
     },
     "execution_count": 17,
     "metadata": {},
     "output_type": "execute_result"
    }
   ],
   "source": [
    "#Question 9: Create inter arrival time variable and converitng to Mins using timedelta function dt.components['minutes']\n",
    "New_Responses[\"Inter_Arrival_Time\"] = New_Responses[\"response_date\"].diff()\n",
    "\n",
    "#Approach 1: The below doesnt work since timedelta objects dont have minute function\n",
    "#New_Responses[\"Inter_Arrival_Time2\"] = New_Responses[\"Inter_Arrival_Time\"].dt.minute\n",
    "#del New_Responses[\"Inter_Arrival_Time2\"]\n",
    "\n",
    "#Approach 2: This total_seconds() function isn't working for timedelta object but internet says it works\n",
    "#New_Responses[\"Inter_Arrival_Time_Mins\"] = divmod(New_Responses[\"Inter_Arrival_Time\"].total_seconds, 60)\n",
    "\n",
    "#Approach 3: using dt.components function of timedelta object to convert to mins - Worked\n",
    "New_Responses[\"Inter_Arrival_Time_Hrs\"] = New_Responses[\"Inter_Arrival_Time\"].dt.components['hours']\n",
    "New_Responses[\"Inter_Arrival_Time_Hrs\"] = New_Responses[\"Inter_Arrival_Time_Hrs\"]*60*60\n",
    "New_Responses[\"Inter_Arrival_Time_Mins\"] = New_Responses[\"Inter_Arrival_Time\"].dt.components['minutes']\n",
    "New_Responses[\"Inter_Arrival_Time_Mins\"] = New_Responses[\"Inter_Arrival_Time_Mins\"]*60\n",
    "New_Responses[\"Inter_Arrival_Time_secs\"] = New_Responses[\"Inter_Arrival_Time\"].dt.components['seconds']\n",
    "\n",
    "New_Responses[\"Inter_Arrival_Time_secs_sum\"] = New_Responses[\"Inter_Arrival_Time_Hrs\"] + New_Responses[\"Inter_Arrival_Time_Mins\"] + New_Responses[\"Inter_Arrival_Time_secs\"]\n",
    "\n",
    "#replacing NAN values to 0 for Inter_Arrival_Time_Mins variable so that this variable can be converted to integer\n",
    "New_Responses[\"Inter_Arrival_Time_secs_sum\"] = New_Responses[\"Inter_Arrival_Time_secs_sum\"].fillna(0)\n",
    "\n",
    "#converting Inter_Arrival_Time_Mins from float to intereger variable\n",
    "New_Responses[\"Inter_Arrival_Time_secs_sum\"] = New_Responses[\"Inter_Arrival_Time_secs_sum\"].astype(\"int\")\n",
    "\n",
    "New_Responses[\"Inter_Arrival_Time_Mins_Final\"] = New_Responses[\"Inter_Arrival_Time_secs_sum\"]/60\n",
    "#replacing NAN values to 0 for Inter_Arrival_Time_Mins variable so that this variable can be converted to integer\n",
    "New_Responses[\"Inter_Arrival_Time_Mins_Final\"] = New_Responses[\"Inter_Arrival_Time_Mins_Final\"].fillna(0)\n",
    "#converting Inter_Arrival_Time_Mins from float to intereger variable\n",
    "New_Responses[\"Inter_Arrival_Time_Mins_Final\"] = New_Responses[\"Inter_Arrival_Time_Mins_Final\"].astype(\"int\")\n",
    "\n",
    "New_Responses[27:29]\n",
    "\n",
    "New_Responses.dtypes\n"
   ]
  },
  {
   "cell_type": "code",
   "execution_count": 18,
   "metadata": {},
   "outputs": [
    {
     "data": {
      "text/html": [
       "<div>\n",
       "<style scoped>\n",
       "    .dataframe tbody tr th:only-of-type {\n",
       "        vertical-align: middle;\n",
       "    }\n",
       "\n",
       "    .dataframe tbody tr th {\n",
       "        vertical-align: top;\n",
       "    }\n",
       "\n",
       "    .dataframe thead th {\n",
       "        text-align: right;\n",
       "    }\n",
       "</style>\n",
       "<table border=\"1\" class=\"dataframe\">\n",
       "  <thead>\n",
       "    <tr style=\"text-align: right;\">\n",
       "      <th></th>\n",
       "      <th>response_date</th>\n",
       "      <th>education</th>\n",
       "      <th>work_ex</th>\n",
       "      <th>code_ability</th>\n",
       "      <th>languages</th>\n",
       "      <th>lines_of_code</th>\n",
       "      <th>why_ml</th>\n",
       "      <th>mba_code_reasons</th>\n",
       "      <th>dream_career</th>\n",
       "      <th>time_pass</th>\n",
       "      <th>life_mission</th>\n",
       "      <th>day</th>\n",
       "      <th>month</th>\n",
       "      <th>truncated_hour</th>\n",
       "      <th>Inter_Arrival_Time</th>\n",
       "      <th>Inter_Arrival_Time_Hrs</th>\n",
       "      <th>Inter_Arrival_Time_Mins</th>\n",
       "      <th>Inter_Arrival_Time_secs</th>\n",
       "      <th>Inter_Arrival_Time_secs_sum</th>\n",
       "      <th>Inter_Arrival_Time_Mins_Final</th>\n",
       "    </tr>\n",
       "  </thead>\n",
       "  <tbody>\n",
       "    <tr>\n",
       "      <th>27</th>\n",
       "      <td>2020-02-07 22:34:00</td>\n",
       "      <td>Engineering</td>\n",
       "      <td>108</td>\n",
       "      <td>4</td>\n",
       "      <td>C, Java, Python</td>\n",
       "      <td>More than 1,000 lines</td>\n",
       "      <td>I am a software engineer by profession and fou...</td>\n",
       "      <td>I think now coding is very important for all t...</td>\n",
       "      <td>Professor :)</td>\n",
       "      <td>Office and PGPEM is keeping me occupied. Workl...</td>\n",
       "      <td>My mission was to rise the corporate ladder an...</td>\n",
       "      <td>2</td>\n",
       "      <td>7</td>\n",
       "      <td>22</td>\n",
       "      <td>0 days 00:43:00</td>\n",
       "      <td>0.0</td>\n",
       "      <td>2580.0</td>\n",
       "      <td>0.0</td>\n",
       "      <td>2580</td>\n",
       "      <td>43</td>\n",
       "    </tr>\n",
       "    <tr>\n",
       "      <th>28</th>\n",
       "      <td>2020-03-07 00:35:00</td>\n",
       "      <td>Engineering</td>\n",
       "      <td>22</td>\n",
       "      <td>3</td>\n",
       "      <td>C</td>\n",
       "      <td>Between 100 and 1,000 lines</td>\n",
       "      <td>I am interested in learning about how ML could...</td>\n",
       "      <td>To be able to understand application of ML, it...</td>\n",
       "      <td>Sportsperson</td>\n",
       "      <td>All of the above</td>\n",
       "      <td>My mission is learn more about business and de...</td>\n",
       "      <td>3</td>\n",
       "      <td>7</td>\n",
       "      <td>0</td>\n",
       "      <td>28 days 02:01:00</td>\n",
       "      <td>7200.0</td>\n",
       "      <td>60.0</td>\n",
       "      <td>0.0</td>\n",
       "      <td>7260</td>\n",
       "      <td>121</td>\n",
       "    </tr>\n",
       "    <tr>\n",
       "      <th>29</th>\n",
       "      <td>2020-03-07 09:20:00</td>\n",
       "      <td>Engineering</td>\n",
       "      <td>48</td>\n",
       "      <td>4</td>\n",
       "      <td>C, Java, Python, Javascript</td>\n",
       "      <td>More than 1,000 lines</td>\n",
       "      <td>To understand the business context of machine ...</td>\n",
       "      <td>I disagree that ML must = coding. ML is now a ...</td>\n",
       "      <td>Manager</td>\n",
       "      <td>Offbeat online courses</td>\n",
       "      <td>Yes.. moving towards it with hits and misses. ...</td>\n",
       "      <td>3</td>\n",
       "      <td>7</td>\n",
       "      <td>9</td>\n",
       "      <td>0 days 08:45:00</td>\n",
       "      <td>28800.0</td>\n",
       "      <td>2700.0</td>\n",
       "      <td>0.0</td>\n",
       "      <td>31500</td>\n",
       "      <td>525</td>\n",
       "    </tr>\n",
       "  </tbody>\n",
       "</table>\n",
       "</div>"
      ],
      "text/plain": [
       "         response_date    education  work_ex  code_ability  \\\n",
       "27 2020-02-07 22:34:00  Engineering      108             4   \n",
       "28 2020-03-07 00:35:00  Engineering       22             3   \n",
       "29 2020-03-07 09:20:00  Engineering       48             4   \n",
       "\n",
       "                      languages                lines_of_code  \\\n",
       "27              C, Java, Python        More than 1,000 lines   \n",
       "28                            C  Between 100 and 1,000 lines   \n",
       "29  C, Java, Python, Javascript        More than 1,000 lines   \n",
       "\n",
       "                                               why_ml  \\\n",
       "27  I am a software engineer by profession and fou...   \n",
       "28  I am interested in learning about how ML could...   \n",
       "29  To understand the business context of machine ...   \n",
       "\n",
       "                                     mba_code_reasons  dream_career  \\\n",
       "27  I think now coding is very important for all t...  Professor :)   \n",
       "28  To be able to understand application of ML, it...  Sportsperson   \n",
       "29  I disagree that ML must = coding. ML is now a ...       Manager   \n",
       "\n",
       "                                            time_pass  \\\n",
       "27  Office and PGPEM is keeping me occupied. Workl...   \n",
       "28                                   All of the above   \n",
       "29                             Offbeat online courses   \n",
       "\n",
       "                                         life_mission  day  month  \\\n",
       "27  My mission was to rise the corporate ladder an...    2      7   \n",
       "28  My mission is learn more about business and de...    3      7   \n",
       "29  Yes.. moving towards it with hits and misses. ...    3      7   \n",
       "\n",
       "    truncated_hour Inter_Arrival_Time  Inter_Arrival_Time_Hrs  \\\n",
       "27              22    0 days 00:43:00                     0.0   \n",
       "28               0   28 days 02:01:00                  7200.0   \n",
       "29               9    0 days 08:45:00                 28800.0   \n",
       "\n",
       "    Inter_Arrival_Time_Mins  Inter_Arrival_Time_secs  \\\n",
       "27                   2580.0                      0.0   \n",
       "28                     60.0                      0.0   \n",
       "29                   2700.0                      0.0   \n",
       "\n",
       "    Inter_Arrival_Time_secs_sum  Inter_Arrival_Time_Mins_Final  \n",
       "27                         2580                             43  \n",
       "28                         7260                            121  \n",
       "29                        31500                            525  "
      ]
     },
     "execution_count": 18,
     "metadata": {},
     "output_type": "execute_result"
    }
   ],
   "source": [
    "New_Responses[27:30]"
   ]
  },
  {
   "cell_type": "code",
   "execution_count": 19,
   "metadata": {},
   "outputs": [
    {
     "data": {
      "text/html": [
       "<div>\n",
       "<style scoped>\n",
       "    .dataframe tbody tr th:only-of-type {\n",
       "        vertical-align: middle;\n",
       "    }\n",
       "\n",
       "    .dataframe tbody tr th {\n",
       "        vertical-align: top;\n",
       "    }\n",
       "\n",
       "    .dataframe thead th {\n",
       "        text-align: right;\n",
       "    }\n",
       "</style>\n",
       "<table border=\"1\" class=\"dataframe\">\n",
       "  <thead>\n",
       "    <tr style=\"text-align: right;\">\n",
       "      <th></th>\n",
       "      <th>response_date</th>\n",
       "      <th>education</th>\n",
       "      <th>work_ex</th>\n",
       "      <th>code_ability</th>\n",
       "      <th>languages</th>\n",
       "      <th>lines_of_code</th>\n",
       "      <th>why_ml</th>\n",
       "      <th>mba_code_reasons</th>\n",
       "      <th>dream_career</th>\n",
       "      <th>time_pass</th>\n",
       "      <th>life_mission</th>\n",
       "      <th>day</th>\n",
       "      <th>month</th>\n",
       "      <th>truncated_hour</th>\n",
       "      <th>Inter_Arrival_Time_Mins_Final</th>\n",
       "    </tr>\n",
       "  </thead>\n",
       "  <tbody>\n",
       "    <tr>\n",
       "      <th>18</th>\n",
       "      <td>2020-02-07 14:25:00</td>\n",
       "      <td>Engineering</td>\n",
       "      <td>30</td>\n",
       "      <td>3</td>\n",
       "      <td>C, C++, Java, Javascript, Angular 5</td>\n",
       "      <td>Between 100 and 1,000 lines</td>\n",
       "      <td>Then I will understand what everyone else is t...</td>\n",
       "      <td>To understand how the engineers under them work.</td>\n",
       "      <td>Psychologist</td>\n",
       "      <td>Netflix/ Amazon Prime/ Hotstar</td>\n",
       "      <td>Pursue my interests in technology and marketin...</td>\n",
       "      <td>2</td>\n",
       "      <td>7</td>\n",
       "      <td>14</td>\n",
       "      <td>17</td>\n",
       "    </tr>\n",
       "    <tr>\n",
       "      <th>19</th>\n",
       "      <td>2020-02-07 17:01:00</td>\n",
       "      <td>Engineering</td>\n",
       "      <td>40</td>\n",
       "      <td>4</td>\n",
       "      <td>C, C++, R, Python</td>\n",
       "      <td>More than 1,000 lines</td>\n",
       "      <td>What to know what the buzz is about</td>\n",
       "      <td>I look coding from the logical perspective. As...</td>\n",
       "      <td>Teacher</td>\n",
       "      <td>Reading books</td>\n",
       "      <td>I think i do. Coming from a tech backgroud I w...</td>\n",
       "      <td>2</td>\n",
       "      <td>7</td>\n",
       "      <td>17</td>\n",
       "      <td>156</td>\n",
       "    </tr>\n",
       "    <tr>\n",
       "      <th>20</th>\n",
       "      <td>2020-02-07 17:45:00</td>\n",
       "      <td>Engineering</td>\n",
       "      <td>39</td>\n",
       "      <td>4</td>\n",
       "      <td>C++, Java</td>\n",
       "      <td>More than 1,000 lines</td>\n",
       "      <td>I was always fascinated by coding and creating...</td>\n",
       "      <td>Big Data and machine learning have brought abo...</td>\n",
       "      <td>Musician</td>\n",
       "      <td>Learning musical instrument (Keyboard)</td>\n",
       "      <td>I see myself as being a successful marketer an...</td>\n",
       "      <td>2</td>\n",
       "      <td>7</td>\n",
       "      <td>17</td>\n",
       "      <td>44</td>\n",
       "    </tr>\n",
       "    <tr>\n",
       "      <th>21</th>\n",
       "      <td>2020-02-07 18:19:00</td>\n",
       "      <td>Engineering</td>\n",
       "      <td>34</td>\n",
       "      <td>4</td>\n",
       "      <td>C, C++, Java</td>\n",
       "      <td>More than 1,000 lines</td>\n",
       "      <td>I want to pursue a career in product managemen...</td>\n",
       "      <td>I believe it is important for an MBA to unders...</td>\n",
       "      <td>Sportsperson</td>\n",
       "      <td>Netflix/ Amazon Prime/ Hotstar</td>\n",
       "      <td>I believe I am sticking to my plan. I was aske...</td>\n",
       "      <td>2</td>\n",
       "      <td>7</td>\n",
       "      <td>18</td>\n",
       "      <td>34</td>\n",
       "    </tr>\n",
       "  </tbody>\n",
       "</table>\n",
       "</div>"
      ],
      "text/plain": [
       "         response_date    education  work_ex  code_ability  \\\n",
       "18 2020-02-07 14:25:00  Engineering       30             3   \n",
       "19 2020-02-07 17:01:00  Engineering       40             4   \n",
       "20 2020-02-07 17:45:00  Engineering       39             4   \n",
       "21 2020-02-07 18:19:00  Engineering       34             4   \n",
       "\n",
       "                              languages                lines_of_code  \\\n",
       "18  C, C++, Java, Javascript, Angular 5  Between 100 and 1,000 lines   \n",
       "19                    C, C++, R, Python        More than 1,000 lines   \n",
       "20                            C++, Java        More than 1,000 lines   \n",
       "21                         C, C++, Java        More than 1,000 lines   \n",
       "\n",
       "                                               why_ml  \\\n",
       "18  Then I will understand what everyone else is t...   \n",
       "19                What to know what the buzz is about   \n",
       "20  I was always fascinated by coding and creating...   \n",
       "21  I want to pursue a career in product managemen...   \n",
       "\n",
       "                                     mba_code_reasons  dream_career  \\\n",
       "18  To understand how the engineers under them work.   Psychologist   \n",
       "19  I look coding from the logical perspective. As...      Teacher    \n",
       "20  Big Data and machine learning have brought abo...      Musician   \n",
       "21  I believe it is important for an MBA to unders...  Sportsperson   \n",
       "\n",
       "                                 time_pass  \\\n",
       "18          Netflix/ Amazon Prime/ Hotstar   \n",
       "19                           Reading books   \n",
       "20  Learning musical instrument (Keyboard)   \n",
       "21          Netflix/ Amazon Prime/ Hotstar   \n",
       "\n",
       "                                         life_mission  day  month  \\\n",
       "18  Pursue my interests in technology and marketin...    2      7   \n",
       "19  I think i do. Coming from a tech backgroud I w...    2      7   \n",
       "20  I see myself as being a successful marketer an...    2      7   \n",
       "21  I believe I am sticking to my plan. I was aske...    2      7   \n",
       "\n",
       "    truncated_hour  Inter_Arrival_Time_Mins_Final  \n",
       "18              14                             17  \n",
       "19              17                            156  \n",
       "20              17                             44  \n",
       "21              18                             34  "
      ]
     },
     "execution_count": 19,
     "metadata": {},
     "output_type": "execute_result"
    }
   ],
   "source": [
    "del New_Responses['Inter_Arrival_Time']\n",
    "del New_Responses['Inter_Arrival_Time_Hrs']\n",
    "del New_Responses['Inter_Arrival_Time_Mins']\n",
    "del New_Responses['Inter_Arrival_Time_secs']\n",
    "del New_Responses['Inter_Arrival_Time_secs_sum']\n",
    "\n",
    "New_Responses[18:22]"
   ]
  },
  {
   "cell_type": "code",
   "execution_count": 20,
   "metadata": {},
   "outputs": [
    {
     "data": {
      "text/plain": [
       "3      8\n",
       "4      5\n",
       "7      4\n",
       "17     3\n",
       "11     3\n",
       "0      2\n",
       "14     2\n",
       "1      2\n",
       "8      2\n",
       "9      2\n",
       "43     2\n",
       "21     1\n",
       "20     1\n",
       "16     1\n",
       "10     1\n",
       "525    1\n",
       "12     1\n",
       "24     1\n",
       "6      1\n",
       "2      1\n",
       "22     1\n",
       "28     1\n",
       "125    1\n",
       "156    1\n",
       "121    1\n",
       "119    1\n",
       "13     1\n",
       "115    1\n",
       "93     1\n",
       "56     1\n",
       "51     1\n",
       "49     1\n",
       "46     1\n",
       "44     1\n",
       "42     1\n",
       "40     1\n",
       "38     1\n",
       "37     1\n",
       "34     1\n",
       "30     1\n",
       "29     1\n",
       "26     1\n",
       "Name: Inter_Arrival_Time_Mins_Final, dtype: int64"
      ]
     },
     "execution_count": 20,
     "metadata": {},
     "output_type": "execute_result"
    }
   ],
   "source": [
    "#checking Inter_Arrival_Time_Mins variable's freq distribution\n",
    "\n",
    "New_Responses[\"Inter_Arrival_Time_Mins_Final\"].value_counts()"
   ]
  },
  {
   "cell_type": "code",
   "execution_count": 21,
   "metadata": {},
   "outputs": [
    {
     "data": {
      "image/png": "[encoded data removed]",
      "text/plain": [
       "<Figure size 432x288 with 1 Axes>"
      ]
     },
     "metadata": {
      "needs_background": "light"
     },
     "output_type": "display_data"
    }
   ],
   "source": [
    "#Question 10(a): Chart showing Inter arrival time (in Mins) by 66 students\n",
    "\n",
    "New_Responses['Inter_Arrival_Time_Mins_Final'].plot.bar();"
   ]
  },
  {
   "cell_type": "markdown",
   "metadata": {},
   "source": [
    "The above plot of Inter arrival time shows a spike for 29th student entry who responded on 3rd July morning and the difference in time is overnight hours from 2nd July to 3rd July\n"
   ]
  },
  {
   "cell_type": "code",
   "execution_count": 22,
   "metadata": {
    "scrolled": true
   },
   "outputs": [
    {
     "data": {
      "image/png": "[encoded data removed]",
      "text/plain": [
       "<Figure size 432x288 with 1 Axes>"
      ]
     },
     "metadata": {
      "needs_background": "light"
     },
     "output_type": "display_data"
    }
   ],
   "source": [
    "#Question 10(b): Fitting exponential curve to Inter arrival time variable (in mins)\n",
    "import matplotlib.pyplot as plt\n",
    "import numpy as np\n",
    "import seaborn as sns\n",
    "\n",
    "ax=sns.distplot(New_Responses['Inter_Arrival_Time_Mins_Final'], \n",
    "             kde=True, \n",
    "             bins=100, \n",
    "             color='blue'\n",
    "            #hist_kws={\"linewidth\": 15,'alpha':1}\n",
    "            );\n",
    "ax.set(xlabel='Exponential Distribution', ylabel='Frequency');"
   ]
  },
  {
   "cell_type": "code",
   "execution_count": 23,
   "metadata": {},
   "outputs": [
    {
     "name": "stdout",
     "output_type": "stream",
     "text": [
      "col_0    count\n",
      "work_ex       \n",
      "0           11\n",
      "6            1\n",
      "9            1\n",
      "10           1\n",
      "12           1\n",
      "13           1\n",
      "19           1\n",
      "20           1\n",
      "22          12\n",
      "23           3\n",
      "29           1\n",
      "30           3\n",
      "32           2\n",
      "33           2\n",
      "34           4\n",
      "35           2\n",
      "39           1\n",
      "40           2\n",
      "44           1\n",
      "45           2\n",
      "46           2\n",
      "47           3\n",
      "48           2\n",
      "52           1\n",
      "55           1\n",
      "57           1\n",
      "66           1\n",
      "108          1\n",
      "180          1\n"
     ]
    },
    {
     "data": {
      "text/plain": [
       "<matplotlib.axes._subplots.AxesSubplot at 0x7fac69c37fd0>"
      ]
     },
     "execution_count": 23,
     "metadata": {},
     "output_type": "execute_result"
    },
    {
     "data": {
      "image/png": "[encoded data removed]",
      "text/plain": [
       "<Figure size 432x288 with 1 Axes>"
      ]
     },
     "metadata": {
      "needs_background": "light"
     },
     "output_type": "display_data"
    }
   ],
   "source": [
    "#Question 13(a): Work Exp bar chart\n",
    "\n",
    "table1 = pd.crosstab(index=New_Responses.work_ex, columns=\"count\")\n",
    "print(table1)\n",
    "\n",
    "table1.plot.bar()"
   ]
  },
  {
   "cell_type": "markdown",
   "metadata": {},
   "source": [
    "The bars indicate that inter arrival time is exponentially distributed"
   ]
  },
  {
   "cell_type": "code",
   "execution_count": 24,
   "metadata": {},
   "outputs": [
    {
     "data": {
      "image/png": "[encoded data removed]",
      "text/plain": [
       "<Figure size 1440x360 with 1 Axes>"
      ]
     },
     "metadata": {
      "needs_background": "light"
     },
     "output_type": "display_data"
    }
   ],
   "source": [
    "#Question 13(a): Work Exp bar chart\n",
    "count_work_ex=New_Responses[\"work_ex\"].value_counts()\n",
    "\n",
    "plot = count_work_ex.plot(kind='bar', \n",
    "                    #title =\"Distribution of Work Exp (in years)\",\n",
    "                    figsize=(20, 5),\n",
    "                    color=sns.color_palette(\"BuGn_r\", len(count_work_ex)),           \n",
    "                    fontsize=10);\n",
    "plot.set_title(\"Distribution of years of work Exp\", fontsize=20);\n",
    "plot.set_xlabel(\"Work experience in years\", fontsize=15);\n",
    "plot.set_ylabel(\"Frequency\", fontsize=15);\n",
    "plot;"
   ]
  },
  {
   "cell_type": "code",
   "execution_count": 25,
   "metadata": {},
   "outputs": [
    {
     "data": {
      "image/png": "[encoded data removed]",
      "text/plain": [
       "<Figure size 432x288 with 1 Axes>"
      ]
     },
     "metadata": {
      "needs_background": "light"
     },
     "output_type": "display_data"
    }
   ],
   "source": [
    "#Question 13(b): Code ability histogram\n",
    "plt.hist(New_Responses['code_ability'], rwidth=10);\n",
    "plt.title(\"Distribution of Code ability\")\n",
    "plt.xlabel(\"Code Ability\");\n",
    "plt.ylabel(\"Frequency\");"
   ]
  },
  {
   "cell_type": "code",
   "execution_count": 26,
   "metadata": {},
   "outputs": [
    {
     "data": {
      "image/png": "[encoded data removed]",
      "text/plain": [
       "<Figure size 432x288 with 1 Axes>"
      ]
     },
     "metadata": {},
     "output_type": "display_data"
    }
   ],
   "source": [
    "#Question 13(c): Education pie chart\n",
    "count = New_Responses[\"education\"].value_counts()\n",
    "\n",
    "#data = {\"education\": [\"Engineering\", \"Science\", \"Commerce\", \"Bachelor in Food Technology\"],\n",
    "#     \"count\": [62,2,1,1]}\n",
    "\n",
    "#for_pie_data =pd.DataFrame(data)\n",
    "#for_pie_data\n",
    "\n",
    "import matplotlib.pyplot as plt\n",
    "\n",
    "education=[\"Engineering\", \"Science\", \"Commerce\", \"Bachelor in Food Technology\"]\n",
    "count=[62,2,1,1]\n",
    "explode = (0.3,0,0,0)\n",
    "plt.pie(count, \n",
    "        labels=education,\n",
    "        explode=explode,\n",
    "        shadow=True\n",
    "        #autopct='%1.1f%'\n",
    "       );\n",
    "plt.axis('equal')\n",
    "plt.title(\"Distribution of education among students\");"
   ]
  },
  {
   "cell_type": "code",
   "execution_count": 27,
   "metadata": {},
   "outputs": [
    {
     "data": {
      "image/png": "[encoded data removed]",
      "text/plain": [
       "<Figure size 432x288 with 1 Axes>"
      ]
     },
     "metadata": {},
     "output_type": "display_data"
    }
   ],
   "source": [
    "#Question 13(d): Lines of code pie chart\n",
    "count = New_Responses[\"lines_of_code\"].value_counts()\n",
    "\n",
    "\n",
    "linecode=[\"More than 1,000 lines\", \"Between 100 and 1,000 lines\", \"Under 100 lines\", \"Sorry, I was only joking\"]\n",
    "count=[30,21,8,1]\n",
    "#explode = (0.1,0,0,0)\n",
    "plt.pie(count, \n",
    "        labels=linecode,\n",
    " #       explode=explode,\n",
    "        shadow=True\n",
    "        #autopct='%1.1f%'\n",
    "        );\n",
    "plt.axis('equal')\n",
    "plt.title(\"Distribution of Lines of codes written by students\");"
   ]
  },
  {
   "cell_type": "code",
   "execution_count": 28,
   "metadata": {},
   "outputs": [
    {
     "data": {
      "text/html": [
       "<div>\n",
       "<style scoped>\n",
       "    .dataframe tbody tr th:only-of-type {\n",
       "        vertical-align: middle;\n",
       "    }\n",
       "\n",
       "    .dataframe tbody tr th {\n",
       "        vertical-align: top;\n",
       "    }\n",
       "\n",
       "    .dataframe thead th {\n",
       "        text-align: right;\n",
       "    }\n",
       "</style>\n",
       "<table border=\"1\" class=\"dataframe\">\n",
       "  <thead>\n",
       "    <tr style=\"text-align: right;\">\n",
       "      <th>lines_of_code</th>\n",
       "      <th>Between 100 and 1,000 lines</th>\n",
       "      <th>More than 1,000 lines</th>\n",
       "      <th>Sorry, I was only joking</th>\n",
       "      <th>Under 100 lines</th>\n",
       "    </tr>\n",
       "    <tr>\n",
       "      <th>code_ability</th>\n",
       "      <th></th>\n",
       "      <th></th>\n",
       "      <th></th>\n",
       "      <th></th>\n",
       "    </tr>\n",
       "  </thead>\n",
       "  <tbody>\n",
       "    <tr>\n",
       "      <th>1</th>\n",
       "      <td>0</td>\n",
       "      <td>0</td>\n",
       "      <td>0</td>\n",
       "      <td>1</td>\n",
       "    </tr>\n",
       "    <tr>\n",
       "      <th>2</th>\n",
       "      <td>1</td>\n",
       "      <td>0</td>\n",
       "      <td>0</td>\n",
       "      <td>2</td>\n",
       "    </tr>\n",
       "    <tr>\n",
       "      <th>3</th>\n",
       "      <td>17</td>\n",
       "      <td>6</td>\n",
       "      <td>1</td>\n",
       "      <td>5</td>\n",
       "    </tr>\n",
       "    <tr>\n",
       "      <th>4</th>\n",
       "      <td>3</td>\n",
       "      <td>16</td>\n",
       "      <td>0</td>\n",
       "      <td>0</td>\n",
       "    </tr>\n",
       "    <tr>\n",
       "      <th>5</th>\n",
       "      <td>0</td>\n",
       "      <td>8</td>\n",
       "      <td>0</td>\n",
       "      <td>0</td>\n",
       "    </tr>\n",
       "  </tbody>\n",
       "</table>\n",
       "</div>"
      ],
      "text/plain": [
       "lines_of_code  Between 100 and 1,000 lines  More than 1,000 lines  \\\n",
       "code_ability                                                        \n",
       "1                                        0                      0   \n",
       "2                                        1                      0   \n",
       "3                                       17                      6   \n",
       "4                                        3                     16   \n",
       "5                                        0                      8   \n",
       "\n",
       "lines_of_code  Sorry, I was only joking  Under 100 lines  \n",
       "code_ability                                              \n",
       "1                                     0                1  \n",
       "2                                     0                2  \n",
       "3                                     1                5  \n",
       "4                                     0                0  \n",
       "5                                     0                0  "
      ]
     },
     "execution_count": 28,
     "metadata": {},
     "output_type": "execute_result"
    }
   ],
   "source": [
    "#Doing some EDA\n",
    "pd.crosstab(New_Responses[\"code_ability\"], New_Responses[\"lines_of_code\"])\n",
    "\n",
    "#New_Responses[\"languages\"].value_counts()"
   ]
  },
  {
   "cell_type": "markdown",
   "metadata": {},
   "source": [
    "* As expected, students who have self-evaluated their coding ability above 3 have coded 'More than 1000 lines'\n",
    "* Most of students who self-evaluated as '3' have coded between 100 to 1000 lines. Could have given themselves higher score in ability to code "
   ]
  },
  {
   "cell_type": "code",
   "execution_count": 29,
   "metadata": {},
   "outputs": [
    {
     "name": "stderr",
     "output_type": "stream",
     "text": [
      "<ipython-input-29-87878227955b>:14: SettingWithCopyWarning: \n",
      "A value is trying to be set on a copy of a slice from a DataFrame\n",
      "\n",
      "See the caveats in the documentation: https://pandas.pydata.org/pandas-docs/stable/user_guide/indexing.html#returning-a-view-versus-a-copy\n",
      "  New_Responses.hour_slot[i]=New_Responses.hour_slot[i-1]\n",
      "<ipython-input-29-87878227955b>:16: SettingWithCopyWarning: \n",
      "A value is trying to be set on a copy of a slice from a DataFrame\n",
      "\n",
      "See the caveats in the documentation: https://pandas.pydata.org/pandas-docs/stable/user_guide/indexing.html#returning-a-view-versus-a-copy\n",
      "  New_Responses.hour_slot[i]=New_Responses.hour_slot[i-1] + New_Responses.truncated_hour_diff[i]\n",
      "<ipython-input-29-87878227955b>:18: SettingWithCopyWarning: \n",
      "A value is trying to be set on a copy of a slice from a DataFrame\n",
      "\n",
      "See the caveats in the documentation: https://pandas.pydata.org/pandas-docs/stable/user_guide/indexing.html#returning-a-view-versus-a-copy\n",
      "  New_Responses.hour_slot[i]=New_Responses.hour_slot[i-1] + (24+New_Responses.truncated_hour_diff[i])\n"
     ]
    }
   ],
   "source": [
    "#Question 6: Creating the Hour_slot variable based on consecutive hours\n",
    "New_Responses['hour_slot']=New_Responses.apply(lambda x:1, axis=1)\n",
    "\n",
    "#for i in range(0,len(New_Responses)):\n",
    " #   New_Responses.hour_slot[i]=datetime.time(New_Responses.response_date[i]).hour\n",
    "    \n",
    "#del New_Responses['hour_slot']\n",
    "\n",
    "New_Responses['truncated_hour_diff'] = New_Responses['truncated_hour'].diff()\n",
    "New_Responses[\"truncated_hour_diff\"] = New_Responses[\"truncated_hour_diff\"].fillna(0)\n",
    "\n",
    "for i in range(1,len(New_Responses)):\n",
    "    if(New_Responses.truncated_hour_diff[i]==0):\n",
    "        New_Responses.hour_slot[i]=New_Responses.hour_slot[i-1]\n",
    "    elif(New_Responses.truncated_hour_diff[i]>0):\n",
    "        New_Responses.hour_slot[i]=New_Responses.hour_slot[i-1] + New_Responses.truncated_hour_diff[i]\n",
    "    elif(New_Responses.truncated_hour_diff[i]<0):\n",
    "        New_Responses.hour_slot[i]=New_Responses.hour_slot[i-1] + (24+New_Responses.truncated_hour_diff[i])\n",
    "    else:\n",
    "        New_Responses.hour_slot[i]=0"
   ]
  },
  {
   "cell_type": "code",
   "execution_count": 30,
   "metadata": {},
   "outputs": [
    {
     "data": {
      "text/html": [
       "<div>\n",
       "<style scoped>\n",
       "    .dataframe tbody tr th:only-of-type {\n",
       "        vertical-align: middle;\n",
       "    }\n",
       "\n",
       "    .dataframe tbody tr th {\n",
       "        vertical-align: top;\n",
       "    }\n",
       "\n",
       "    .dataframe thead th {\n",
       "        text-align: right;\n",
       "    }\n",
       "</style>\n",
       "<table border=\"1\" class=\"dataframe\">\n",
       "  <thead>\n",
       "    <tr style=\"text-align: right;\">\n",
       "      <th></th>\n",
       "      <th>response_date</th>\n",
       "      <th>day</th>\n",
       "      <th>truncated_hour</th>\n",
       "      <th>hour_slot</th>\n",
       "    </tr>\n",
       "  </thead>\n",
       "  <tbody>\n",
       "    <tr>\n",
       "      <th>0</th>\n",
       "      <td>2020-02-07 09:52:00</td>\n",
       "      <td>2</td>\n",
       "      <td>9</td>\n",
       "      <td>1</td>\n",
       "    </tr>\n",
       "    <tr>\n",
       "      <th>1</th>\n",
       "      <td>2020-02-07 09:56:00</td>\n",
       "      <td>2</td>\n",
       "      <td>9</td>\n",
       "      <td>1</td>\n",
       "    </tr>\n",
       "    <tr>\n",
       "      <th>2</th>\n",
       "      <td>2020-02-07 10:00:00</td>\n",
       "      <td>2</td>\n",
       "      <td>10</td>\n",
       "      <td>2</td>\n",
       "    </tr>\n",
       "    <tr>\n",
       "      <th>3</th>\n",
       "      <td>2020-02-07 10:02:00</td>\n",
       "      <td>2</td>\n",
       "      <td>10</td>\n",
       "      <td>2</td>\n",
       "    </tr>\n",
       "    <tr>\n",
       "      <th>4</th>\n",
       "      <td>2020-02-07 10:06:00</td>\n",
       "      <td>2</td>\n",
       "      <td>10</td>\n",
       "      <td>2</td>\n",
       "    </tr>\n",
       "    <tr>\n",
       "      <th>5</th>\n",
       "      <td>2020-02-07 10:12:00</td>\n",
       "      <td>2</td>\n",
       "      <td>10</td>\n",
       "      <td>2</td>\n",
       "    </tr>\n",
       "    <tr>\n",
       "      <th>6</th>\n",
       "      <td>2020-02-07 10:19:00</td>\n",
       "      <td>2</td>\n",
       "      <td>10</td>\n",
       "      <td>2</td>\n",
       "    </tr>\n",
       "    <tr>\n",
       "      <th>7</th>\n",
       "      <td>2020-02-07 10:27:00</td>\n",
       "      <td>2</td>\n",
       "      <td>10</td>\n",
       "      <td>2</td>\n",
       "    </tr>\n",
       "    <tr>\n",
       "      <th>8</th>\n",
       "      <td>2020-02-07 10:27:00</td>\n",
       "      <td>2</td>\n",
       "      <td>10</td>\n",
       "      <td>2</td>\n",
       "    </tr>\n",
       "    <tr>\n",
       "      <th>9</th>\n",
       "      <td>2020-02-07 10:37:00</td>\n",
       "      <td>2</td>\n",
       "      <td>10</td>\n",
       "      <td>2</td>\n",
       "    </tr>\n",
       "    <tr>\n",
       "      <th>10</th>\n",
       "      <td>2020-02-07 10:46:00</td>\n",
       "      <td>2</td>\n",
       "      <td>10</td>\n",
       "      <td>2</td>\n",
       "    </tr>\n",
       "    <tr>\n",
       "      <th>11</th>\n",
       "      <td>2020-02-07 11:00:00</td>\n",
       "      <td>2</td>\n",
       "      <td>11</td>\n",
       "      <td>3</td>\n",
       "    </tr>\n",
       "    <tr>\n",
       "      <th>12</th>\n",
       "      <td>2020-02-07 11:29:00</td>\n",
       "      <td>2</td>\n",
       "      <td>11</td>\n",
       "      <td>3</td>\n",
       "    </tr>\n",
       "    <tr>\n",
       "      <th>13</th>\n",
       "      <td>2020-02-07 11:50:00</td>\n",
       "      <td>2</td>\n",
       "      <td>11</td>\n",
       "      <td>3</td>\n",
       "    </tr>\n",
       "    <tr>\n",
       "      <th>14</th>\n",
       "      <td>2020-02-07 12:01:00</td>\n",
       "      <td>2</td>\n",
       "      <td>12</td>\n",
       "      <td>4</td>\n",
       "    </tr>\n",
       "    <tr>\n",
       "      <th>15</th>\n",
       "      <td>2020-02-07 12:47:00</td>\n",
       "      <td>2</td>\n",
       "      <td>12</td>\n",
       "      <td>4</td>\n",
       "    </tr>\n",
       "    <tr>\n",
       "      <th>16</th>\n",
       "      <td>2020-02-07 13:17:00</td>\n",
       "      <td>2</td>\n",
       "      <td>13</td>\n",
       "      <td>5</td>\n",
       "    </tr>\n",
       "    <tr>\n",
       "      <th>17</th>\n",
       "      <td>2020-02-07 14:08:00</td>\n",
       "      <td>2</td>\n",
       "      <td>14</td>\n",
       "      <td>6</td>\n",
       "    </tr>\n",
       "    <tr>\n",
       "      <th>18</th>\n",
       "      <td>2020-02-07 14:25:00</td>\n",
       "      <td>2</td>\n",
       "      <td>14</td>\n",
       "      <td>6</td>\n",
       "    </tr>\n",
       "    <tr>\n",
       "      <th>19</th>\n",
       "      <td>2020-02-07 17:01:00</td>\n",
       "      <td>2</td>\n",
       "      <td>17</td>\n",
       "      <td>9</td>\n",
       "    </tr>\n",
       "    <tr>\n",
       "      <th>20</th>\n",
       "      <td>2020-02-07 17:45:00</td>\n",
       "      <td>2</td>\n",
       "      <td>17</td>\n",
       "      <td>9</td>\n",
       "    </tr>\n",
       "    <tr>\n",
       "      <th>21</th>\n",
       "      <td>2020-02-07 18:19:00</td>\n",
       "      <td>2</td>\n",
       "      <td>18</td>\n",
       "      <td>10</td>\n",
       "    </tr>\n",
       "    <tr>\n",
       "      <th>22</th>\n",
       "      <td>2020-02-07 20:24:00</td>\n",
       "      <td>2</td>\n",
       "      <td>20</td>\n",
       "      <td>12</td>\n",
       "    </tr>\n",
       "    <tr>\n",
       "      <th>23</th>\n",
       "      <td>2020-02-07 20:36:00</td>\n",
       "      <td>2</td>\n",
       "      <td>20</td>\n",
       "      <td>12</td>\n",
       "    </tr>\n",
       "    <tr>\n",
       "      <th>24</th>\n",
       "      <td>2020-02-07 21:14:00</td>\n",
       "      <td>2</td>\n",
       "      <td>21</td>\n",
       "      <td>13</td>\n",
       "    </tr>\n",
       "    <tr>\n",
       "      <th>25</th>\n",
       "      <td>2020-02-07 21:25:00</td>\n",
       "      <td>2</td>\n",
       "      <td>21</td>\n",
       "      <td>13</td>\n",
       "    </tr>\n",
       "    <tr>\n",
       "      <th>26</th>\n",
       "      <td>2020-02-07 21:51:00</td>\n",
       "      <td>2</td>\n",
       "      <td>21</td>\n",
       "      <td>13</td>\n",
       "    </tr>\n",
       "    <tr>\n",
       "      <th>27</th>\n",
       "      <td>2020-02-07 22:34:00</td>\n",
       "      <td>2</td>\n",
       "      <td>22</td>\n",
       "      <td>14</td>\n",
       "    </tr>\n",
       "    <tr>\n",
       "      <th>28</th>\n",
       "      <td>2020-03-07 00:35:00</td>\n",
       "      <td>3</td>\n",
       "      <td>0</td>\n",
       "      <td>16</td>\n",
       "    </tr>\n",
       "    <tr>\n",
       "      <th>29</th>\n",
       "      <td>2020-03-07 09:20:00</td>\n",
       "      <td>3</td>\n",
       "      <td>9</td>\n",
       "      <td>25</td>\n",
       "    </tr>\n",
       "    <tr>\n",
       "      <th>30</th>\n",
       "      <td>2020-03-07 11:19:00</td>\n",
       "      <td>3</td>\n",
       "      <td>11</td>\n",
       "      <td>27</td>\n",
       "    </tr>\n",
       "    <tr>\n",
       "      <th>31</th>\n",
       "      <td>2020-03-07 11:43:00</td>\n",
       "      <td>3</td>\n",
       "      <td>11</td>\n",
       "      <td>27</td>\n",
       "    </tr>\n",
       "    <tr>\n",
       "      <th>32</th>\n",
       "      <td>2020-03-07 11:46:00</td>\n",
       "      <td>3</td>\n",
       "      <td>11</td>\n",
       "      <td>27</td>\n",
       "    </tr>\n",
       "    <tr>\n",
       "      <th>33</th>\n",
       "      <td>2020-03-07 11:53:00</td>\n",
       "      <td>3</td>\n",
       "      <td>11</td>\n",
       "      <td>27</td>\n",
       "    </tr>\n",
       "    <tr>\n",
       "      <th>34</th>\n",
       "      <td>2020-03-07 11:54:00</td>\n",
       "      <td>3</td>\n",
       "      <td>11</td>\n",
       "      <td>27</td>\n",
       "    </tr>\n",
       "  </tbody>\n",
       "</table>\n",
       "</div>"
      ],
      "text/plain": [
       "         response_date  day  truncated_hour  hour_slot\n",
       "0  2020-02-07 09:52:00    2               9          1\n",
       "1  2020-02-07 09:56:00    2               9          1\n",
       "2  2020-02-07 10:00:00    2              10          2\n",
       "3  2020-02-07 10:02:00    2              10          2\n",
       "4  2020-02-07 10:06:00    2              10          2\n",
       "5  2020-02-07 10:12:00    2              10          2\n",
       "6  2020-02-07 10:19:00    2              10          2\n",
       "7  2020-02-07 10:27:00    2              10          2\n",
       "8  2020-02-07 10:27:00    2              10          2\n",
       "9  2020-02-07 10:37:00    2              10          2\n",
       "10 2020-02-07 10:46:00    2              10          2\n",
       "11 2020-02-07 11:00:00    2              11          3\n",
       "12 2020-02-07 11:29:00    2              11          3\n",
       "13 2020-02-07 11:50:00    2              11          3\n",
       "14 2020-02-07 12:01:00    2              12          4\n",
       "15 2020-02-07 12:47:00    2              12          4\n",
       "16 2020-02-07 13:17:00    2              13          5\n",
       "17 2020-02-07 14:08:00    2              14          6\n",
       "18 2020-02-07 14:25:00    2              14          6\n",
       "19 2020-02-07 17:01:00    2              17          9\n",
       "20 2020-02-07 17:45:00    2              17          9\n",
       "21 2020-02-07 18:19:00    2              18         10\n",
       "22 2020-02-07 20:24:00    2              20         12\n",
       "23 2020-02-07 20:36:00    2              20         12\n",
       "24 2020-02-07 21:14:00    2              21         13\n",
       "25 2020-02-07 21:25:00    2              21         13\n",
       "26 2020-02-07 21:51:00    2              21         13\n",
       "27 2020-02-07 22:34:00    2              22         14\n",
       "28 2020-03-07 00:35:00    3               0         16\n",
       "29 2020-03-07 09:20:00    3               9         25\n",
       "30 2020-03-07 11:19:00    3              11         27\n",
       "31 2020-03-07 11:43:00    3              11         27\n",
       "32 2020-03-07 11:46:00    3              11         27\n",
       "33 2020-03-07 11:53:00    3              11         27\n",
       "34 2020-03-07 11:54:00    3              11         27"
      ]
     },
     "execution_count": 30,
     "metadata": {},
     "output_type": "execute_result"
    }
   ],
   "source": [
    "#Checking new variable hour_slot\n",
    "#New_Responses['hour_slot']\n",
    "\n",
    "variables = ['response_date','day','truncated_hour','hour_slot']\n",
    "New_Responses[variables].head(35)\n",
    "#New_Responses[18:30]"
   ]
  },
  {
   "cell_type": "code",
   "execution_count": 31,
   "metadata": {},
   "outputs": [
    {
     "name": "stdout",
     "output_type": "stream",
     "text": [
      "Frquency table of Hour_slot variable:\n"
     ]
    },
    {
     "data": {
      "text/plain": [
       "28    11\n",
       "2      9\n",
       "27     6\n",
       "38     4\n",
       "3      3\n",
       "13     3\n",
       "29     3\n",
       "39     2\n",
       "4      2\n",
       "6      2\n",
       "9      2\n",
       "12     2\n",
       "1      2\n",
       "30     2\n",
       "33     2\n",
       "37     2\n",
       "16     1\n",
       "14     1\n",
       "31     1\n",
       "10     1\n",
       "32     1\n",
       "5      1\n",
       "35     1\n",
       "36     1\n",
       "25     1\n",
       "Name: hour_slot, dtype: int64"
      ]
     },
     "execution_count": 31,
     "metadata": {},
     "output_type": "execute_result"
    }
   ],
   "source": [
    "#Question 7: Frequency count of Hour_slot variable\n",
    "print(\"Frquency table of Hour_slot variable:\")\n",
    "New_Responses['hour_slot'].value_counts()"
   ]
  },
  {
   "cell_type": "markdown",
   "metadata": {},
   "source": [
    "The above frequency chart indicates there are more responses in hourly slots which are above 24. This indicates there are more responses on 3rfd July than on 2nd July (we have seen this before as well)"
   ]
  },
  {
   "cell_type": "code",
   "execution_count": 32,
   "metadata": {},
   "outputs": [
    {
     "data": {
      "image/png": "[encoded data removed]",
      "text/plain": [
       "<Figure size 432x288 with 1 Axes>"
      ]
     },
     "metadata": {
      "needs_background": "light"
     },
     "output_type": "display_data"
    }
   ],
   "source": [
    "#Question 8(a): Plotting Hout_slot variable histogram\n",
    "import matplotlib.pyplot as plt\n",
    "import numpy as np\n",
    "import seaborn as sns\n",
    "\n",
    "#sns.distplot(New_Responses['hour_slot'], kde=True, color='blue');\n",
    "\n",
    "plt.hist(New_Responses['hour_slot']);"
   ]
  },
  {
   "cell_type": "markdown",
   "metadata": {},
   "source": [
    "Some of the hour slots have 0 frequency becuase no student responded to the survey during those hourly slots"
   ]
  },
  {
   "cell_type": "code",
   "execution_count": 33,
   "metadata": {},
   "outputs": [
    {
     "data": {
      "image/png": "[encoded data removed]",
      "text/plain": [
       "<Figure size 432x288 with 1 Axes>"
      ]
     },
     "metadata": {
      "needs_background": "light"
     },
     "output_type": "display_data"
    }
   ],
   "source": [
    "#Question 8(b): Fitting a density plot on Hour_slot variable to check if it follows Poisson distribution\n",
    "ax=sns.distplot(New_Responses['hour_slot'], kde=True, color='blue');\n",
    "ax.set(xlabel='Poisson Distribution', ylabel='Frequency');"
   ]
  },
  {
   "cell_type": "markdown",
   "metadata": {},
   "source": [
    "The above bar chart indicates the hour slot variable is Poisson distribution"
   ]
  },
  {
   "cell_type": "code",
   "execution_count": 34,
   "metadata": {},
   "outputs": [
    {
     "data": {
      "text/html": [
       "<div>\n",
       "<style scoped>\n",
       "    .dataframe tbody tr th:only-of-type {\n",
       "        vertical-align: middle;\n",
       "    }\n",
       "\n",
       "    .dataframe tbody tr th {\n",
       "        vertical-align: top;\n",
       "    }\n",
       "\n",
       "    .dataframe thead th {\n",
       "        text-align: right;\n",
       "    }\n",
       "</style>\n",
       "<table border=\"1\" class=\"dataframe\">\n",
       "  <thead>\n",
       "    <tr style=\"text-align: right;\">\n",
       "      <th></th>\n",
       "      <th>response_date</th>\n",
       "      <th>education</th>\n",
       "      <th>work_ex</th>\n",
       "      <th>code_ability</th>\n",
       "      <th>languages</th>\n",
       "      <th>lines_of_code</th>\n",
       "      <th>why_ml</th>\n",
       "      <th>mba_code_reasons</th>\n",
       "      <th>dream_career</th>\n",
       "      <th>time_pass</th>\n",
       "      <th>life_mission</th>\n",
       "      <th>day</th>\n",
       "      <th>month</th>\n",
       "      <th>truncated_hour</th>\n",
       "      <th>Inter_Arrival_Time_Mins_Final</th>\n",
       "      <th>hour_slot</th>\n",
       "      <th>truncated_hour_diff</th>\n",
       "    </tr>\n",
       "  </thead>\n",
       "  <tbody>\n",
       "    <tr>\n",
       "      <th>0</th>\n",
       "      <td>2020-02-07 09:52:00</td>\n",
       "      <td>Science</td>\n",
       "      <td>0</td>\n",
       "      <td>3</td>\n",
       "      <td>C++, R, Python</td>\n",
       "      <td>Under 100 lines</td>\n",
       "      <td>I wouldn't be taking the course if I found DS ...</td>\n",
       "      <td>In case there's a need to troubleshoot or acti...</td>\n",
       "      <td>Manager</td>\n",
       "      <td>Reading books</td>\n",
       "      <td>I wanted to pursue behavioral economics and da...</td>\n",
       "      <td>2</td>\n",
       "      <td>7</td>\n",
       "      <td>9</td>\n",
       "      <td>0</td>\n",
       "      <td>1</td>\n",
       "      <td>0.0</td>\n",
       "    </tr>\n",
       "    <tr>\n",
       "      <th>1</th>\n",
       "      <td>2020-02-07 09:56:00</td>\n",
       "      <td>Engineering</td>\n",
       "      <td>47</td>\n",
       "      <td>4</td>\n",
       "      <td>C, C++, R</td>\n",
       "      <td>More than 1,000 lines</td>\n",
       "      <td>It provides a toolkit to solve business proble...</td>\n",
       "      <td>If a product is developed by writing code, the...</td>\n",
       "      <td>Sportsperson</td>\n",
       "      <td>Netflix/ Amazon Prime/ Hotstar</td>\n",
       "      <td>To become a well rounded financial services pr...</td>\n",
       "      <td>2</td>\n",
       "      <td>7</td>\n",
       "      <td>9</td>\n",
       "      <td>4</td>\n",
       "      <td>1</td>\n",
       "      <td>0.0</td>\n",
       "    </tr>\n",
       "    <tr>\n",
       "      <th>2</th>\n",
       "      <td>2020-02-07 10:00:00</td>\n",
       "      <td>Engineering</td>\n",
       "      <td>55</td>\n",
       "      <td>4</td>\n",
       "      <td>C, C++, Java, Javascript</td>\n",
       "      <td>More than 1,000 lines</td>\n",
       "      <td>It is very evident that courses like machine l...</td>\n",
       "      <td>Technology is becoming an indispensable capabi...</td>\n",
       "      <td>Sportsperson</td>\n",
       "      <td>Reading books</td>\n",
       "      <td>Sort of, I said that I wanted to make a career...</td>\n",
       "      <td>2</td>\n",
       "      <td>7</td>\n",
       "      <td>10</td>\n",
       "      <td>4</td>\n",
       "      <td>2</td>\n",
       "      <td>1.0</td>\n",
       "    </tr>\n",
       "  </tbody>\n",
       "</table>\n",
       "</div>"
      ],
      "text/plain": [
       "        response_date    education  work_ex  code_ability  \\\n",
       "0 2020-02-07 09:52:00      Science        0             3   \n",
       "1 2020-02-07 09:56:00  Engineering       47             4   \n",
       "2 2020-02-07 10:00:00  Engineering       55             4   \n",
       "\n",
       "                  languages          lines_of_code  \\\n",
       "0            C++, R, Python        Under 100 lines   \n",
       "1                 C, C++, R  More than 1,000 lines   \n",
       "2  C, C++, Java, Javascript  More than 1,000 lines   \n",
       "\n",
       "                                              why_ml  \\\n",
       "0  I wouldn't be taking the course if I found DS ...   \n",
       "1  It provides a toolkit to solve business proble...   \n",
       "2  It is very evident that courses like machine l...   \n",
       "\n",
       "                                    mba_code_reasons  dream_career  \\\n",
       "0  In case there's a need to troubleshoot or acti...       Manager   \n",
       "1  If a product is developed by writing code, the...  Sportsperson   \n",
       "2  Technology is becoming an indispensable capabi...  Sportsperson   \n",
       "\n",
       "                        time_pass  \\\n",
       "0                   Reading books   \n",
       "1  Netflix/ Amazon Prime/ Hotstar   \n",
       "2                   Reading books   \n",
       "\n",
       "                                        life_mission  day  month  \\\n",
       "0  I wanted to pursue behavioral economics and da...    2      7   \n",
       "1  To become a well rounded financial services pr...    2      7   \n",
       "2  Sort of, I said that I wanted to make a career...    2      7   \n",
       "\n",
       "   truncated_hour  Inter_Arrival_Time_Mins_Final  hour_slot  \\\n",
       "0               9                              0          1   \n",
       "1               9                              4          1   \n",
       "2              10                              4          2   \n",
       "\n",
       "   truncated_hour_diff  \n",
       "0                  0.0  \n",
       "1                  0.0  \n",
       "2                  1.0  "
      ]
     },
     "execution_count": 34,
     "metadata": {},
     "output_type": "execute_result"
    }
   ],
   "source": [
    "New_Responses.head(3)"
   ]
  },
  {
   "cell_type": "code",
   "execution_count": 35,
   "metadata": {},
   "outputs": [
    {
     "name": "stdout",
     "output_type": "stream",
     "text": [
      "col_0      count\n",
      "hour_slot       \n",
      "1              2\n",
      "2              9\n",
      "3              3\n",
      "4              2\n",
      "5              1\n",
      "6              2\n",
      "9              2\n",
      "10             1\n",
      "12             2\n",
      "13             3\n",
      "14             1\n",
      "16             1\n",
      "25             1\n",
      "27             6\n",
      "28            11\n",
      "29             3\n",
      "30             2\n",
      "31             1\n",
      "32             1\n",
      "33             2\n",
      "35             1\n",
      "36             1\n",
      "37             2\n",
      "38             4\n",
      "39             2\n"
     ]
    },
    {
     "data": {
      "text/plain": [
       "[<matplotlib.lines.Line2D at 0x7fac69d423a0>]"
      ]
     },
     "execution_count": 35,
     "metadata": {},
     "output_type": "execute_result"
    },
    {
     "data": {
      "text/plain": [
       "Text(0.5, 0, 'Time in hours')"
      ]
     },
     "execution_count": 35,
     "metadata": {},
     "output_type": "execute_result"
    },
    {
     "data": {
      "text/plain": [
       "Text(0, 0.5, 'Response arrival count')"
      ]
     },
     "execution_count": 35,
     "metadata": {},
     "output_type": "execute_result"
    },
    {
     "data": {
      "text/plain": [
       "Text(0.5, 1.0, 'Timeseries plot: Response arrival count')"
      ]
     },
     "execution_count": 35,
     "metadata": {},
     "output_type": "execute_result"
    },
    {
     "name": "stderr",
     "output_type": "stream",
     "text": [
      "No handles with labels found to put in legend.\n"
     ]
    },
    {
     "data": {
      "text/plain": [
       "<matplotlib.legend.Legend at 0x7fac69ef0430>"
      ]
     },
     "execution_count": 35,
     "metadata": {},
     "output_type": "execute_result"
    },
    {
     "data": {
      "image/png": "[encoded data removed]",
      "text/plain": [
       "<Figure size 432x288 with 1 Axes>"
      ]
     },
     "metadata": {
      "needs_background": "light"
     },
     "output_type": "display_data"
    }
   ],
   "source": [
    "# Question 12\n",
    "table = pd.crosstab(index=New_Responses.hour_slot, columns=\"count\")\n",
    "print(table)\n",
    "\n",
    "plt.plot(table, color='green', marker='o', linestyle='dashed',linewidth=2, markersize=12)\n",
    "plt.xlabel('Time in hours')\n",
    "plt.ylabel('Response arrival count')\n",
    "plt.title('Timeseries plot: Response arrival count')\n",
    "plt.legend()\n",
    "plt.show()"
   ]
  },
  {
   "cell_type": "markdown",
   "metadata": {},
   "source": [
    "Question 14:\n",
    "* We can create word cloud on the free flow text variables\n",
    "* Sentiment analysis: classify statements as indifferent, postive, negative etc."
   ]
  }
 ],
 "metadata": {
  "kernelspec": {
   "display_name": "Python 3",
   "language": "python",
   "name": "python3"
  },
  "language_info": {
   "codemirror_mode": {
    "name": "ipython",
    "version": 3
   },
   "file_extension": ".py",
   "mimetype": "text/x-python",
   "name": "python",
   "nbconvert_exporter": "python",
   "pygments_lexer": "ipython3",
   "version": "3.8.3"
  }
 },
 "nbformat": 4,
 "nbformat_minor": 4
}
